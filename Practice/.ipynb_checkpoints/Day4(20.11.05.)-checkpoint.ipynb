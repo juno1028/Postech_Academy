{
 "cells": [
  {
   "cell_type": "code",
   "execution_count": 2,
   "metadata": {},
   "outputs": [
    {
     "name": "stdout",
     "output_type": "stream",
     "text": [
      "6\n",
      "14\n"
     ]
    }
   ],
   "source": [
    "a = [5,5,6,7,8,3]\n",
    "b = 'Life is short.'\n",
    "\n",
    "length_a = 0\n",
    "for i in a:\n",
    "    length_a += 1\n",
    "print(length_a)\n",
    "\n",
    "length_b = 0\n",
    "for i in b:\n",
    "    length_b += 1\n",
    "print(length_b)"
   ]
  },
  {
   "cell_type": "code",
   "execution_count": 10,
   "metadata": {},
   "outputs": [],
   "source": [
    "def get_length(elem):\n",
    "    count = 0\n",
    "    \n",
    "    for _ in elem:\n",
    "        count+=1\n",
    "        \n",
    "    return count"
   ]
  },
  {
   "cell_type": "code",
   "execution_count": 11,
   "metadata": {},
   "outputs": [
    {
     "data": {
      "text/plain": [
       "6"
      ]
     },
     "execution_count": 11,
     "metadata": {},
     "output_type": "execute_result"
    }
   ],
   "source": [
    "get_length(a)"
   ]
  },
  {
   "cell_type": "code",
   "execution_count": 12,
   "metadata": {},
   "outputs": [
    {
     "data": {
      "text/plain": [
       "14"
      ]
     },
     "execution_count": 12,
     "metadata": {},
     "output_type": "execute_result"
    }
   ],
   "source": [
    "get_length(b)"
   ]
  },
  {
   "cell_type": "code",
   "execution_count": 13,
   "metadata": {},
   "outputs": [
    {
     "name": "stdout",
     "output_type": "stream",
     "text": [
      "3 -1 2 0.5\n"
     ]
    }
   ],
   "source": [
    "def add(a,b):\n",
    "    return a+b\n",
    "def sub(a,b):\n",
    "    return a-b\n",
    "def mul(a,b):\n",
    "    return a*b\n",
    "def div(a,b):\n",
    "    return a/b\n",
    "\n",
    "a = 1\n",
    "b = 2\n",
    "\n",
    "c = add(a,b)\n",
    "d = sub(a,b)\n",
    "e = mul(a,b)\n",
    "f = div(a,b)\n",
    "\n",
    "print(c,d,e,f)"
   ]
  },
  {
   "cell_type": "code",
   "execution_count": 18,
   "metadata": {},
   "outputs": [],
   "source": [
    "def a(*temp):\n",
    "    # temp는 튜플로 처리된다. 여러 개를 한번에 넣을 수 있다!\n",
    "    return temp"
   ]
  },
  {
   "cell_type": "code",
   "execution_count": 19,
   "metadata": {},
   "outputs": [
    {
     "data": {
      "text/plain": [
       "(1, 2, 3, 4, 5, 66, 46, 33)"
      ]
     },
     "execution_count": 19,
     "metadata": {},
     "output_type": "execute_result"
    }
   ],
   "source": [
    "a(1,2,3,4,5,66,46,33)"
   ]
  },
  {
   "cell_type": "code",
   "execution_count": 20,
   "metadata": {},
   "outputs": [],
   "source": [
    "def a(*temp): # args\n",
    "    total = 0\n",
    "    for i in temp:\n",
    "        total += i\n",
    "    return total"
   ]
  },
  {
   "cell_type": "code",
   "execution_count": 22,
   "metadata": {},
   "outputs": [
    {
     "data": {
      "text/plain": [
       "59"
      ]
     },
     "execution_count": 22,
     "metadata": {},
     "output_type": "execute_result"
    }
   ],
   "source": [
    "a(3,2,31,23)"
   ]
  },
  {
   "cell_type": "code",
   "execution_count": 23,
   "metadata": {},
   "outputs": [
    {
     "name": "stdout",
     "output_type": "stream",
     "text": [
      "arg: hello\n",
      "5\n",
      "('a', 'b', 1, 2, 'abc')\n",
      "<class 'dict'>\n",
      "{}\n",
      "\n",
      "----------\n",
      "\n",
      "arg: 1\n",
      "2\n",
      "(2, 3)\n",
      "<class 'dict'>\n",
      "{'some': 'value', 'kim': 'sooran'}\n"
     ]
    }
   ],
   "source": [
    "def func4(arg, *args, **kwargs): # args, kwargs : args는 튜플로 바꿔서 인자 전달, kwargs는 딕셔너리로 바꿔서 전달\n",
    "    print('arg: {}'.format(arg))\n",
    "    print( len(args) )\n",
    "    print(args)\n",
    "    print( type(kwargs) )\n",
    "    print(kwargs)\n",
    "\n",
    "func4('hello', 'a', 'b', 1, 2, 'abc')\n",
    "print('\\n----------\\n')\n",
    "func4(1, 2, 3, some='value', kim='sooran')"
   ]
  },
  {
   "cell_type": "code",
   "execution_count": 26,
   "metadata": {},
   "outputs": [
    {
     "name": "stdout",
     "output_type": "stream",
     "text": [
      "My name is Gildong Hong.\n",
      "My name is Gildong Kim.\n"
     ]
    }
   ],
   "source": [
    "def printName(first, second='Kim'): # default parameter(디폴트 매개변수)\n",
    "    print('My name is', first, second + '.')\n",
    "    \n",
    "# 함수 호출\n",
    "printName('Gildong', 'Hong')\n",
    "printName('Gildong')"
   ]
  },
  {
   "cell_type": "code",
   "execution_count": 32,
   "metadata": {},
   "outputs": [
    {
     "data": {
      "text/plain": [
       "0.11525527834903826"
      ]
     },
     "execution_count": 32,
     "metadata": {},
     "output_type": "execute_result"
    }
   ],
   "source": [
    "import random\n",
    "\n",
    "random.choice([1,23,12,412,4])\n",
    "random.random()"
   ]
  },
  {
   "cell_type": "code",
   "execution_count": 43,
   "metadata": {},
   "outputs": [
    {
     "name": "stdout",
     "output_type": "stream",
     "text": [
      "{'r': 1, 'e': 2, 'd': 1, ' ': 1, 'a': 1, 'p': 2, 'l': 1}\n",
      "e\n"
     ]
    }
   ],
   "source": [
    "def letter_dict(string):\n",
    "    char_dict = {}\n",
    "    for char in string:\n",
    "        if char in char_dict:\n",
    "            char_dict[char] += 1\n",
    "        else:\n",
    "            char_dict[char] = 1\n",
    "    return char_dict\n",
    "    \n",
    "def max_letter(input_dict):\n",
    "    sorted_input_dict = {}\n",
    "    key_with_max_value = -1\n",
    "    sorted_input_dict = sorted(input_dict.items(),reverse=True, key=lambda item: item[1])\n",
    "    key_with_max_value = sorted_input_dict[0][0]\n",
    "    return key_with_max_value\n",
    "    \n",
    "a = letter_dict('red apple')\n",
    "print(a)\n",
    "print(max_letter(a))"
   ]
  },
  {
   "cell_type": "code",
   "execution_count": null,
   "metadata": {},
   "outputs": [],
   "source": []
  }
 ],
 "metadata": {
  "kernelspec": {
   "display_name": "Python 3",
   "language": "python",
   "name": "python3"
  },
  "language_info": {
   "codemirror_mode": {
    "name": "ipython",
    "version": 3
   },
   "file_extension": ".py",
   "mimetype": "text/x-python",
   "name": "python",
   "nbconvert_exporter": "python",
   "pygments_lexer": "ipython3",
   "version": "3.8.3"
  }
 },
 "nbformat": 4,
 "nbformat_minor": 4
}
