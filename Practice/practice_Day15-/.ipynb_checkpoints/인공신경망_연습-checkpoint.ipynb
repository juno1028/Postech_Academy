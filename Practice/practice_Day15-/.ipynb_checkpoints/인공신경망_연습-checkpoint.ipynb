{
 "cells": [
  {
   "cell_type": "code",
   "execution_count": 1,
   "metadata": {},
   "outputs": [],
   "source": [
    "import pandas as pd\n",
    "import numpy as np\n",
    "import matplotlib\n",
    "import matplotlib.pyplot as plt\n",
    "import seaborn as sns\n",
    "\n",
    "#데이터 sacling\n",
    "from sklearn.preprocessing import StandardScaler\n",
    "\n",
    "#데이터 분할\n",
    "from sklearn.model_selection import train_test_split\n",
    "\n",
    "#분류 NN(MLPClassifier)\n",
    "from sklearn.neural_network import MLPClassifier\n",
    "\n",
    "#confusion matrix\n",
    "from sklearn.metrics import confusion_matrix\n",
    "\n",
    "import graphviz\n",
    "from sklearn.tree import export_graphviz\n",
    "from sklearn.model_selection import GridSearchCV"
   ]
  },
  {
   "cell_type": "code",
   "execution_count": 2,
   "metadata": {},
   "outputs": [],
   "source": [
    "matplotlib.rc('font', family = 'NanumGothic')"
   ]
  },
  {
   "cell_type": "markdown",
   "metadata": {},
   "source": [
    "### step1. 데이터 구성하기"
   ]
  },
  {
   "cell_type": "code",
   "execution_count": 6,
   "metadata": {},
   "outputs": [
    {
     "data": {
      "text/html": [
       "<div>\n",
       "<style scoped>\n",
       "    .dataframe tbody tr th:only-of-type {\n",
       "        vertical-align: middle;\n",
       "    }\n",
       "\n",
       "    .dataframe tbody tr th {\n",
       "        vertical-align: top;\n",
       "    }\n",
       "\n",
       "    .dataframe thead th {\n",
       "        text-align: right;\n",
       "    }\n",
       "</style>\n",
       "<table border=\"1\" class=\"dataframe\">\n",
       "  <thead>\n",
       "    <tr style=\"text-align: right;\">\n",
       "      <th></th>\n",
       "      <th>BAD</th>\n",
       "      <th>LOAN</th>\n",
       "      <th>MORTDUE</th>\n",
       "      <th>VALUE</th>\n",
       "      <th>REASON</th>\n",
       "      <th>JOB</th>\n",
       "      <th>YOJ</th>\n",
       "      <th>DEROG</th>\n",
       "      <th>DELINQ</th>\n",
       "      <th>CLAGE</th>\n",
       "      <th>NINQ</th>\n",
       "      <th>CLNO</th>\n",
       "      <th>DEBTINC</th>\n",
       "    </tr>\n",
       "  </thead>\n",
       "  <tbody>\n",
       "    <tr>\n",
       "      <th>0</th>\n",
       "      <td>1</td>\n",
       "      <td>1700</td>\n",
       "      <td>30548</td>\n",
       "      <td>40320.0</td>\n",
       "      <td>HomeImp</td>\n",
       "      <td>Other</td>\n",
       "      <td>9.0</td>\n",
       "      <td>0</td>\n",
       "      <td>0.0</td>\n",
       "      <td>101.466002</td>\n",
       "      <td>1.0</td>\n",
       "      <td>8</td>\n",
       "      <td>37.113614</td>\n",
       "    </tr>\n",
       "    <tr>\n",
       "      <th>1</th>\n",
       "      <td>1</td>\n",
       "      <td>1800</td>\n",
       "      <td>28502</td>\n",
       "      <td>43034.0</td>\n",
       "      <td>HomeImp</td>\n",
       "      <td>Other</td>\n",
       "      <td>11.0</td>\n",
       "      <td>0</td>\n",
       "      <td>0.0</td>\n",
       "      <td>88.766030</td>\n",
       "      <td>0.0</td>\n",
       "      <td>8</td>\n",
       "      <td>36.884894</td>\n",
       "    </tr>\n",
       "    <tr>\n",
       "      <th>2</th>\n",
       "      <td>0</td>\n",
       "      <td>2300</td>\n",
       "      <td>102370</td>\n",
       "      <td>120953.0</td>\n",
       "      <td>HomeImp</td>\n",
       "      <td>Office</td>\n",
       "      <td>2.0</td>\n",
       "      <td>0</td>\n",
       "      <td>0.0</td>\n",
       "      <td>90.992533</td>\n",
       "      <td>0.0</td>\n",
       "      <td>13</td>\n",
       "      <td>31.588503</td>\n",
       "    </tr>\n",
       "    <tr>\n",
       "      <th>3</th>\n",
       "      <td>1</td>\n",
       "      <td>2400</td>\n",
       "      <td>34863</td>\n",
       "      <td>47471.0</td>\n",
       "      <td>HomeImp</td>\n",
       "      <td>Mgr</td>\n",
       "      <td>12.0</td>\n",
       "      <td>0</td>\n",
       "      <td>0.0</td>\n",
       "      <td>70.491080</td>\n",
       "      <td>1.0</td>\n",
       "      <td>21</td>\n",
       "      <td>38.263601</td>\n",
       "    </tr>\n",
       "    <tr>\n",
       "      <th>4</th>\n",
       "      <td>0</td>\n",
       "      <td>2400</td>\n",
       "      <td>98449</td>\n",
       "      <td>117195.0</td>\n",
       "      <td>HomeImp</td>\n",
       "      <td>Office</td>\n",
       "      <td>4.0</td>\n",
       "      <td>0</td>\n",
       "      <td>0.0</td>\n",
       "      <td>93.811775</td>\n",
       "      <td>0.0</td>\n",
       "      <td>13</td>\n",
       "      <td>29.681827</td>\n",
       "    </tr>\n",
       "  </tbody>\n",
       "</table>\n",
       "</div>"
      ],
      "text/plain": [
       "   BAD  LOAN  MORTDUE     VALUE   REASON     JOB   YOJ  DEROG  DELINQ  \\\n",
       "0    1  1700    30548   40320.0  HomeImp   Other   9.0      0     0.0   \n",
       "1    1  1800    28502   43034.0  HomeImp   Other  11.0      0     0.0   \n",
       "2    0  2300   102370  120953.0  HomeImp  Office   2.0      0     0.0   \n",
       "3    1  2400    34863   47471.0  HomeImp     Mgr  12.0      0     0.0   \n",
       "4    0  2400    98449  117195.0  HomeImp  Office   4.0      0     0.0   \n",
       "\n",
       "        CLAGE  NINQ  CLNO    DEBTINC  \n",
       "0  101.466002   1.0     8  37.113614  \n",
       "1   88.766030   0.0     8  36.884894  \n",
       "2   90.992533   0.0    13  31.588503  \n",
       "3   70.491080   1.0    21  38.263601  \n",
       "4   93.811775   0.0    13  29.681827  "
      ]
     },
     "execution_count": 6,
     "metadata": {},
     "output_type": "execute_result"
    }
   ],
   "source": [
    "df_raw = pd.read_csv(\"/home/piai/test/Practice/data/HMEQ.csv\", engine=\"python\",encoding=\"EUC-KR\")\n",
    "df_raw.head()"
   ]
  },
  {
   "cell_type": "markdown",
   "metadata": {},
   "source": [
    "### - 결측치 제거"
   ]
  },
  {
   "cell_type": "code",
   "execution_count": 7,
   "metadata": {},
   "outputs": [
    {
     "data": {
      "text/plain": [
       "BAD        0\n",
       "LOAN       0\n",
       "MORTDUE    0\n",
       "VALUE      0\n",
       "REASON     0\n",
       "JOB        0\n",
       "YOJ        0\n",
       "DEROG      0\n",
       "DELINQ     0\n",
       "CLAGE      0\n",
       "NINQ       0\n",
       "CLNO       0\n",
       "DEBTINC    0\n",
       "dtype: int64"
      ]
     },
     "execution_count": 7,
     "metadata": {},
     "output_type": "execute_result"
    }
   ],
   "source": [
    "df_raw['JOB'].value_counts()\n",
    "#결측치 대체 함수. \n",
    "#JOB 변수의 결측치는 other 로 대체\n",
    "df_raw['JOB'].fillna('Other', inplace = True)\n",
    "\n",
    "#숫자형 변수의 결측치는 해당 변수의 평균값 입력\n",
    "df_raw.fillna(df_raw.mean(), inplace = True)\n",
    "df_raw.isnull().sum(axis = 0)"
   ]
  },
  {
   "cell_type": "code",
   "execution_count": 8,
   "metadata": {},
   "outputs": [
    {
     "data": {
      "text/html": [
       "<div>\n",
       "<style scoped>\n",
       "    .dataframe tbody tr th:only-of-type {\n",
       "        vertical-align: middle;\n",
       "    }\n",
       "\n",
       "    .dataframe tbody tr th {\n",
       "        vertical-align: top;\n",
       "    }\n",
       "\n",
       "    .dataframe thead th {\n",
       "        text-align: right;\n",
       "    }\n",
       "</style>\n",
       "<table border=\"1\" class=\"dataframe\">\n",
       "  <thead>\n",
       "    <tr style=\"text-align: right;\">\n",
       "      <th></th>\n",
       "      <th>BAD</th>\n",
       "      <th>LOAN</th>\n",
       "      <th>MORTDUE</th>\n",
       "      <th>VALUE</th>\n",
       "      <th>YOJ</th>\n",
       "      <th>DEROG</th>\n",
       "      <th>DELINQ</th>\n",
       "      <th>CLAGE</th>\n",
       "      <th>NINQ</th>\n",
       "      <th>CLNO</th>\n",
       "      <th>DEBTINC</th>\n",
       "      <th>REASON_DebtCon</th>\n",
       "      <th>REASON_HomeImp</th>\n",
       "      <th>JOB_Mgr</th>\n",
       "      <th>JOB_Office</th>\n",
       "      <th>JOB_Other</th>\n",
       "      <th>JOB_ProfExe</th>\n",
       "      <th>JOB_Sales</th>\n",
       "      <th>JOB_Self</th>\n",
       "    </tr>\n",
       "  </thead>\n",
       "  <tbody>\n",
       "    <tr>\n",
       "      <th>0</th>\n",
       "      <td>1</td>\n",
       "      <td>1700</td>\n",
       "      <td>30548</td>\n",
       "      <td>40320.0</td>\n",
       "      <td>9.0</td>\n",
       "      <td>0</td>\n",
       "      <td>0.0</td>\n",
       "      <td>101.466002</td>\n",
       "      <td>1.0</td>\n",
       "      <td>8</td>\n",
       "      <td>37.113614</td>\n",
       "      <td>0</td>\n",
       "      <td>1</td>\n",
       "      <td>0</td>\n",
       "      <td>0</td>\n",
       "      <td>1</td>\n",
       "      <td>0</td>\n",
       "      <td>0</td>\n",
       "      <td>0</td>\n",
       "    </tr>\n",
       "    <tr>\n",
       "      <th>1</th>\n",
       "      <td>1</td>\n",
       "      <td>1800</td>\n",
       "      <td>28502</td>\n",
       "      <td>43034.0</td>\n",
       "      <td>11.0</td>\n",
       "      <td>0</td>\n",
       "      <td>0.0</td>\n",
       "      <td>88.766030</td>\n",
       "      <td>0.0</td>\n",
       "      <td>8</td>\n",
       "      <td>36.884894</td>\n",
       "      <td>0</td>\n",
       "      <td>1</td>\n",
       "      <td>0</td>\n",
       "      <td>0</td>\n",
       "      <td>1</td>\n",
       "      <td>0</td>\n",
       "      <td>0</td>\n",
       "      <td>0</td>\n",
       "    </tr>\n",
       "    <tr>\n",
       "      <th>2</th>\n",
       "      <td>0</td>\n",
       "      <td>2300</td>\n",
       "      <td>102370</td>\n",
       "      <td>120953.0</td>\n",
       "      <td>2.0</td>\n",
       "      <td>0</td>\n",
       "      <td>0.0</td>\n",
       "      <td>90.992533</td>\n",
       "      <td>0.0</td>\n",
       "      <td>13</td>\n",
       "      <td>31.588503</td>\n",
       "      <td>0</td>\n",
       "      <td>1</td>\n",
       "      <td>0</td>\n",
       "      <td>1</td>\n",
       "      <td>0</td>\n",
       "      <td>0</td>\n",
       "      <td>0</td>\n",
       "      <td>0</td>\n",
       "    </tr>\n",
       "    <tr>\n",
       "      <th>3</th>\n",
       "      <td>1</td>\n",
       "      <td>2400</td>\n",
       "      <td>34863</td>\n",
       "      <td>47471.0</td>\n",
       "      <td>12.0</td>\n",
       "      <td>0</td>\n",
       "      <td>0.0</td>\n",
       "      <td>70.491080</td>\n",
       "      <td>1.0</td>\n",
       "      <td>21</td>\n",
       "      <td>38.263601</td>\n",
       "      <td>0</td>\n",
       "      <td>1</td>\n",
       "      <td>1</td>\n",
       "      <td>0</td>\n",
       "      <td>0</td>\n",
       "      <td>0</td>\n",
       "      <td>0</td>\n",
       "      <td>0</td>\n",
       "    </tr>\n",
       "    <tr>\n",
       "      <th>4</th>\n",
       "      <td>0</td>\n",
       "      <td>2400</td>\n",
       "      <td>98449</td>\n",
       "      <td>117195.0</td>\n",
       "      <td>4.0</td>\n",
       "      <td>0</td>\n",
       "      <td>0.0</td>\n",
       "      <td>93.811775</td>\n",
       "      <td>0.0</td>\n",
       "      <td>13</td>\n",
       "      <td>29.681827</td>\n",
       "      <td>0</td>\n",
       "      <td>1</td>\n",
       "      <td>0</td>\n",
       "      <td>1</td>\n",
       "      <td>0</td>\n",
       "      <td>0</td>\n",
       "      <td>0</td>\n",
       "      <td>0</td>\n",
       "    </tr>\n",
       "  </tbody>\n",
       "</table>\n",
       "</div>"
      ],
      "text/plain": [
       "   BAD  LOAN  MORTDUE     VALUE   YOJ  DEROG  DELINQ       CLAGE  NINQ  CLNO  \\\n",
       "0    1  1700    30548   40320.0   9.0      0     0.0  101.466002   1.0     8   \n",
       "1    1  1800    28502   43034.0  11.0      0     0.0   88.766030   0.0     8   \n",
       "2    0  2300   102370  120953.0   2.0      0     0.0   90.992533   0.0    13   \n",
       "3    1  2400    34863   47471.0  12.0      0     0.0   70.491080   1.0    21   \n",
       "4    0  2400    98449  117195.0   4.0      0     0.0   93.811775   0.0    13   \n",
       "\n",
       "     DEBTINC  REASON_DebtCon  REASON_HomeImp  JOB_Mgr  JOB_Office  JOB_Other  \\\n",
       "0  37.113614               0               1        0           0          1   \n",
       "1  36.884894               0               1        0           0          1   \n",
       "2  31.588503               0               1        0           1          0   \n",
       "3  38.263601               0               1        1           0          0   \n",
       "4  29.681827               0               1        0           1          0   \n",
       "\n",
       "   JOB_ProfExe  JOB_Sales  JOB_Self  \n",
       "0            0          0         0  \n",
       "1            0          0         0  \n",
       "2            0          0         0  \n",
       "3            0          0         0  \n",
       "4            0          0         0  "
      ]
     },
     "execution_count": 8,
     "metadata": {},
     "output_type": "execute_result"
    }
   ],
   "source": [
    "#get_dummies : 데이터의 문자형 변수에 대한 더미변수 생성\n",
    "df_raw_dummy = pd.get_dummies(df_raw)\n",
    "\n",
    "#더미변수 생성된 데이터의 상위5개 row 확인\n",
    "df_raw_dummy.head()"
   ]
  },
  {
   "cell_type": "markdown",
   "metadata": {},
   "source": [
    "### - 데이터 분할"
   ]
  },
  {
   "cell_type": "code",
   "execution_count": 9,
   "metadata": {},
   "outputs": [
    {
     "name": "stdout",
     "output_type": "stream",
     "text": [
      "train data X size :(2623, 18)\n",
      "train data Y size :(2623,)\n",
      "test data X size :(1125, 18)\n",
      "test data Y size :(1125,)\n"
     ]
    }
   ],
   "source": [
    "#train_test_split (X : 설명변수 데이터, Y : 목표변수 데이터, test_size = test 데이터 비율, random_state : random seed)\n",
    "\n",
    "#목표변수, 설명변수 데이터 지정\n",
    "df_raw_y = df_raw_dummy['BAD']\n",
    "df_raw_x = df_raw_dummy.drop('BAD', axis = 1 , inplace = False)\n",
    "\n",
    "df_train_x, df_test_x, df_train_y, df_test_y = train_test_split(df_raw_x, df_raw_y, \n",
    "                                                                test_size = 0.3, random_state = 1234)\n",
    "print(f'train data X size :{df_train_x.shape}')\n",
    "print(f'train data Y size :{df_train_y.shape}')\n",
    "print(f'test data X size :{df_test_x.shape}')\n",
    "print(f'test data Y size :{df_test_y.shape}')"
   ]
  },
  {
   "cell_type": "markdown",
   "metadata": {},
   "source": [
    "### step2: MLPClassifier 모델 생성\n"
   ]
  },
  {
   "cell_type": "code",
   "execution_count": 10,
   "metadata": {
    "scrolled": true
   },
   "outputs": [
    {
     "name": "stdout",
     "output_type": "stream",
     "text": [
      "Accuracy on training set : 0.722\n",
      "Accuracy on test set : 0.683\n"
     ]
    }
   ],
   "source": [
    "#모델 생성\n",
    "nn_uncustomized = MLPClassifier(random_state = 1234)\n",
    "nn_uncustomized.fit(df_train_x, df_train_y)\n",
    "\n",
    "#train 데이터 셋 정확도\n",
    "print('Accuracy on training set : {:.3f}'.format(nn_uncustomized.score(df_train_x, df_train_y)))\n",
    "\n",
    "#test 데이터 셋 정확도\n",
    "print('Accuracy on test set : {:.3f}'.format(nn_uncustomized.score(df_test_x, df_test_y)))"
   ]
  },
  {
   "cell_type": "code",
   "execution_count": 11,
   "metadata": {},
   "outputs": [
    {
     "data": {
      "text/plain": [
       "MLPClassifier(random_state=1234)"
      ]
     },
     "execution_count": 11,
     "metadata": {},
     "output_type": "execute_result"
    }
   ],
   "source": [
    "nn_uncustomized"
   ]
  },
  {
   "cell_type": "markdown",
   "metadata": {},
   "source": [
    "### MLPClassifier 모델 parameter 변경\n",
    "\n",
    "### - Hidden layer : 은닉층 변경"
   ]
  },
  {
   "cell_type": "code",
   "execution_count": 12,
   "metadata": {},
   "outputs": [
    {
     "data": {
      "text/html": [
       "<div>\n",
       "<style scoped>\n",
       "    .dataframe tbody tr th:only-of-type {\n",
       "        vertical-align: middle;\n",
       "    }\n",
       "\n",
       "    .dataframe tbody tr th {\n",
       "        vertical-align: top;\n",
       "    }\n",
       "\n",
       "    .dataframe thead th {\n",
       "        text-align: right;\n",
       "    }\n",
       "</style>\n",
       "<table border=\"1\" class=\"dataframe\">\n",
       "  <thead>\n",
       "    <tr style=\"text-align: right;\">\n",
       "      <th></th>\n",
       "      <th>HiddenLayer</th>\n",
       "      <th>Trainaccuracy</th>\n",
       "      <th>Testaccuracy</th>\n",
       "    </tr>\n",
       "  </thead>\n",
       "  <tbody>\n",
       "    <tr>\n",
       "      <th>0</th>\n",
       "      <td>20</td>\n",
       "      <td>0.906</td>\n",
       "      <td>0.903</td>\n",
       "    </tr>\n",
       "    <tr>\n",
       "      <th>1</th>\n",
       "      <td>40</td>\n",
       "      <td>0.886</td>\n",
       "      <td>0.879</td>\n",
       "    </tr>\n",
       "    <tr>\n",
       "      <th>2</th>\n",
       "      <td>60</td>\n",
       "      <td>0.909</td>\n",
       "      <td>0.908</td>\n",
       "    </tr>\n",
       "    <tr>\n",
       "      <th>3</th>\n",
       "      <td>80</td>\n",
       "      <td>0.910</td>\n",
       "      <td>0.909</td>\n",
       "    </tr>\n",
       "    <tr>\n",
       "      <th>4</th>\n",
       "      <td>100</td>\n",
       "      <td>0.722</td>\n",
       "      <td>0.683</td>\n",
       "    </tr>\n",
       "    <tr>\n",
       "      <th>5</th>\n",
       "      <td>120</td>\n",
       "      <td>0.909</td>\n",
       "      <td>0.908</td>\n",
       "    </tr>\n",
       "    <tr>\n",
       "      <th>6</th>\n",
       "      <td>140</td>\n",
       "      <td>0.213</td>\n",
       "      <td>0.193</td>\n",
       "    </tr>\n",
       "    <tr>\n",
       "      <th>7</th>\n",
       "      <td>160</td>\n",
       "      <td>0.907</td>\n",
       "      <td>0.907</td>\n",
       "    </tr>\n",
       "  </tbody>\n",
       "</table>\n",
       "</div>"
      ],
      "text/plain": [
       "   HiddenLayer  Trainaccuracy  Testaccuracy\n",
       "0           20          0.906         0.903\n",
       "1           40          0.886         0.879\n",
       "2           60          0.909         0.908\n",
       "3           80          0.910         0.909\n",
       "4          100          0.722         0.683\n",
       "5          120          0.909         0.908\n",
       "6          140          0.213         0.193\n",
       "7          160          0.907         0.907"
      ]
     },
     "execution_count": 12,
     "metadata": {},
     "output_type": "execute_result"
    }
   ],
   "source": [
    "#train 및 test 설명력 결과 저장\n",
    "train_accuracy = []\n",
    "test_accuracy = []\n",
    "\n",
    "#hidden_layer_sizes : 은닉층 변경 (20,40,60,80,100,120,140,160)\n",
    "para_hidden= [hidden * 20 for hidden in range(1,9)]\n",
    "for v_hidden in para_hidden:\n",
    "    nn = MLPClassifier(random_state = 1234 , \n",
    "             hidden_layer_sizes = v_hidden)\n",
    "    nn.fit(df_train_x, df_train_y)\n",
    "    train_accuracy.append(nn.score(df_train_x, df_train_y))\n",
    "    test_accuracy.append(nn.score(df_test_x, df_test_y))\n",
    "    \n",
    "#결과 저장\n",
    "df_accuracy_hidden = pd.DataFrame()\n",
    "df_accuracy_hidden['HiddenLayer'] = para_hidden\n",
    "df_accuracy_hidden['Trainaccuracy'] = train_accuracy\n",
    "df_accuracy_hidden['Testaccuracy'] = test_accuracy\n",
    "df_accuracy_hidden.round(3)"
   ]
  },
  {
   "cell_type": "markdown",
   "metadata": {},
   "source": [
    "### - Hidden layer : 은닉층 변경도 결과 "
   ]
  },
  {
   "cell_type": "code",
   "execution_count": 13,
   "metadata": {},
   "outputs": [
    {
     "data": {
      "text/plain": [
       "<matplotlib.legend.Legend at 0x7ffa8f778ac0>"
      ]
     },
     "execution_count": 13,
     "metadata": {},
     "output_type": "execute_result"
    },
    {
     "name": "stderr",
     "output_type": "stream",
     "text": [
      "findfont: Font family ['NanumGothic'] not found. Falling back to DejaVu Sans.\n"
     ]
    },
    {
     "data": {
      "image/png": "[encoded data removed]",
      "text/plain": [
       "<Figure size 432x288 with 1 Axes>"
      ]
     },
     "metadata": {
      "needs_background": "light"
     },
     "output_type": "display_data"
    }
   ],
   "source": [
    "#모델 설명력 그래프 확인\n",
    "plt.plot(para_hidden, train_accuracy, linestyle = \"-\", label = 'Train Accuracy')\n",
    "plt.plot(para_hidden, test_accuracy, linestyle = \"--\", label = 'Test Accuracy')\n",
    "plt.xlabel('Hidden Layer')\n",
    "plt.ylabel('accuracy')\n",
    "plt.legend()"
   ]
  },
  {
   "cell_type": "markdown",
   "metadata": {},
   "source": [
    "### - Activation: 활성화 함수 변경"
   ]
  },
  {
   "cell_type": "code",
   "execution_count": 14,
   "metadata": {},
   "outputs": [
    {
     "data": {
      "text/html": [
       "<div>\n",
       "<style scoped>\n",
       "    .dataframe tbody tr th:only-of-type {\n",
       "        vertical-align: middle;\n",
       "    }\n",
       "\n",
       "    .dataframe tbody tr th {\n",
       "        vertical-align: top;\n",
       "    }\n",
       "\n",
       "    .dataframe thead th {\n",
       "        text-align: right;\n",
       "    }\n",
       "</style>\n",
       "<table border=\"1\" class=\"dataframe\">\n",
       "  <thead>\n",
       "    <tr style=\"text-align: right;\">\n",
       "      <th></th>\n",
       "      <th>ActivationFunction</th>\n",
       "      <th>Trainaccuracy</th>\n",
       "      <th>Testaccuracy</th>\n",
       "    </tr>\n",
       "  </thead>\n",
       "  <tbody>\n",
       "    <tr>\n",
       "      <th>0</th>\n",
       "      <td>logistic</td>\n",
       "      <td>0.908</td>\n",
       "      <td>0.908</td>\n",
       "    </tr>\n",
       "    <tr>\n",
       "      <th>1</th>\n",
       "      <td>tanh</td>\n",
       "      <td>0.908</td>\n",
       "      <td>0.908</td>\n",
       "    </tr>\n",
       "    <tr>\n",
       "      <th>2</th>\n",
       "      <td>relu</td>\n",
       "      <td>0.722</td>\n",
       "      <td>0.683</td>\n",
       "    </tr>\n",
       "  </tbody>\n",
       "</table>\n",
       "</div>"
      ],
      "text/plain": [
       "  ActivationFunction  Trainaccuracy  Testaccuracy\n",
       "0           logistic          0.908         0.908\n",
       "1               tanh          0.908         0.908\n",
       "2               relu          0.722         0.683"
      ]
     },
     "execution_count": 14,
     "metadata": {},
     "output_type": "execute_result"
    }
   ],
   "source": [
    "#train 및 test 설명력 결과 저장\n",
    "train_accuracy = []\n",
    "test_accuracy = []\n",
    "\n",
    "#activation 변경\n",
    "para_function = ['logistic','tanh','relu']\n",
    "\n",
    "for v_function in para_function:\n",
    "    nn = MLPClassifier(random_state = 1234 , \n",
    "             activation = v_function)\n",
    "    nn.fit(df_train_x, df_train_y)\n",
    "    train_accuracy.append(nn.score(df_train_x, df_train_y))\n",
    "    test_accuracy.append(nn.score(df_test_x, df_test_y))\n",
    "    \n",
    "#결과 저장\n",
    "df_accuracy_function = pd.DataFrame()\n",
    "df_accuracy_function['ActivationFunction'] = para_function\n",
    "df_accuracy_function['Trainaccuracy'] = train_accuracy\n",
    "df_accuracy_function['Testaccuracy'] = test_accuracy\n",
    "df_accuracy_function.round(3)"
   ]
  },
  {
   "cell_type": "markdown",
   "metadata": {},
   "source": [
    "### - Activation: 활성화 함수 변경 결과"
   ]
  },
  {
   "cell_type": "code",
   "execution_count": 15,
   "metadata": {},
   "outputs": [
    {
     "data": {
      "text/plain": [
       "<matplotlib.legend.Legend at 0x7ffa8f853dc0>"
      ]
     },
     "execution_count": 15,
     "metadata": {},
     "output_type": "execute_result"
    },
    {
     "data": {
      "image/png": "[encoded data removed]",
      "text/plain": [
       "<Figure size 432x288 with 1 Axes>"
      ]
     },
     "metadata": {
      "needs_background": "light"
     },
     "output_type": "display_data"
    }
   ],
   "source": [
    "#모델 설명력 그래프 확인\n",
    "plt.plot(para_function, train_accuracy, linestyle = \"-\", label = 'Train Accuracy')\n",
    "plt.plot(para_function, test_accuracy, linestyle = \"--\", label = 'Test Accuracy')\n",
    "plt.xlabel('Activation Function')\n",
    "plt.ylabel('accuracy')\n",
    "plt.legend()"
   ]
  },
  {
   "cell_type": "markdown",
   "metadata": {},
   "source": [
    "### - Standardscaler: 설명변수 scale 변경\n"
   ]
  },
  {
   "cell_type": "code",
   "execution_count": 16,
   "metadata": {},
   "outputs": [
    {
     "data": {
      "text/html": [
       "<div>\n",
       "<style scoped>\n",
       "    .dataframe tbody tr th:only-of-type {\n",
       "        vertical-align: middle;\n",
       "    }\n",
       "\n",
       "    .dataframe tbody tr th {\n",
       "        vertical-align: top;\n",
       "    }\n",
       "\n",
       "    .dataframe thead th {\n",
       "        text-align: right;\n",
       "    }\n",
       "</style>\n",
       "<table border=\"1\" class=\"dataframe\">\n",
       "  <thead>\n",
       "    <tr style=\"text-align: right;\">\n",
       "      <th></th>\n",
       "      <th>LOAN</th>\n",
       "      <th>MORTDUE</th>\n",
       "      <th>VALUE</th>\n",
       "      <th>YOJ</th>\n",
       "      <th>DEROG</th>\n",
       "      <th>DELINQ</th>\n",
       "      <th>CLAGE</th>\n",
       "      <th>NINQ</th>\n",
       "      <th>CLNO</th>\n",
       "      <th>DEBTINC</th>\n",
       "      <th>REASON_DebtCon</th>\n",
       "      <th>REASON_HomeImp</th>\n",
       "      <th>JOB_Mgr</th>\n",
       "      <th>JOB_Office</th>\n",
       "      <th>JOB_Other</th>\n",
       "      <th>JOB_ProfExe</th>\n",
       "      <th>JOB_Sales</th>\n",
       "      <th>JOB_Self</th>\n",
       "    </tr>\n",
       "  </thead>\n",
       "  <tbody>\n",
       "    <tr>\n",
       "      <th>0</th>\n",
       "      <td>-1.559587</td>\n",
       "      <td>-0.993626</td>\n",
       "      <td>-1.224910</td>\n",
       "      <td>-0.017563</td>\n",
       "      <td>-0.267462</td>\n",
       "      <td>-0.342558</td>\n",
       "      <td>-0.967342</td>\n",
       "      <td>-0.018776</td>\n",
       "      <td>-1.428350</td>\n",
       "      <td>0.356347</td>\n",
       "      <td>-1.548549</td>\n",
       "      <td>1.548549</td>\n",
       "      <td>-0.381873</td>\n",
       "      <td>-0.446497</td>\n",
       "      <td>1.207355</td>\n",
       "      <td>-0.574064</td>\n",
       "      <td>-0.131804</td>\n",
       "      <td>-0.189556</td>\n",
       "    </tr>\n",
       "    <tr>\n",
       "      <th>1</th>\n",
       "      <td>-1.550817</td>\n",
       "      <td>-1.039240</td>\n",
       "      <td>-1.174897</td>\n",
       "      <td>0.251809</td>\n",
       "      <td>-0.267462</td>\n",
       "      <td>-0.342558</td>\n",
       "      <td>-1.122053</td>\n",
       "      <td>-0.666629</td>\n",
       "      <td>-1.428350</td>\n",
       "      <td>0.329025</td>\n",
       "      <td>-1.548549</td>\n",
       "      <td>1.548549</td>\n",
       "      <td>-0.381873</td>\n",
       "      <td>-0.446497</td>\n",
       "      <td>1.207355</td>\n",
       "      <td>-0.574064</td>\n",
       "      <td>-0.131804</td>\n",
       "      <td>-0.189556</td>\n",
       "    </tr>\n",
       "    <tr>\n",
       "      <th>2</th>\n",
       "      <td>-1.506968</td>\n",
       "      <td>0.607570</td>\n",
       "      <td>0.260973</td>\n",
       "      <td>-0.960364</td>\n",
       "      <td>-0.267462</td>\n",
       "      <td>-0.342558</td>\n",
       "      <td>-1.094930</td>\n",
       "      <td>-0.666629</td>\n",
       "      <td>-0.905133</td>\n",
       "      <td>-0.303684</td>\n",
       "      <td>-1.548549</td>\n",
       "      <td>1.548549</td>\n",
       "      <td>-0.381873</td>\n",
       "      <td>2.239654</td>\n",
       "      <td>-0.828257</td>\n",
       "      <td>-0.574064</td>\n",
       "      <td>-0.131804</td>\n",
       "      <td>-0.189556</td>\n",
       "    </tr>\n",
       "    <tr>\n",
       "      <th>3</th>\n",
       "      <td>-1.498198</td>\n",
       "      <td>-0.897428</td>\n",
       "      <td>-1.093133</td>\n",
       "      <td>0.386495</td>\n",
       "      <td>-0.267462</td>\n",
       "      <td>-0.342558</td>\n",
       "      <td>-1.344679</td>\n",
       "      <td>-0.018776</td>\n",
       "      <td>-0.067985</td>\n",
       "      <td>0.493725</td>\n",
       "      <td>-1.548549</td>\n",
       "      <td>1.548549</td>\n",
       "      <td>2.618672</td>\n",
       "      <td>-0.446497</td>\n",
       "      <td>-0.828257</td>\n",
       "      <td>-0.574064</td>\n",
       "      <td>-0.131804</td>\n",
       "      <td>-0.189556</td>\n",
       "    </tr>\n",
       "    <tr>\n",
       "      <th>4</th>\n",
       "      <td>-1.498198</td>\n",
       "      <td>0.520156</td>\n",
       "      <td>0.191721</td>\n",
       "      <td>-0.690992</td>\n",
       "      <td>-0.267462</td>\n",
       "      <td>-0.342558</td>\n",
       "      <td>-1.060586</td>\n",
       "      <td>-0.666629</td>\n",
       "      <td>-0.905133</td>\n",
       "      <td>-0.531456</td>\n",
       "      <td>-1.548549</td>\n",
       "      <td>1.548549</td>\n",
       "      <td>-0.381873</td>\n",
       "      <td>2.239654</td>\n",
       "      <td>-0.828257</td>\n",
       "      <td>-0.574064</td>\n",
       "      <td>-0.131804</td>\n",
       "      <td>-0.189556</td>\n",
       "    </tr>\n",
       "  </tbody>\n",
       "</table>\n",
       "</div>"
      ],
      "text/plain": [
       "       LOAN   MORTDUE     VALUE       YOJ     DEROG    DELINQ     CLAGE  \\\n",
       "0 -1.559587 -0.993626 -1.224910 -0.017563 -0.267462 -0.342558 -0.967342   \n",
       "1 -1.550817 -1.039240 -1.174897  0.251809 -0.267462 -0.342558 -1.122053   \n",
       "2 -1.506968  0.607570  0.260973 -0.960364 -0.267462 -0.342558 -1.094930   \n",
       "3 -1.498198 -0.897428 -1.093133  0.386495 -0.267462 -0.342558 -1.344679   \n",
       "4 -1.498198  0.520156  0.191721 -0.690992 -0.267462 -0.342558 -1.060586   \n",
       "\n",
       "       NINQ      CLNO   DEBTINC  REASON_DebtCon  REASON_HomeImp   JOB_Mgr  \\\n",
       "0 -0.018776 -1.428350  0.356347       -1.548549        1.548549 -0.381873   \n",
       "1 -0.666629 -1.428350  0.329025       -1.548549        1.548549 -0.381873   \n",
       "2 -0.666629 -0.905133 -0.303684       -1.548549        1.548549 -0.381873   \n",
       "3 -0.018776 -0.067985  0.493725       -1.548549        1.548549  2.618672   \n",
       "4 -0.666629 -0.905133 -0.531456       -1.548549        1.548549 -0.381873   \n",
       "\n",
       "   JOB_Office  JOB_Other  JOB_ProfExe  JOB_Sales  JOB_Self  \n",
       "0   -0.446497   1.207355    -0.574064  -0.131804 -0.189556  \n",
       "1   -0.446497   1.207355    -0.574064  -0.131804 -0.189556  \n",
       "2    2.239654  -0.828257    -0.574064  -0.131804 -0.189556  \n",
       "3   -0.446497  -0.828257    -0.574064  -0.131804 -0.189556  \n",
       "4    2.239654  -0.828257    -0.574064  -0.131804 -0.189556  "
      ]
     },
     "execution_count": 16,
     "metadata": {},
     "output_type": "execute_result"
    }
   ],
   "source": [
    "#scale 변환 - Standardscaler: 설명변수 scale 변경\n",
    "#변수명 저장\n",
    "v_feature_name = df_train_x.columns\n",
    "#StandardScaler 적용\n",
    "scaler = StandardScaler()\n",
    "df_scaled = scaler.fit_transform(df_raw_x)\n",
    "df_scaled = pd.DataFrame(df_scaled, columns=v_feature_name)\n",
    "df_scaled.head()"
   ]
  },
  {
   "cell_type": "code",
   "execution_count": 17,
   "metadata": {},
   "outputs": [
    {
     "name": "stdout",
     "output_type": "stream",
     "text": [
      "train data X size: (2623, 18)\n",
      "test data X size: (1125, 18)\n"
     ]
    }
   ],
   "source": [
    "#데이터 분할\n",
    "df_scaled_train_x, df_scaled_test_x = train_test_split(df_scaled, test_size=0.3, random_state = 1234)\n",
    "print('train data X size: {}'.format(df_scaled_train_x.shape))\n",
    "print('test data X size: {}'.format(df_scaled_test_x.shape))"
   ]
  },
  {
   "cell_type": "markdown",
   "metadata": {},
   "source": [
    "### scale 조절 후 MLPClassifier 모델 재실행\n",
    "### - scale 이 조정된 데이터로 새로운 모델 생성"
   ]
  },
  {
   "cell_type": "code",
   "execution_count": 18,
   "metadata": {},
   "outputs": [
    {
     "name": "stdout",
     "output_type": "stream",
     "text": [
      "Accuracy on training set: 0.971\n",
      "Accuracy on test set: 0.943\n"
     ]
    },
    {
     "name": "stderr",
     "output_type": "stream",
     "text": [
      "/home/piai/anaconda3/lib/python3.8/site-packages/sklearn/neural_network/_multilayer_perceptron.py:582: ConvergenceWarning: Stochastic Optimizer: Maximum iterations (200) reached and the optimization hasn't converged yet.\n",
      "  warnings.warn(\n"
     ]
    }
   ],
   "source": [
    "\n",
    "#scale 조절 후 MLPClassifier 모델 재실행 - scale이 조정된 데이터로 새로운 모델 생성\n",
    "nn_scaled = MLPClassifier(random_state=1234)\n",
    "nn_scaled.fit(df_scaled_train_x, df_train_y)\n",
    "#train 데이터 셋 정확도\n",
    "print('Accuracy on training set: {:.3f}'.format(nn_scaled.score(df_scaled_train_x, df_train_y)))\n",
    "print('Accuracy on test set: {:.3f}'.format(nn_scaled.score(df_scaled_test_x, df_test_y)))"
   ]
  },
  {
   "cell_type": "markdown",
   "metadata": {},
   "source": [
    "### - Hidden Layer: 은닉층 변경"
   ]
  },
  {
   "cell_type": "code",
   "execution_count": null,
   "metadata": {},
   "outputs": [
    {
     "name": "stderr",
     "output_type": "stream",
     "text": [
      "/home/piai/anaconda3/lib/python3.8/site-packages/sklearn/neural_network/_multilayer_perceptron.py:582: ConvergenceWarning: Stochastic Optimizer: Maximum iterations (200) reached and the optimization hasn't converged yet.\n",
      "  warnings.warn(\n",
      "/home/piai/anaconda3/lib/python3.8/site-packages/sklearn/neural_network/_multilayer_perceptron.py:582: ConvergenceWarning: Stochastic Optimizer: Maximum iterations (200) reached and the optimization hasn't converged yet.\n",
      "  warnings.warn(\n",
      "/home/piai/anaconda3/lib/python3.8/site-packages/sklearn/neural_network/_multilayer_perceptron.py:582: ConvergenceWarning: Stochastic Optimizer: Maximum iterations (200) reached and the optimization hasn't converged yet.\n",
      "  warnings.warn(\n",
      "/home/piai/anaconda3/lib/python3.8/site-packages/sklearn/neural_network/_multilayer_perceptron.py:582: ConvergenceWarning: Stochastic Optimizer: Maximum iterations (200) reached and the optimization hasn't converged yet.\n",
      "  warnings.warn(\n",
      "/home/piai/anaconda3/lib/python3.8/site-packages/sklearn/neural_network/_multilayer_perceptron.py:582: ConvergenceWarning: Stochastic Optimizer: Maximum iterations (200) reached and the optimization hasn't converged yet.\n",
      "  warnings.warn(\n",
      "/home/piai/anaconda3/lib/python3.8/site-packages/sklearn/neural_network/_multilayer_perceptron.py:582: ConvergenceWarning: Stochastic Optimizer: Maximum iterations (200) reached and the optimization hasn't converged yet.\n",
      "  warnings.warn(\n"
     ]
    }
   ],
   "source": [
    "#train 및 test 설명력 결과 저장\n",
    "train_accuracy = []\n",
    "test_accuracy = []\n",
    "\n",
    "#hidden_layer_sizes : 은닉층 변경 (20~240, by 30)\n",
    "para_hidden= [20 * hidden for hidden in range(1,11)]\n",
    "\n",
    "for v_hidden in para_hidden:\n",
    "    nn = MLPClassifier(random_state = 1234 , \n",
    "             hidden_layer_sizes = (v_hidden,v_hidden))\n",
    "    nn.fit(df_scaled_train_x, df_train_y)\n",
    "    train_accuracy.append(nn.score(df_scaled_train_x, df_train_y))\n",
    "    test_accuracy.append(nn.score(df_scaled_test_x, df_test_y))\n",
    "    \n",
    "#결과 저장\n",
    "df_accuracy_hidden = pd.DataFrame()\n",
    "df_accuracy_hidden['HiddenLayer'] = para_hidden\n",
    "df_accuracy_hidden['Trainaccuracy'] = train_accuracy\n",
    "df_accuracy_hidden['Testaccuracy'] = test_accuracy\n",
    "df_accuracy_hidden.round(3)"
   ]
  },
  {
   "cell_type": "markdown",
   "metadata": {},
   "source": [
    "### - Hidden Layer: 은닉층 변경 결과"
   ]
  },
  {
   "cell_type": "code",
   "execution_count": null,
   "metadata": {},
   "outputs": [],
   "source": [
    "#모델 설명력 그래프 확인\n",
    "plt.plot(para_hidden, train_accuracy, linestyle = \"-\", label = 'Train Accuracy')\n",
    "plt.plot(para_hidden, test_accuracy, linestyle = \"--\", label = 'Test Accuracy')\n",
    "plt.xlabel('Hidden Layer')\n",
    "plt.ylabel('accuracy')\n",
    "plt.legend()"
   ]
  },
  {
   "cell_type": "code",
   "execution_count": null,
   "metadata": {},
   "outputs": [],
   "source": [
    "#은닉층 지정(임의)\n",
    "hidden_layer_sizes = 80"
   ]
  },
  {
   "cell_type": "markdown",
   "metadata": {},
   "source": [
    "### - Activation: 활성화 함수 변경"
   ]
  },
  {
   "cell_type": "code",
   "execution_count": null,
   "metadata": {},
   "outputs": [],
   "source": [
    "# train 및 test 정확도 결과 저장용\n",
    "train_accuracy=[]; test_accuracy=[]\n",
    "#activation 변경\n",
    "para_function=[\"logistic\",\"tanh\",\"relu\"]\n",
    "for v_function in para_function:\n",
    "    nn=MLPClassifier(activation=v_function, hidden_layer_sizes=(80,80), random_state=1234)\n",
    "    nn.fit(df_scaled_train_x,df_train_y)\n",
    "    train_accuracy.append(nn.score(df_scaled_train_x,df_train_y))\n",
    "    test_accuracy.append(nn.score(df_scaled_test_x,df_test_y))\n",
    "# 데이터 테이블로 저장\n",
    "df_accuracy_function=pd.DataFrame()\n",
    "df_accuracy_function['MinSamplesSplit']= para_function\n",
    "df_accuracy_function['TrainAccuracy']=train_accuracy\n",
    "df_accuracy_function['TestAccuracy']=test_accuracy\n",
    "# Activation function별 정확도 테이블\n",
    "df_accuracy_function.round(3)"
   ]
  },
  {
   "cell_type": "markdown",
   "metadata": {},
   "source": [
    "### - Activation: 활성화 함수 변경 결과"
   ]
  },
  {
   "cell_type": "code",
   "execution_count": null,
   "metadata": {},
   "outputs": [],
   "source": [
    "# Activation function별 정확도 그래프 확인\n",
    "plt.plot(para_function,train_accuracy,linestyle='-',label='Train accuracy')\n",
    "plt.plot(para_function,test_accuracy,linestyle='--',label='Test accuracy')\n",
    "plt.ylabel('accuracy')\n",
    "plt.xlabel('function')\n",
    "plt.legend()\n",
    "# Activation Function 지정(임의)\n",
    "activation='relu'"
   ]
  },
  {
   "cell_type": "code",
   "execution_count": null,
   "metadata": {},
   "outputs": [],
   "source": [
    "#Activation Function 지정 (임의)\n",
    "activation = 'relu'"
   ]
  },
  {
   "cell_type": "markdown",
   "metadata": {},
   "source": [
    "### - Solver: 가중치 최적화 변경"
   ]
  },
  {
   "cell_type": "code",
   "execution_count": null,
   "metadata": {},
   "outputs": [],
   "source": [
    "# train 및 test 정확도 결과 저장용\n",
    "train_accuracy=[]\n",
    "test_accuracy=[]\n",
    "# solver 변경\n",
    "para_solver=['lbfgs','sgd','adam']\n",
    "for v_solver in para_solver:\n",
    "    nn=MLPClassifier(solver=v_solver,activation='relu',hidden_layer_sizes=(80,80),random_state=1234)\n",
    "    nn.fit(df_scaled_train_x,df_train_y)\n",
    "    train_accuracy.append(nn.score(df_scaled_train_x,df_train_y))\n",
    "    test_accuracy.append(nn.score(df_scaled_test_x,df_test_y))\n",
    "# 데이터 테이블로 저장\n",
    "df_accuracy_solver=pd.DataFrame()\n",
    "df_accuracy_solver['Estimators']=para_solver\n",
    "df_accuracy_solver['TrainScore']=train_accuracy\n",
    "df_accuracy_solver['TestScore']=test_accuracy\n",
    "# Solver별 정확도 테이블\n",
    "df_accuracy_solver.round(3)"
   ]
  },
  {
   "cell_type": "markdown",
   "metadata": {},
   "source": [
    "### - Solver: 가중치 최적화 변경 결과"
   ]
  },
  {
   "cell_type": "code",
   "execution_count": null,
   "metadata": {},
   "outputs": [],
   "source": [
    "# 정확도 그래프 표현\n",
    "plt.plot(para_solver,train_accuracy,linestyle='-',label='Train Accuracy')\n",
    "plt.plot(para_solver,test_accuracy,linestyle='--',label='Test Accuracy')\n",
    "plt.ylabel('accuracy')\n",
    "plt.xlabel('Solver')\n",
    "plt.legend()"
   ]
  },
  {
   "cell_type": "code",
   "execution_count": null,
   "metadata": {},
   "outputs": [],
   "source": [
    "#Solver 지정(임의)\n",
    "solver = 'adam'"
   ]
  },
  {
   "cell_type": "markdown",
   "metadata": {},
   "source": [
    "### - mini batch 변경"
   ]
  },
  {
   "cell_type": "code",
   "execution_count": null,
   "metadata": {},
   "outputs": [],
   "source": [
    "# train 및 test정확도 결과 저장용\n",
    "train_accuracy = []\n",
    "test_accuracy = []\n",
    "# Mini Batch 변경 :\n",
    "para_batch = [20 * batch for batch in range(1,10)]\n",
    "for v_batch in para_batch:\n",
    "    nn = MLPClassifier(batch_size = v_batch, solver = \"adam\", activation=\"relu\", hidden_layer_sizes = (80,80), random_state = 1234)\n",
    "    nn.fit(df_scaled_train_x, df_train_y)\n",
    "    train_accuracy.append(nn.score(df_scaled_train_x, df_train_y))\n",
    "    test_accuracy.append(nn.score(df_scaled_test_x, df_test_y))\n",
    "df_accuracy_batch = pd.DataFrame()\n",
    "df_accuracy_batch[\"Mini Batch\"] = para_batch\n",
    "df_accuracy_batch[\"TrainAccuracy\"] = train_accuracy\n",
    "df_accuracy_batch[\"TestAccuracy\"] = test_accuracy\n",
    "df_accuracy_batch.round(3)"
   ]
  },
  {
   "cell_type": "markdown",
   "metadata": {},
   "source": [
    "### - mini batch 변경 결과"
   ]
  },
  {
   "cell_type": "code",
   "execution_count": null,
   "metadata": {},
   "outputs": [],
   "source": [
    "# 정확도 그래프 표현\n",
    "plt.plot(para_batch, train_accuracy, linestyle=\"-\", label=\"Train Accuracy\")\n",
    "plt.plot(para_batch, test_accuracy, linestyle=\"--\", label=\"Test Accuracy\")\n",
    "plt.ylabel(\"accuracy\")\n",
    "plt.xlabel(\"Mini Batch Size\")\n",
    "plt.legend()"
   ]
  },
  {
   "cell_type": "markdown",
   "metadata": {},
   "source": [
    "### step3: 결론 도출\n",
    "### - 최종 모델 선택"
   ]
  },
  {
   "cell_type": "code",
   "execution_count": null,
   "metadata": {},
   "outputs": [],
   "source": [
    "#최종모델\n",
    "nn_final = MLPClassifier(hidden_layer_sizes = (80,80), activation = 'relu', solver = 'adam', \n",
    "                batch_size =100 , random_state = 1234)\n",
    "nn_final.fit(df_scaled_train_x, df_train_y)\n",
    "\n",
    "#평가\n",
    "y_pred = nn_final.predict(df_scaled_test_x)\n",
    "\n",
    "#train 데이터 셋 정확도\n",
    "print('Accuracy on training set : {:3f}'.format(nn_final.score(df_scaled_train_x, df_train_y)))\n",
    "\n",
    "#test 데이터 셋 정확도\n",
    "print('Accuracy on test set : {:3f}'.format(nn_final.score(df_scaled_test_x, df_test_y)))\n",
    "\n",
    "#confusion matrix\n",
    "print('Confusion matrix: \\n {}'.format(confusion_matrix(df_test_y, y_pred)))"
   ]
  },
  {
   "cell_type": "code",
   "execution_count": null,
   "metadata": {},
   "outputs": [],
   "source": []
  }
 ],
 "metadata": {
  "kernelspec": {
   "display_name": "Python 3",
   "language": "python",
   "name": "python3"
  },
  "language_info": {
   "codemirror_mode": {
    "name": "ipython",
    "version": 3
   },
   "file_extension": ".py",
   "mimetype": "text/x-python",
   "name": "python",
   "nbconvert_exporter": "python",
   "pygments_lexer": "ipython3",
   "version": "3.8.3"
  }
 },
 "nbformat": 4,
 "nbformat_minor": 4
}
