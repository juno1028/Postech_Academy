{
 "cells": [
  {
   "cell_type": "code",
   "execution_count": 28,
   "metadata": {},
   "outputs": [],
   "source": [
    "import pandas as pd\n",
    "import numpy as np\n",
    "\n",
    "import matplotlib.pyplot as plt\n",
    "import matplotlib\n",
    "\n",
    "from sklearn.model_selection import train_test_split\n",
    "\n",
    "import statsmodels.formula.api as smf\n",
    "\n",
    "from sklearn.tree import DecisionTreeRegressor\n",
    "from sklearn.ensemble import RandomForestRegressor\n",
    "from sklearn.ensemble import GradientBoostingRegressor\n",
    "\n",
    "from sklearn.metrics import mean_squared_error\n",
    "from sklearn.metrics import mean_absolute_error"
   ]
  },
  {
   "cell_type": "code",
   "execution_count": 29,
   "metadata": {},
   "outputs": [],
   "source": [
    "def root_mean_squared_error(y_true, y_pred):\n",
    "    return np.sqrt(mean_squared_error(y_true, y_pred))\n",
    "def mean_absolute_percentage_error(y_true, y_pred):\n",
    "    return np.mean(np.abs((y_true - y_pred) / y_true)) * 100"
   ]
  },
  {
   "cell_type": "code",
   "execution_count": 30,
   "metadata": {},
   "outputs": [
    {
     "data": {
      "text/html": [
       "<div>\n",
       "<style scoped>\n",
       "    .dataframe tbody tr th:only-of-type {\n",
       "        vertical-align: middle;\n",
       "    }\n",
       "\n",
       "    .dataframe tbody tr th {\n",
       "        vertical-align: top;\n",
       "    }\n",
       "\n",
       "    .dataframe thead th {\n",
       "        text-align: right;\n",
       "    }\n",
       "</style>\n",
       "<table border=\"1\" class=\"dataframe\">\n",
       "  <thead>\n",
       "    <tr style=\"text-align: right;\">\n",
       "      <th></th>\n",
       "      <th>FAT</th>\n",
       "      <th>AGE</th>\n",
       "      <th>WEIGHT</th>\n",
       "      <th>HEIGHT</th>\n",
       "      <th>NECK</th>\n",
       "      <th>CHEST</th>\n",
       "      <th>ABDOMEN</th>\n",
       "      <th>HIP</th>\n",
       "      <th>THIGH</th>\n",
       "      <th>KNEE</th>\n",
       "      <th>ANKLE</th>\n",
       "      <th>BICEPS</th>\n",
       "      <th>FOREARM</th>\n",
       "      <th>WRIST</th>\n",
       "    </tr>\n",
       "  </thead>\n",
       "  <tbody>\n",
       "    <tr>\n",
       "      <th>0</th>\n",
       "      <td>35.2</td>\n",
       "      <td>46</td>\n",
       "      <td>363.15</td>\n",
       "      <td>72.25</td>\n",
       "      <td>51.2</td>\n",
       "      <td>136.2</td>\n",
       "      <td>148.1</td>\n",
       "      <td>147.7</td>\n",
       "      <td>87.3</td>\n",
       "      <td>49.1</td>\n",
       "      <td>29.6</td>\n",
       "      <td>45.0</td>\n",
       "      <td>29.0</td>\n",
       "      <td>21.4</td>\n",
       "    </tr>\n",
       "    <tr>\n",
       "      <th>1</th>\n",
       "      <td>11.8</td>\n",
       "      <td>27</td>\n",
       "      <td>168.00</td>\n",
       "      <td>71.25</td>\n",
       "      <td>38.1</td>\n",
       "      <td>93.0</td>\n",
       "      <td>79.1</td>\n",
       "      <td>94.5</td>\n",
       "      <td>57.3</td>\n",
       "      <td>36.2</td>\n",
       "      <td>24.5</td>\n",
       "      <td>29.0</td>\n",
       "      <td>30.0</td>\n",
       "      <td>18.8</td>\n",
       "    </tr>\n",
       "    <tr>\n",
       "      <th>2</th>\n",
       "      <td>22.2</td>\n",
       "      <td>69</td>\n",
       "      <td>177.75</td>\n",
       "      <td>68.50</td>\n",
       "      <td>38.7</td>\n",
       "      <td>102.0</td>\n",
       "      <td>95.0</td>\n",
       "      <td>98.3</td>\n",
       "      <td>55.0</td>\n",
       "      <td>38.3</td>\n",
       "      <td>21.8</td>\n",
       "      <td>30.8</td>\n",
       "      <td>25.7</td>\n",
       "      <td>18.8</td>\n",
       "    </tr>\n",
       "    <tr>\n",
       "      <th>3</th>\n",
       "      <td>10.6</td>\n",
       "      <td>57</td>\n",
       "      <td>147.75</td>\n",
       "      <td>65.75</td>\n",
       "      <td>35.2</td>\n",
       "      <td>99.6</td>\n",
       "      <td>86.4</td>\n",
       "      <td>90.1</td>\n",
       "      <td>53.0</td>\n",
       "      <td>35.0</td>\n",
       "      <td>21.3</td>\n",
       "      <td>31.7</td>\n",
       "      <td>27.3</td>\n",
       "      <td>16.9</td>\n",
       "    </tr>\n",
       "    <tr>\n",
       "      <th>4</th>\n",
       "      <td>47.5</td>\n",
       "      <td>51</td>\n",
       "      <td>219.00</td>\n",
       "      <td>64.00</td>\n",
       "      <td>41.2</td>\n",
       "      <td>119.8</td>\n",
       "      <td>122.1</td>\n",
       "      <td>112.8</td>\n",
       "      <td>62.5</td>\n",
       "      <td>36.9</td>\n",
       "      <td>23.6</td>\n",
       "      <td>34.7</td>\n",
       "      <td>29.1</td>\n",
       "      <td>18.4</td>\n",
       "    </tr>\n",
       "  </tbody>\n",
       "</table>\n",
       "</div>"
      ],
      "text/plain": [
       "    FAT  AGE  WEIGHT  HEIGHT  NECK  CHEST  ABDOMEN    HIP  THIGH  KNEE  ANKLE  \\\n",
       "0  35.2   46  363.15   72.25  51.2  136.2    148.1  147.7   87.3  49.1   29.6   \n",
       "1  11.8   27  168.00   71.25  38.1   93.0     79.1   94.5   57.3  36.2   24.5   \n",
       "2  22.2   69  177.75   68.50  38.7  102.0     95.0   98.3   55.0  38.3   21.8   \n",
       "3  10.6   57  147.75   65.75  35.2   99.6     86.4   90.1   53.0  35.0   21.3   \n",
       "4  47.5   51  219.00   64.00  41.2  119.8    122.1  112.8   62.5  36.9   23.6   \n",
       "\n",
       "   BICEPS  FOREARM  WRIST  \n",
       "0    45.0     29.0   21.4  \n",
       "1    29.0     30.0   18.8  \n",
       "2    30.8     25.7   18.8  \n",
       "3    31.7     27.3   16.9  \n",
       "4    34.7     29.1   18.4  "
      ]
     },
     "execution_count": 30,
     "metadata": {},
     "output_type": "execute_result"
    }
   ],
   "source": [
    "df_raw = pd.read_csv(\"/home/piai/test/Practice/data/체질검사.csv\", engine=\"python\",encoding=\"EUC-KR\")\n",
    "df_raw.head()"
   ]
  },
  {
   "cell_type": "code",
   "execution_count": 31,
   "metadata": {},
   "outputs": [
    {
     "name": "stdout",
     "output_type": "stream",
     "text": [
      "                            OLS Regression Results                            \n",
      "==============================================================================\n",
      "Dep. Variable:                    FAT   R-squared:                       0.731\n",
      "Model:                            OLS   Adj. R-squared:                  0.726\n",
      "Method:                 Least Squares   F-statistic:                     133.8\n",
      "Date:                Wed, 18 Nov 2020   Prob (F-statistic):           4.38e-68\n",
      "Time:                        10:46:36   Log-Likelihood:                -726.92\n",
      "No. Observations:                 252   AIC:                             1466.\n",
      "Df Residuals:                     246   BIC:                             1487.\n",
      "Df Model:                           5                                         \n",
      "Covariance Type:            nonrobust                                         \n",
      "==============================================================================\n",
      "                 coef    std err          t      P>|t|      [0.025      0.975]\n",
      "------------------------------------------------------------------------------\n",
      "Intercept      2.7037      6.231      0.434      0.665      -9.568      14.976\n",
      "NECK          -0.6012      0.215     -2.798      0.006      -1.024      -0.178\n",
      "ABDOMEN        0.9743      0.056     17.301      0.000       0.863       1.085\n",
      "HIP           -0.3316      0.083     -3.977      0.000      -0.496      -0.167\n",
      "FOREARM        0.4095      0.182      2.249      0.025       0.051       0.768\n",
      "WRIST         -1.6180      0.462     -3.503      0.001      -2.528      -0.708\n",
      "==============================================================================\n",
      "Omnibus:                        3.695   Durbin-Watson:                   2.128\n",
      "Prob(Omnibus):                  0.158   Jarque-Bera (JB):                2.745\n",
      "Skew:                           0.107   Prob(JB):                        0.254\n",
      "Kurtosis:                       2.536   Cond. No.                     3.30e+03\n",
      "==============================================================================\n",
      "\n",
      "Warnings:\n",
      "[1] Standard Errors assume that the covariance matrix of the errors is correctly specified.\n",
      "[2] The condition number is large, 3.3e+03. This might indicate that there are\n",
      "strong multicollinearity or other numerical problems.\n"
     ]
    }
   ],
   "source": [
    "lr_model = smf.ols(formula = \"FAT ~ NECK + ABDOMEN + HIP + FOREARM + WRIST\", data = df_raw)\n",
    "lr_result = lr_model.fit()\n",
    "print(lr_result.summary())"
   ]
  },
  {
   "cell_type": "code",
   "execution_count": 32,
   "metadata": {},
   "outputs": [],
   "source": [
    "df_raw_y = df_raw[\"FAT\"]\n",
    "df_raw_x = df_raw.drop(\"FAT\", axis=1, inplace=False)"
   ]
  },
  {
   "cell_type": "code",
   "execution_count": 33,
   "metadata": {},
   "outputs": [
    {
     "name": "stdout",
     "output_type": "stream",
     "text": [
      "train data X size : (176, 13)\n",
      "train data Y size : (176,)\n",
      "test data X size : (76, 13)\n",
      "test data Y size : (76,)\n"
     ]
    }
   ],
   "source": [
    "df_train_x, df_test_x, df_train_y, df_test_y = train_test_split(df_raw_x, df_raw_y, test_size = 0.3, random_state= 1234)\n",
    "print(\"train data X size : {}\".format(df_train_x.shape))\n",
    "print(\"train data Y size : {}\".format(df_train_y.shape))\n",
    "print(\"test data X size : {}\".format(df_test_x.shape))\n",
    "print(\"test data Y size : {}\".format(df_test_y.shape))"
   ]
  },
  {
   "cell_type": "code",
   "execution_count": 34,
   "metadata": {},
   "outputs": [
    {
     "data": {
      "text/plain": [
       "DecisionTreeRegressor(max_depth=4, min_samples_leaf=8, min_samples_split=20,\n",
       "                      random_state=1234)"
      ]
     },
     "execution_count": 34,
     "metadata": {},
     "output_type": "execute_result"
    }
   ],
   "source": [
    "dt_model = DecisionTreeRegressor(random_state=1234, min_samples_leaf=8, min_samples_split=20, max_depth=4)\n",
    "dt_model.fit(df_train_x, df_train_y)"
   ]
  },
  {
   "cell_type": "code",
   "execution_count": 35,
   "metadata": {},
   "outputs": [
    {
     "data": {
      "text/plain": [
       "RandomForestRegressor(max_depth=4, min_samples_leaf=6, min_samples_split=14,\n",
       "                      random_state=1234)"
      ]
     },
     "execution_count": 35,
     "metadata": {},
     "output_type": "execute_result"
    }
   ],
   "source": [
    "rf_model = RandomForestRegressor(random_state=1234, n_estimators=100, min_samples_leaf=6, min_samples_split=14, max_depth=4)\n",
    "rf_model.fit(df_train_x, df_train_y)"
   ]
  },
  {
   "cell_type": "code",
   "execution_count": 36,
   "metadata": {},
   "outputs": [
    {
     "data": {
      "text/plain": [
       "GradientBoostingRegressor(max_depth=4, min_samples_leaf=11,\n",
       "                          min_samples_split=22, n_estimators=30,\n",
       "                          random_state=1234)"
      ]
     },
     "execution_count": 36,
     "metadata": {},
     "output_type": "execute_result"
    }
   ],
   "source": [
    "gb_model = GradientBoostingRegressor(random_state=1234, n_estimators=30, min_samples_leaf=11, min_samples_split=22, max_depth=4, learning_rate = 0.1)\n",
    "gb_model.fit(df_train_x, df_train_y)"
   ]
  },
  {
   "cell_type": "code",
   "execution_count": 37,
   "metadata": {},
   "outputs": [],
   "source": [
    "models = [\"회귀분석\", \"의사결정나무\", \"랜덤 포레스트\", \"그래디언트 부스팅\"]\n",
    "mse, rmse, mae, mape = [],[],[],[]"
   ]
  },
  {
   "cell_type": "code",
   "execution_count": 38,
   "metadata": {},
   "outputs": [],
   "source": [
    "lr_y_pred = lr_result.predict(df_test_x)\n",
    "\n",
    "mse.append(mean_squared_error(df_test_y, lr_y_pred))\n",
    "rmse.append(root_mean_squared_error(df_test_y, lr_y_pred))\n",
    "mae.append(mean_absolute_error(df_test_y, lr_y_pred))\n",
    "mape.append(mean_absolute_percentage_error(df_test_y, lr_y_pred))"
   ]
  },
  {
   "cell_type": "code",
   "execution_count": 39,
   "metadata": {},
   "outputs": [],
   "source": [
    "dt_y_pred = dt_model.predict(df_test_x)\n",
    "\n",
    "mse.append(mean_squared_error(df_test_y, dt_y_pred))\n",
    "rmse.append(root_mean_squared_error(df_test_y, dt_y_pred))\n",
    "mae.append(mean_absolute_error(df_test_y, dt_y_pred))\n",
    "mape.append(mean_absolute_percentage_error(df_test_y, dt_y_pred))"
   ]
  },
  {
   "cell_type": "code",
   "execution_count": 40,
   "metadata": {},
   "outputs": [],
   "source": [
    "rf_y_pred = rf_model.predict(df_test_x)\n",
    "\n",
    "mse.append(mean_squared_error(df_test_y, rf_y_pred))\n",
    "rmse.append(root_mean_squared_error(df_test_y, rf_y_pred))\n",
    "mae.append(mean_absolute_error(df_test_y, rf_y_pred))\n",
    "mape.append(mean_absolute_percentage_error(df_test_y, rf_y_pred))"
   ]
  },
  {
   "cell_type": "code",
   "execution_count": 41,
   "metadata": {},
   "outputs": [],
   "source": [
    "gb_y_pred = gb_model.predict(df_test_x)\n",
    "\n",
    "mse.append(mean_squared_error(df_test_y, gb_y_pred))\n",
    "rmse.append(root_mean_squared_error(df_test_y, gb_y_pred))\n",
    "mae.append(mean_absolute_error(df_test_y, gb_y_pred))\n",
    "mape.append(mean_absolute_percentage_error(df_test_y, gb_y_pred))"
   ]
  },
  {
   "cell_type": "code",
   "execution_count": 43,
   "metadata": {},
   "outputs": [],
   "source": [
    "matplotlib.rc(\"font\", family=\"Noto Sans CJK JP\")\n",
    "plt.rcParams['axes.unicode_minus'] = False"
   ]
  },
  {
   "cell_type": "code",
   "execution_count": 44,
   "metadata": {},
   "outputs": [
    {
     "data": {
      "image/png": "[encoded data removed]",
      "text/plain": [
       "<Figure size 936x720 with 4 Axes>"
      ]
     },
     "metadata": {
      "needs_background": "light"
     },
     "output_type": "display_data"
    }
   ],
   "source": [
    "fig, ax = plt.subplots(2,2,figsize = (13,10))\n",
    "\n",
    "ax[0,0].bar(models, mse)\n",
    "ax[0,0].set_title(\"mse\").set_fontsize(15)\n",
    "\n",
    "ax[0,1].bar(models, rmse)\n",
    "ax[0,1].set_title(\"rmse\").set_fontsize(15)\n",
    "\n",
    "ax[1,0].bar(models, mae)\n",
    "ax[1,0].set_title(\"mae\").set_fontsize(15)\n",
    "\n",
    "ax[1,1].bar(models, mape)\n",
    "ax[1,1].set_title(\"mape\").set_fontsize(15)"
   ]
  },
  {
   "cell_type": "markdown",
   "metadata": {},
   "source": [
    "# 종합실습"
   ]
  },
  {
   "cell_type": "code",
   "execution_count": 45,
   "metadata": {},
   "outputs": [],
   "source": [
    "import matplotlib\n",
    "import matplotlib.pyplot as plt\n",
    "\n",
    "import seaborn as sns\n",
    "\n",
    "from sklearn.preprocessing import StandardScaler\n",
    "\n",
    "from sklearn.decomposition import PCA\n",
    "\n",
    "import statsmodels.api as sm\n",
    "\n",
    "%matplotlib inline"
   ]
  },
  {
   "cell_type": "code",
   "execution_count": 46,
   "metadata": {},
   "outputs": [
    {
     "data": {
      "text/html": [
       "<div>\n",
       "<style scoped>\n",
       "    .dataframe tbody tr th:only-of-type {\n",
       "        vertical-align: middle;\n",
       "    }\n",
       "\n",
       "    .dataframe tbody tr th {\n",
       "        vertical-align: top;\n",
       "    }\n",
       "\n",
       "    .dataframe thead th {\n",
       "        text-align: right;\n",
       "    }\n",
       "</style>\n",
       "<table border=\"1\" class=\"dataframe\">\n",
       "  <thead>\n",
       "    <tr style=\"text-align: right;\">\n",
       "      <th></th>\n",
       "      <th>EVAL</th>\n",
       "      <th>DISSATIS</th>\n",
       "      <th>PRIVILEGE</th>\n",
       "      <th>CHANCE</th>\n",
       "      <th>ADVANCE</th>\n",
       "      <th>CRITISM</th>\n",
       "      <th>PROMOTION</th>\n",
       "    </tr>\n",
       "  </thead>\n",
       "  <tbody>\n",
       "    <tr>\n",
       "      <th>0</th>\n",
       "      <td>43</td>\n",
       "      <td>51</td>\n",
       "      <td>30</td>\n",
       "      <td>39</td>\n",
       "      <td>61</td>\n",
       "      <td>92</td>\n",
       "      <td>45</td>\n",
       "    </tr>\n",
       "    <tr>\n",
       "      <th>1</th>\n",
       "      <td>63</td>\n",
       "      <td>64</td>\n",
       "      <td>51</td>\n",
       "      <td>54</td>\n",
       "      <td>63</td>\n",
       "      <td>73</td>\n",
       "      <td>47</td>\n",
       "    </tr>\n",
       "    <tr>\n",
       "      <th>2</th>\n",
       "      <td>71</td>\n",
       "      <td>70</td>\n",
       "      <td>68</td>\n",
       "      <td>69</td>\n",
       "      <td>76</td>\n",
       "      <td>86</td>\n",
       "      <td>48</td>\n",
       "    </tr>\n",
       "    <tr>\n",
       "      <th>3</th>\n",
       "      <td>61</td>\n",
       "      <td>63</td>\n",
       "      <td>45</td>\n",
       "      <td>47</td>\n",
       "      <td>54</td>\n",
       "      <td>84</td>\n",
       "      <td>35</td>\n",
       "    </tr>\n",
       "    <tr>\n",
       "      <th>4</th>\n",
       "      <td>81</td>\n",
       "      <td>78</td>\n",
       "      <td>56</td>\n",
       "      <td>66</td>\n",
       "      <td>71</td>\n",
       "      <td>83</td>\n",
       "      <td>47</td>\n",
       "    </tr>\n",
       "  </tbody>\n",
       "</table>\n",
       "</div>"
      ],
      "text/plain": [
       "   EVAL  DISSATIS  PRIVILEGE  CHANCE  ADVANCE  CRITISM  PROMOTION\n",
       "0    43        51         30      39       61       92         45\n",
       "1    63        64         51      54       63       73         47\n",
       "2    71        70         68      69       76       86         48\n",
       "3    61        63         45      47       54       84         35\n",
       "4    81        78         56      66       71       83         47"
      ]
     },
     "execution_count": 46,
     "metadata": {},
     "output_type": "execute_result"
    }
   ],
   "source": [
    "df_raw = pd.read_csv(\"/home/piai/test/Practice/data/직무능력평가.csv\", engine=\"python\",encoding=\"EUC-KR\")\n",
    "df_raw.head()"
   ]
  },
  {
   "cell_type": "code",
   "execution_count": 47,
   "metadata": {},
   "outputs": [
    {
     "data": {
      "text/plain": [
       "0    43\n",
       "1    63\n",
       "2    71\n",
       "3    61\n",
       "4    81\n",
       "Name: EVAL, dtype: int64"
      ]
     },
     "execution_count": 47,
     "metadata": {},
     "output_type": "execute_result"
    }
   ],
   "source": [
    "df_raw_x = df_raw.drop(\"EVAL\", axis = 1)\n",
    "df_raw_y = df_raw[\"EVAL\"]\n",
    "df_raw_y.head()"
   ]
  },
  {
   "cell_type": "code",
   "execution_count": 48,
   "metadata": {},
   "outputs": [
    {
     "data": {
      "text/html": [
       "<div>\n",
       "<style scoped>\n",
       "    .dataframe tbody tr th:only-of-type {\n",
       "        vertical-align: middle;\n",
       "    }\n",
       "\n",
       "    .dataframe tbody tr th {\n",
       "        vertical-align: top;\n",
       "    }\n",
       "\n",
       "    .dataframe thead th {\n",
       "        text-align: right;\n",
       "    }\n",
       "</style>\n",
       "<table border=\"1\" class=\"dataframe\">\n",
       "  <thead>\n",
       "    <tr style=\"text-align: right;\">\n",
       "      <th></th>\n",
       "      <th>DISSATIS</th>\n",
       "      <th>PRIVILEGE</th>\n",
       "      <th>CHANCE</th>\n",
       "      <th>ADVANCE</th>\n",
       "      <th>CRITISM</th>\n",
       "      <th>PROMOTION</th>\n",
       "    </tr>\n",
       "  </thead>\n",
       "  <tbody>\n",
       "    <tr>\n",
       "      <th>0</th>\n",
       "      <td>51</td>\n",
       "      <td>30</td>\n",
       "      <td>39</td>\n",
       "      <td>61</td>\n",
       "      <td>92</td>\n",
       "      <td>45</td>\n",
       "    </tr>\n",
       "    <tr>\n",
       "      <th>1</th>\n",
       "      <td>64</td>\n",
       "      <td>51</td>\n",
       "      <td>54</td>\n",
       "      <td>63</td>\n",
       "      <td>73</td>\n",
       "      <td>47</td>\n",
       "    </tr>\n",
       "    <tr>\n",
       "      <th>2</th>\n",
       "      <td>70</td>\n",
       "      <td>68</td>\n",
       "      <td>69</td>\n",
       "      <td>76</td>\n",
       "      <td>86</td>\n",
       "      <td>48</td>\n",
       "    </tr>\n",
       "    <tr>\n",
       "      <th>3</th>\n",
       "      <td>63</td>\n",
       "      <td>45</td>\n",
       "      <td>47</td>\n",
       "      <td>54</td>\n",
       "      <td>84</td>\n",
       "      <td>35</td>\n",
       "    </tr>\n",
       "    <tr>\n",
       "      <th>4</th>\n",
       "      <td>78</td>\n",
       "      <td>56</td>\n",
       "      <td>66</td>\n",
       "      <td>71</td>\n",
       "      <td>83</td>\n",
       "      <td>47</td>\n",
       "    </tr>\n",
       "  </tbody>\n",
       "</table>\n",
       "</div>"
      ],
      "text/plain": [
       "   DISSATIS  PRIVILEGE  CHANCE  ADVANCE  CRITISM  PROMOTION\n",
       "0        51         30      39       61       92         45\n",
       "1        64         51      54       63       73         47\n",
       "2        70         68      69       76       86         48\n",
       "3        63         45      47       54       84         35\n",
       "4        78         56      66       71       83         47"
      ]
     },
     "execution_count": 48,
     "metadata": {},
     "output_type": "execute_result"
    }
   ],
   "source": [
    "df_raw_x.head()"
   ]
  },
  {
   "cell_type": "code",
   "execution_count": 49,
   "metadata": {},
   "outputs": [
    {
     "data": {
      "text/plain": [
       "<seaborn.axisgrid.PairGrid at 0x7f6559c8cfa0>"
      ]
     },
     "execution_count": 49,
     "metadata": {},
     "output_type": "execute_result"
    },
    {
     "data": {
      "image/png": "[encoded data removed]",
      "text/plain": [
       "<Figure size 1080x1080 with 42 Axes>"
      ]
     },
     "metadata": {
      "needs_background": "light"
     },
     "output_type": "display_data"
    }
   ],
   "source": [
    "sns.pairplot(df_raw_x)"
   ]
  },
  {
   "cell_type": "code",
   "execution_count": 50,
   "metadata": {},
   "outputs": [
    {
     "data": {
      "text/html": [
       "<div>\n",
       "<style scoped>\n",
       "    .dataframe tbody tr th:only-of-type {\n",
       "        vertical-align: middle;\n",
       "    }\n",
       "\n",
       "    .dataframe tbody tr th {\n",
       "        vertical-align: top;\n",
       "    }\n",
       "\n",
       "    .dataframe thead th {\n",
       "        text-align: right;\n",
       "    }\n",
       "</style>\n",
       "<table border=\"1\" class=\"dataframe\">\n",
       "  <thead>\n",
       "    <tr style=\"text-align: right;\">\n",
       "      <th></th>\n",
       "      <th>DISSATIS</th>\n",
       "      <th>PRIVILEGE</th>\n",
       "      <th>CHANCE</th>\n",
       "      <th>ADVANCE</th>\n",
       "      <th>CRITISM</th>\n",
       "      <th>PROMOTION</th>\n",
       "    </tr>\n",
       "  </thead>\n",
       "  <tbody>\n",
       "    <tr>\n",
       "      <th>DISSATIS</th>\n",
       "      <td>1.000</td>\n",
       "      <td>0.558</td>\n",
       "      <td>0.597</td>\n",
       "      <td>0.669</td>\n",
       "      <td>0.188</td>\n",
       "      <td>0.225</td>\n",
       "    </tr>\n",
       "    <tr>\n",
       "      <th>PRIVILEGE</th>\n",
       "      <td>0.558</td>\n",
       "      <td>1.000</td>\n",
       "      <td>0.493</td>\n",
       "      <td>0.445</td>\n",
       "      <td>0.147</td>\n",
       "      <td>0.343</td>\n",
       "    </tr>\n",
       "    <tr>\n",
       "      <th>CHANCE</th>\n",
       "      <td>0.597</td>\n",
       "      <td>0.493</td>\n",
       "      <td>1.000</td>\n",
       "      <td>0.640</td>\n",
       "      <td>0.116</td>\n",
       "      <td>0.532</td>\n",
       "    </tr>\n",
       "    <tr>\n",
       "      <th>ADVANCE</th>\n",
       "      <td>0.669</td>\n",
       "      <td>0.445</td>\n",
       "      <td>0.640</td>\n",
       "      <td>1.000</td>\n",
       "      <td>0.377</td>\n",
       "      <td>0.574</td>\n",
       "    </tr>\n",
       "    <tr>\n",
       "      <th>CRITISM</th>\n",
       "      <td>0.188</td>\n",
       "      <td>0.147</td>\n",
       "      <td>0.116</td>\n",
       "      <td>0.377</td>\n",
       "      <td>1.000</td>\n",
       "      <td>0.283</td>\n",
       "    </tr>\n",
       "    <tr>\n",
       "      <th>PROMOTION</th>\n",
       "      <td>0.225</td>\n",
       "      <td>0.343</td>\n",
       "      <td>0.532</td>\n",
       "      <td>0.574</td>\n",
       "      <td>0.283</td>\n",
       "      <td>1.000</td>\n",
       "    </tr>\n",
       "  </tbody>\n",
       "</table>\n",
       "</div>"
      ],
      "text/plain": [
       "           DISSATIS  PRIVILEGE  CHANCE  ADVANCE  CRITISM  PROMOTION\n",
       "DISSATIS      1.000      0.558   0.597    0.669    0.188      0.225\n",
       "PRIVILEGE     0.558      1.000   0.493    0.445    0.147      0.343\n",
       "CHANCE        0.597      0.493   1.000    0.640    0.116      0.532\n",
       "ADVANCE       0.669      0.445   0.640    1.000    0.377      0.574\n",
       "CRITISM       0.188      0.147   0.116    0.377    1.000      0.283\n",
       "PROMOTION     0.225      0.343   0.532    0.574    0.283      1.000"
      ]
     },
     "execution_count": 50,
     "metadata": {},
     "output_type": "execute_result"
    }
   ],
   "source": [
    "df_raw_x.corr().round(3)"
   ]
  },
  {
   "cell_type": "code",
   "execution_count": 51,
   "metadata": {},
   "outputs": [
    {
     "data": {
      "text/html": [
       "<div>\n",
       "<style scoped>\n",
       "    .dataframe tbody tr th:only-of-type {\n",
       "        vertical-align: middle;\n",
       "    }\n",
       "\n",
       "    .dataframe tbody tr th {\n",
       "        vertical-align: top;\n",
       "    }\n",
       "\n",
       "    .dataframe thead th {\n",
       "        text-align: right;\n",
       "    }\n",
       "</style>\n",
       "<table border=\"1\" class=\"dataframe\">\n",
       "  <thead>\n",
       "    <tr style=\"text-align: right;\">\n",
       "      <th></th>\n",
       "      <th>DISSATIS</th>\n",
       "      <th>PRIVILEGE</th>\n",
       "      <th>CHANCE</th>\n",
       "      <th>ADVANCE</th>\n",
       "      <th>CRITISM</th>\n",
       "      <th>PROMOTION</th>\n",
       "    </tr>\n",
       "  </thead>\n",
       "  <tbody>\n",
       "    <tr>\n",
       "      <th>count</th>\n",
       "      <td>30.000</td>\n",
       "      <td>30.000</td>\n",
       "      <td>30.000</td>\n",
       "      <td>30.000</td>\n",
       "      <td>30.000</td>\n",
       "      <td>30.000</td>\n",
       "    </tr>\n",
       "    <tr>\n",
       "      <th>mean</th>\n",
       "      <td>66.600</td>\n",
       "      <td>53.133</td>\n",
       "      <td>56.367</td>\n",
       "      <td>64.633</td>\n",
       "      <td>74.767</td>\n",
       "      <td>42.933</td>\n",
       "    </tr>\n",
       "    <tr>\n",
       "      <th>std</th>\n",
       "      <td>13.315</td>\n",
       "      <td>12.235</td>\n",
       "      <td>11.737</td>\n",
       "      <td>10.397</td>\n",
       "      <td>9.895</td>\n",
       "      <td>10.289</td>\n",
       "    </tr>\n",
       "    <tr>\n",
       "      <th>min</th>\n",
       "      <td>37.000</td>\n",
       "      <td>30.000</td>\n",
       "      <td>34.000</td>\n",
       "      <td>43.000</td>\n",
       "      <td>49.000</td>\n",
       "      <td>25.000</td>\n",
       "    </tr>\n",
       "    <tr>\n",
       "      <th>25%</th>\n",
       "      <td>58.500</td>\n",
       "      <td>45.000</td>\n",
       "      <td>47.000</td>\n",
       "      <td>58.250</td>\n",
       "      <td>69.250</td>\n",
       "      <td>35.000</td>\n",
       "    </tr>\n",
       "    <tr>\n",
       "      <th>50%</th>\n",
       "      <td>65.000</td>\n",
       "      <td>51.500</td>\n",
       "      <td>56.500</td>\n",
       "      <td>63.500</td>\n",
       "      <td>77.500</td>\n",
       "      <td>41.000</td>\n",
       "    </tr>\n",
       "    <tr>\n",
       "      <th>75%</th>\n",
       "      <td>77.000</td>\n",
       "      <td>62.500</td>\n",
       "      <td>66.750</td>\n",
       "      <td>71.000</td>\n",
       "      <td>80.000</td>\n",
       "      <td>47.750</td>\n",
       "    </tr>\n",
       "    <tr>\n",
       "      <th>max</th>\n",
       "      <td>90.000</td>\n",
       "      <td>83.000</td>\n",
       "      <td>75.000</td>\n",
       "      <td>88.000</td>\n",
       "      <td>92.000</td>\n",
       "      <td>72.000</td>\n",
       "    </tr>\n",
       "  </tbody>\n",
       "</table>\n",
       "</div>"
      ],
      "text/plain": [
       "       DISSATIS  PRIVILEGE  CHANCE  ADVANCE  CRITISM  PROMOTION\n",
       "count    30.000     30.000  30.000   30.000   30.000     30.000\n",
       "mean     66.600     53.133  56.367   64.633   74.767     42.933\n",
       "std      13.315     12.235  11.737   10.397    9.895     10.289\n",
       "min      37.000     30.000  34.000   43.000   49.000     25.000\n",
       "25%      58.500     45.000  47.000   58.250   69.250     35.000\n",
       "50%      65.000     51.500  56.500   63.500   77.500     41.000\n",
       "75%      77.000     62.500  66.750   71.000   80.000     47.750\n",
       "max      90.000     83.000  75.000   88.000   92.000     72.000"
      ]
     },
     "execution_count": 51,
     "metadata": {},
     "output_type": "execute_result"
    }
   ],
   "source": [
    "df_raw_x.describe().round(3)\n"
   ]
  },
  {
   "cell_type": "code",
   "execution_count": 53,
   "metadata": {},
   "outputs": [
    {
     "name": "stdout",
     "output_type": "stream",
     "text": [
      "Scaled Data: \n",
      " [[-1.192 -1.923 -1.505 -0.355  1.771  0.204]\n",
      " [-0.199 -0.177 -0.205 -0.16  -0.182  0.402]\n",
      " [ 0.26   1.236  1.095  1.112  1.155  0.501]\n",
      " [-0.275 -0.676 -0.812 -1.04   0.949 -0.784]\n",
      " [ 0.871  0.238  0.835  0.623  0.846  0.402]]\n",
      "Shape:\n",
      " (30, 6)\n"
     ]
    }
   ],
   "source": [
    "x_cols = df_raw_x.columns\n",
    "scaler = StandardScaler()\n",
    "nd_scaled = scaler.fit_transform(df_raw_x)\n",
    "\n",
    "print(\"Scaled Data: \\n {}\".format(nd_scaled[:5].round(3)))\n",
    "print(\"Shape:\\n {}\".format(nd_scaled.shape))"
   ]
  },
  {
   "cell_type": "code",
   "execution_count": 54,
   "metadata": {},
   "outputs": [
    {
     "data": {
      "text/html": [
       "<div>\n",
       "<style scoped>\n",
       "    .dataframe tbody tr th:only-of-type {\n",
       "        vertical-align: middle;\n",
       "    }\n",
       "\n",
       "    .dataframe tbody tr th {\n",
       "        vertical-align: top;\n",
       "    }\n",
       "\n",
       "    .dataframe thead th {\n",
       "        text-align: right;\n",
       "    }\n",
       "</style>\n",
       "<table border=\"1\" class=\"dataframe\">\n",
       "  <thead>\n",
       "    <tr style=\"text-align: right;\">\n",
       "      <th></th>\n",
       "      <th>DISSATIS</th>\n",
       "      <th>PRIVILEGE</th>\n",
       "      <th>CHANCE</th>\n",
       "      <th>ADVANCE</th>\n",
       "      <th>CRITISM</th>\n",
       "      <th>PROMOTION</th>\n",
       "    </tr>\n",
       "  </thead>\n",
       "  <tbody>\n",
       "    <tr>\n",
       "      <th>0</th>\n",
       "      <td>-1.192</td>\n",
       "      <td>-1.923</td>\n",
       "      <td>-1.505</td>\n",
       "      <td>-0.355</td>\n",
       "      <td>1.771</td>\n",
       "      <td>0.204</td>\n",
       "    </tr>\n",
       "    <tr>\n",
       "      <th>1</th>\n",
       "      <td>-0.199</td>\n",
       "      <td>-0.177</td>\n",
       "      <td>-0.205</td>\n",
       "      <td>-0.160</td>\n",
       "      <td>-0.182</td>\n",
       "      <td>0.402</td>\n",
       "    </tr>\n",
       "    <tr>\n",
       "      <th>2</th>\n",
       "      <td>0.260</td>\n",
       "      <td>1.236</td>\n",
       "      <td>1.095</td>\n",
       "      <td>1.112</td>\n",
       "      <td>1.155</td>\n",
       "      <td>0.501</td>\n",
       "    </tr>\n",
       "    <tr>\n",
       "      <th>3</th>\n",
       "      <td>-0.275</td>\n",
       "      <td>-0.676</td>\n",
       "      <td>-0.812</td>\n",
       "      <td>-1.040</td>\n",
       "      <td>0.949</td>\n",
       "      <td>-0.784</td>\n",
       "    </tr>\n",
       "    <tr>\n",
       "      <th>4</th>\n",
       "      <td>0.871</td>\n",
       "      <td>0.238</td>\n",
       "      <td>0.835</td>\n",
       "      <td>0.623</td>\n",
       "      <td>0.846</td>\n",
       "      <td>0.402</td>\n",
       "    </tr>\n",
       "  </tbody>\n",
       "</table>\n",
       "</div>"
      ],
      "text/plain": [
       "   DISSATIS  PRIVILEGE  CHANCE  ADVANCE  CRITISM  PROMOTION\n",
       "0    -1.192     -1.923  -1.505   -0.355    1.771      0.204\n",
       "1    -0.199     -0.177  -0.205   -0.160   -0.182      0.402\n",
       "2     0.260      1.236   1.095    1.112    1.155      0.501\n",
       "3    -0.275     -0.676  -0.812   -1.040    0.949     -0.784\n",
       "4     0.871      0.238   0.835    0.623    0.846      0.402"
      ]
     },
     "execution_count": 54,
     "metadata": {},
     "output_type": "execute_result"
    }
   ],
   "source": [
    "df_scaled = pd.DataFrame(nd_scaled, columns=x_cols)\n",
    "df_scaled.head().round(3)"
   ]
  },
  {
   "cell_type": "code",
   "execution_count": 55,
   "metadata": {},
   "outputs": [
    {
     "data": {
      "text/html": [
       "<div>\n",
       "<style scoped>\n",
       "    .dataframe tbody tr th:only-of-type {\n",
       "        vertical-align: middle;\n",
       "    }\n",
       "\n",
       "    .dataframe tbody tr th {\n",
       "        vertical-align: top;\n",
       "    }\n",
       "\n",
       "    .dataframe thead th {\n",
       "        text-align: right;\n",
       "    }\n",
       "</style>\n",
       "<table border=\"1\" class=\"dataframe\">\n",
       "  <thead>\n",
       "    <tr style=\"text-align: right;\">\n",
       "      <th></th>\n",
       "      <th>DISSATIS</th>\n",
       "      <th>PRIVILEGE</th>\n",
       "      <th>CHANCE</th>\n",
       "      <th>ADVANCE</th>\n",
       "      <th>CRITISM</th>\n",
       "      <th>PROMOTION</th>\n",
       "    </tr>\n",
       "  </thead>\n",
       "  <tbody>\n",
       "    <tr>\n",
       "      <th>count</th>\n",
       "      <td>30.000</td>\n",
       "      <td>30.000</td>\n",
       "      <td>30.000</td>\n",
       "      <td>30.000</td>\n",
       "      <td>30.000</td>\n",
       "      <td>30.000</td>\n",
       "    </tr>\n",
       "    <tr>\n",
       "      <th>mean</th>\n",
       "      <td>0.000</td>\n",
       "      <td>-0.000</td>\n",
       "      <td>-0.000</td>\n",
       "      <td>-0.000</td>\n",
       "      <td>0.000</td>\n",
       "      <td>0.000</td>\n",
       "    </tr>\n",
       "    <tr>\n",
       "      <th>std</th>\n",
       "      <td>1.017</td>\n",
       "      <td>1.017</td>\n",
       "      <td>1.017</td>\n",
       "      <td>1.017</td>\n",
       "      <td>1.017</td>\n",
       "      <td>1.017</td>\n",
       "    </tr>\n",
       "    <tr>\n",
       "      <th>min</th>\n",
       "      <td>-2.261</td>\n",
       "      <td>-1.923</td>\n",
       "      <td>-1.938</td>\n",
       "      <td>-2.116</td>\n",
       "      <td>-2.649</td>\n",
       "      <td>-1.773</td>\n",
       "    </tr>\n",
       "    <tr>\n",
       "      <th>25%</th>\n",
       "      <td>-0.619</td>\n",
       "      <td>-0.676</td>\n",
       "      <td>-0.812</td>\n",
       "      <td>-0.624</td>\n",
       "      <td>-0.567</td>\n",
       "      <td>-0.784</td>\n",
       "    </tr>\n",
       "    <tr>\n",
       "      <th>50%</th>\n",
       "      <td>-0.122</td>\n",
       "      <td>-0.136</td>\n",
       "      <td>0.012</td>\n",
       "      <td>-0.111</td>\n",
       "      <td>0.281</td>\n",
       "      <td>-0.191</td>\n",
       "    </tr>\n",
       "    <tr>\n",
       "      <th>75%</th>\n",
       "      <td>0.794</td>\n",
       "      <td>0.779</td>\n",
       "      <td>0.900</td>\n",
       "      <td>0.623</td>\n",
       "      <td>0.538</td>\n",
       "      <td>0.476</td>\n",
       "    </tr>\n",
       "    <tr>\n",
       "      <th>max</th>\n",
       "      <td>1.787</td>\n",
       "      <td>2.483</td>\n",
       "      <td>1.615</td>\n",
       "      <td>2.286</td>\n",
       "      <td>1.771</td>\n",
       "      <td>2.873</td>\n",
       "    </tr>\n",
       "  </tbody>\n",
       "</table>\n",
       "</div>"
      ],
      "text/plain": [
       "       DISSATIS  PRIVILEGE  CHANCE  ADVANCE  CRITISM  PROMOTION\n",
       "count    30.000     30.000  30.000   30.000   30.000     30.000\n",
       "mean      0.000     -0.000  -0.000   -0.000    0.000      0.000\n",
       "std       1.017      1.017   1.017    1.017    1.017      1.017\n",
       "min      -2.261     -1.923  -1.938   -2.116   -2.649     -1.773\n",
       "25%      -0.619     -0.676  -0.812   -0.624   -0.567     -0.784\n",
       "50%      -0.122     -0.136   0.012   -0.111    0.281     -0.191\n",
       "75%       0.794      0.779   0.900    0.623    0.538      0.476\n",
       "max       1.787      2.483   1.615    2.286    1.771      2.873"
      ]
     },
     "execution_count": 55,
     "metadata": {},
     "output_type": "execute_result"
    }
   ],
   "source": [
    "df_scaled.describe().round(3)"
   ]
  },
  {
   "cell_type": "code",
   "execution_count": 64,
   "metadata": {},
   "outputs": [
    {
     "name": "stdout",
     "output_type": "stream",
     "text": [
      "PCA Data: \n",
      " [[ 1.67606983 -2.73856419 -0.12843595 -0.50321261  0.24330658  0.22576117]\n",
      " [ 0.21834397 -0.12615302  0.43115839  0.08726221  0.19566103  0.1941439 ]\n",
      " [-2.10515127 -0.51500683 -0.27683087  0.49131136 -0.44691698 -0.63174369]\n",
      " [ 1.35994032 -0.86064574 -0.91799066  0.03173793 -0.40137177  0.44095403]\n",
      " [-1.5120347  -0.35277019 -0.32684445 -0.32877858 -0.32709718  0.21246099]]\n",
      "Shape:\n",
      " (30, 6)\n"
     ]
    }
   ],
   "source": [
    "pca = PCA(n_components=6)\n",
    "nd_pca = pca.fit_transform(df_scaled)\n",
    "\n",
    "print(\"PCA Data: \\n {}\".format(nd_pca[:5]))\n",
    "print(\"Shape:\\n {}\".format(nd_pca.shape))"
   ]
  },
  {
   "cell_type": "code",
   "execution_count": 65,
   "metadata": {},
   "outputs": [
    {
     "data": {
      "text/html": [
       "<div>\n",
       "<style scoped>\n",
       "    .dataframe tbody tr th:only-of-type {\n",
       "        vertical-align: middle;\n",
       "    }\n",
       "\n",
       "    .dataframe tbody tr th {\n",
       "        vertical-align: top;\n",
       "    }\n",
       "\n",
       "    .dataframe thead th {\n",
       "        text-align: right;\n",
       "    }\n",
       "</style>\n",
       "<table border=\"1\" class=\"dataframe\">\n",
       "  <thead>\n",
       "    <tr style=\"text-align: right;\">\n",
       "      <th></th>\n",
       "      <th>DISSATIS</th>\n",
       "      <th>PRIVILEGE</th>\n",
       "      <th>CHANCE</th>\n",
       "      <th>ADVANCE</th>\n",
       "      <th>CRITISM</th>\n",
       "      <th>PROMOTION</th>\n",
       "      <th>Prin1</th>\n",
       "      <th>Prin2</th>\n",
       "      <th>Prin3</th>\n",
       "      <th>Prin4</th>\n",
       "      <th>Prin5</th>\n",
       "      <th>Prin6</th>\n",
       "    </tr>\n",
       "  </thead>\n",
       "  <tbody>\n",
       "    <tr>\n",
       "      <th>0</th>\n",
       "      <td>-1.191662</td>\n",
       "      <td>-1.923006</td>\n",
       "      <td>-1.504945</td>\n",
       "      <td>-0.355426</td>\n",
       "      <td>1.771410</td>\n",
       "      <td>0.204301</td>\n",
       "      <td>1.676070</td>\n",
       "      <td>-2.738564</td>\n",
       "      <td>-0.128436</td>\n",
       "      <td>-0.503213</td>\n",
       "      <td>0.243307</td>\n",
       "      <td>0.225761</td>\n",
       "    </tr>\n",
       "    <tr>\n",
       "      <th>1</th>\n",
       "      <td>-0.198610</td>\n",
       "      <td>-0.177338</td>\n",
       "      <td>-0.205088</td>\n",
       "      <td>-0.159779</td>\n",
       "      <td>-0.181595</td>\n",
       "      <td>0.402012</td>\n",
       "      <td>0.218344</td>\n",
       "      <td>-0.126153</td>\n",
       "      <td>0.431158</td>\n",
       "      <td>0.087262</td>\n",
       "      <td>0.195661</td>\n",
       "      <td>0.194144</td>\n",
       "    </tr>\n",
       "    <tr>\n",
       "      <th>2</th>\n",
       "      <td>0.259721</td>\n",
       "      <td>1.235822</td>\n",
       "      <td>1.094768</td>\n",
       "      <td>1.111930</td>\n",
       "      <td>1.154672</td>\n",
       "      <td>0.500868</td>\n",
       "      <td>-2.105151</td>\n",
       "      <td>-0.515007</td>\n",
       "      <td>-0.276831</td>\n",
       "      <td>0.491311</td>\n",
       "      <td>-0.446917</td>\n",
       "      <td>-0.631744</td>\n",
       "    </tr>\n",
       "    <tr>\n",
       "      <th>3</th>\n",
       "      <td>-0.274999</td>\n",
       "      <td>-0.676100</td>\n",
       "      <td>-0.811688</td>\n",
       "      <td>-1.040192</td>\n",
       "      <td>0.949092</td>\n",
       "      <td>-0.784254</td>\n",
       "      <td>1.359940</td>\n",
       "      <td>-0.860646</td>\n",
       "      <td>-0.917991</td>\n",
       "      <td>0.031738</td>\n",
       "      <td>-0.401372</td>\n",
       "      <td>0.440954</td>\n",
       "    </tr>\n",
       "    <tr>\n",
       "      <th>4</th>\n",
       "      <td>0.870830</td>\n",
       "      <td>0.238298</td>\n",
       "      <td>0.834797</td>\n",
       "      <td>0.622811</td>\n",
       "      <td>0.846302</td>\n",
       "      <td>0.402012</td>\n",
       "      <td>-1.512035</td>\n",
       "      <td>-0.352770</td>\n",
       "      <td>-0.326844</td>\n",
       "      <td>-0.328779</td>\n",
       "      <td>-0.327097</td>\n",
       "      <td>0.212461</td>\n",
       "    </tr>\n",
       "  </tbody>\n",
       "</table>\n",
       "</div>"
      ],
      "text/plain": [
       "   DISSATIS  PRIVILEGE    CHANCE   ADVANCE   CRITISM  PROMOTION     Prin1  \\\n",
       "0 -1.191662  -1.923006 -1.504945 -0.355426  1.771410   0.204301  1.676070   \n",
       "1 -0.198610  -0.177338 -0.205088 -0.159779 -0.181595   0.402012  0.218344   \n",
       "2  0.259721   1.235822  1.094768  1.111930  1.154672   0.500868 -2.105151   \n",
       "3 -0.274999  -0.676100 -0.811688 -1.040192  0.949092  -0.784254  1.359940   \n",
       "4  0.870830   0.238298  0.834797  0.622811  0.846302   0.402012 -1.512035   \n",
       "\n",
       "      Prin2     Prin3     Prin4     Prin5     Prin6  \n",
       "0 -2.738564 -0.128436 -0.503213  0.243307  0.225761  \n",
       "1 -0.126153  0.431158  0.087262  0.195661  0.194144  \n",
       "2 -0.515007 -0.276831  0.491311 -0.446917 -0.631744  \n",
       "3 -0.860646 -0.917991  0.031738 -0.401372  0.440954  \n",
       "4 -0.352770 -0.326844 -0.328779 -0.327097  0.212461  "
      ]
     },
     "execution_count": 65,
     "metadata": {},
     "output_type": "execute_result"
    }
   ],
   "source": [
    "df_pca = pd.DataFrame(nd_pca, columns = [\"Prin1\",\"Prin2\",\"Prin3\",\"Prin4\",\"Prin5\",\"Prin6\"])\n",
    "\n",
    "df_scaled_pca = df_scaled.join(df_pca)\n",
    "df_scaled_pca.head()"
   ]
  },
  {
   "cell_type": "code",
   "execution_count": 67,
   "metadata": {},
   "outputs": [
    {
     "data": {
      "text/html": [
       "<div>\n",
       "<style scoped>\n",
       "    .dataframe tbody tr th:only-of-type {\n",
       "        vertical-align: middle;\n",
       "    }\n",
       "\n",
       "    .dataframe tbody tr th {\n",
       "        vertical-align: top;\n",
       "    }\n",
       "\n",
       "    .dataframe thead th {\n",
       "        text-align: right;\n",
       "    }\n",
       "</style>\n",
       "<table border=\"1\" class=\"dataframe\">\n",
       "  <thead>\n",
       "    <tr style=\"text-align: right;\">\n",
       "      <th></th>\n",
       "      <th>PrinNo</th>\n",
       "      <th>EigenValues</th>\n",
       "      <th>EigenValueRatio</th>\n",
       "      <th>CumEigenValueRatio</th>\n",
       "    </tr>\n",
       "  </thead>\n",
       "  <tbody>\n",
       "    <tr>\n",
       "      <th>0</th>\n",
       "      <td>1</td>\n",
       "      <td>3.279</td>\n",
       "      <td>0.528</td>\n",
       "      <td>0.528</td>\n",
       "    </tr>\n",
       "    <tr>\n",
       "      <th>1</th>\n",
       "      <td>2</td>\n",
       "      <td>1.041</td>\n",
       "      <td>0.168</td>\n",
       "      <td>0.696</td>\n",
       "    </tr>\n",
       "    <tr>\n",
       "      <th>2</th>\n",
       "      <td>3</td>\n",
       "      <td>0.789</td>\n",
       "      <td>0.127</td>\n",
       "      <td>0.823</td>\n",
       "    </tr>\n",
       "    <tr>\n",
       "      <th>3</th>\n",
       "      <td>4</td>\n",
       "      <td>0.572</td>\n",
       "      <td>0.092</td>\n",
       "      <td>0.915</td>\n",
       "    </tr>\n",
       "    <tr>\n",
       "      <th>4</th>\n",
       "      <td>5</td>\n",
       "      <td>0.328</td>\n",
       "      <td>0.053</td>\n",
       "      <td>0.968</td>\n",
       "    </tr>\n",
       "    <tr>\n",
       "      <th>5</th>\n",
       "      <td>6</td>\n",
       "      <td>0.198</td>\n",
       "      <td>0.032</td>\n",
       "      <td>1.000</td>\n",
       "    </tr>\n",
       "  </tbody>\n",
       "</table>\n",
       "</div>"
      ],
      "text/plain": [
       "   PrinNo  EigenValues  EigenValueRatio  CumEigenValueRatio\n",
       "0       1        3.279            0.528               0.528\n",
       "1       2        1.041            0.168               0.696\n",
       "2       3        0.789            0.127               0.823\n",
       "3       4        0.572            0.092               0.915\n",
       "4       5        0.328            0.053               0.968\n",
       "5       6        0.198            0.032               1.000"
      ]
     },
     "execution_count": 67,
     "metadata": {},
     "output_type": "execute_result"
    }
   ],
   "source": [
    "df_pca_stat = pd.DataFrame()\n",
    "df_pca_stat[\"PrinNo\"] = [I for I in range(1,7)]\n",
    "df_pca_stat[\"EigenValues\"] = pca.explained_variance_\n",
    "df_pca_stat[\"EigenValueRatio\"] = pca.explained_variance_ratio_\n",
    "df_pca_stat[\"CumEigenValueRatio\"] = np.cumsum(pca.explained_variance_ratio_)\n",
    "df_pca_stat.round(3)"
   ]
  },
  {
   "cell_type": "code",
   "execution_count": 68,
   "metadata": {},
   "outputs": [
    {
     "data": {
      "text/plain": [
       "<matplotlib.legend.Legend at 0x7f6558efb610>"
      ]
     },
     "execution_count": 68,
     "metadata": {},
     "output_type": "execute_result"
    },
    {
     "data": {
      "image/png": "[encoded data removed]",
      "text/plain": [
       "<Figure size 432x288 with 1 Axes>"
      ]
     },
     "metadata": {
      "needs_background": "light"
     },
     "output_type": "display_data"
    }
   ],
   "source": [
    "# Scree Plot\n",
    "plt.plot(df_pca_stat[\"PrinNo\"],\n",
    "        df_pca_stat[\"EigenValues\"],\n",
    "        label=\"고유값\")\n",
    "\n",
    "# 그래프 label, legend 설정\n",
    "plt.ylabel(\"고유값(Eigenvalue)\")\n",
    "plt.xlabel(\"주성분 번호\")\n",
    "plt.legend(loc=\"best\")"
   ]
  },
  {
   "cell_type": "code",
   "execution_count": 70,
   "metadata": {},
   "outputs": [
    {
     "data": {
      "text/plain": [
       "<matplotlib.legend.Legend at 0x7f655855a1f0>"
      ]
     },
     "execution_count": 70,
     "metadata": {},
     "output_type": "execute_result"
    },
    {
     "data": {
      "image/png": "[encoded data removed]",
      "text/plain": [
       "<Figure size 432x288 with 1 Axes>"
      ]
     },
     "metadata": {
      "needs_background": "light"
     },
     "output_type": "display_data"
    }
   ],
   "source": [
    "plt.plot(df_pca_stat[\"PrinNo\"],\n",
    "        df_pca_stat[\"EigenValueRatio\"],\n",
    "        label=\"고유값\")\n",
    "\n",
    "plt.plot(df_pca_stat[\"PrinNo\"],\n",
    "        df_pca_stat[\"CumEigenValueRatio\"],\n",
    "        label=\"누적 고유값\")\n",
    "# 공분산의 경우 누적으로 80% 이상까지 정하기 때문 \n",
    "\n",
    "# 그래프 label, legend 설정\n",
    "plt.ylabel(\"고유값 비율\")\n",
    "plt.xlabel(\"주성분 번호\")\n",
    "plt.legend(loc=\"best\")"
   ]
  },
  {
   "cell_type": "code",
   "execution_count": 71,
   "metadata": {},
   "outputs": [
    {
     "data": {
      "text/html": [
       "<div>\n",
       "<style scoped>\n",
       "    .dataframe tbody tr th:only-of-type {\n",
       "        vertical-align: middle;\n",
       "    }\n",
       "\n",
       "    .dataframe tbody tr th {\n",
       "        vertical-align: top;\n",
       "    }\n",
       "\n",
       "    .dataframe thead th {\n",
       "        text-align: right;\n",
       "    }\n",
       "</style>\n",
       "<table border=\"1\" class=\"dataframe\">\n",
       "  <thead>\n",
       "    <tr style=\"text-align: right;\">\n",
       "      <th></th>\n",
       "      <th>Feature</th>\n",
       "      <th>Prin1</th>\n",
       "      <th>Prin2</th>\n",
       "      <th>Prin3</th>\n",
       "      <th>Prin4</th>\n",
       "      <th>Prin5</th>\n",
       "      <th>Prin6</th>\n",
       "    </tr>\n",
       "  </thead>\n",
       "  <tbody>\n",
       "    <tr>\n",
       "      <th>0</th>\n",
       "      <td>DISSATIS</td>\n",
       "      <td>0.439</td>\n",
       "      <td>-0.313</td>\n",
       "      <td>0.445</td>\n",
       "      <td>0.316</td>\n",
       "      <td>-0.192</td>\n",
       "      <td>-0.612</td>\n",
       "    </tr>\n",
       "    <tr>\n",
       "      <th>1</th>\n",
       "      <td>PRIVILEGE</td>\n",
       "      <td>0.395</td>\n",
       "      <td>-0.309</td>\n",
       "      <td>0.217</td>\n",
       "      <td>-0.815</td>\n",
       "      <td>-0.038</td>\n",
       "      <td>0.190</td>\n",
       "    </tr>\n",
       "    <tr>\n",
       "      <th>2</th>\n",
       "      <td>CHANCE</td>\n",
       "      <td>0.461</td>\n",
       "      <td>-0.217</td>\n",
       "      <td>-0.272</td>\n",
       "      <td>0.225</td>\n",
       "      <td>0.776</td>\n",
       "      <td>0.118</td>\n",
       "    </tr>\n",
       "    <tr>\n",
       "      <th>3</th>\n",
       "      <td>ADVANCE</td>\n",
       "      <td>0.493</td>\n",
       "      <td>0.116</td>\n",
       "      <td>0.006</td>\n",
       "      <td>0.365</td>\n",
       "      <td>-0.460</td>\n",
       "      <td>0.631</td>\n",
       "    </tr>\n",
       "    <tr>\n",
       "      <th>4</th>\n",
       "      <td>CRITISM</td>\n",
       "      <td>0.225</td>\n",
       "      <td>0.802</td>\n",
       "      <td>0.457</td>\n",
       "      <td>-0.100</td>\n",
       "      <td>0.289</td>\n",
       "      <td>-0.058</td>\n",
       "    </tr>\n",
       "    <tr>\n",
       "      <th>5</th>\n",
       "      <td>PROMOTION</td>\n",
       "      <td>0.381</td>\n",
       "      <td>0.321</td>\n",
       "      <td>-0.687</td>\n",
       "      <td>-0.206</td>\n",
       "      <td>-0.255</td>\n",
       "      <td>-0.416</td>\n",
       "    </tr>\n",
       "  </tbody>\n",
       "</table>\n",
       "</div>"
      ],
      "text/plain": [
       "     Feature  Prin1  Prin2  Prin3  Prin4  Prin5  Prin6\n",
       "0   DISSATIS  0.439 -0.313  0.445  0.316 -0.192 -0.612\n",
       "1  PRIVILEGE  0.395 -0.309  0.217 -0.815 -0.038  0.190\n",
       "2     CHANCE  0.461 -0.217 -0.272  0.225  0.776  0.118\n",
       "3    ADVANCE  0.493  0.116  0.006  0.365 -0.460  0.631\n",
       "4    CRITISM  0.225  0.802  0.457 -0.100  0.289 -0.058\n",
       "5  PROMOTION  0.381  0.321 -0.687 -0.206 -0.255 -0.416"
      ]
     },
     "execution_count": 71,
     "metadata": {},
     "output_type": "execute_result"
    }
   ],
   "source": [
    "x_cols = pd.DataFrame({\"Feature\":df_raw_x.columns})\n",
    "\n",
    "df_eigenvector = pd.concat([x_cols, pd.DataFrame(pca.components_.T * -1, columns=[\"Prin1\",\"Prin2\",\"Prin3\",\"Prin4\",\"Prin5\",\"Prin6\"])],axis=1)\n",
    "df_eigenvector.round(3)"
   ]
  },
  {
   "cell_type": "code",
   "execution_count": 72,
   "metadata": {},
   "outputs": [
    {
     "data": {
      "text/html": [
       "<div>\n",
       "<style scoped>\n",
       "    .dataframe tbody tr th:only-of-type {\n",
       "        vertical-align: middle;\n",
       "    }\n",
       "\n",
       "    .dataframe tbody tr th {\n",
       "        vertical-align: top;\n",
       "    }\n",
       "\n",
       "    .dataframe thead th {\n",
       "        text-align: right;\n",
       "    }\n",
       "</style>\n",
       "<table border=\"1\" class=\"dataframe\">\n",
       "  <thead>\n",
       "    <tr style=\"text-align: right;\">\n",
       "      <th></th>\n",
       "      <th>Prin1</th>\n",
       "      <th>Prin2</th>\n",
       "      <th>Prin3</th>\n",
       "      <th>Prin4</th>\n",
       "      <th>Prin5</th>\n",
       "      <th>Prin6</th>\n",
       "    </tr>\n",
       "  </thead>\n",
       "  <tbody>\n",
       "    <tr>\n",
       "      <th>Prin1</th>\n",
       "      <td>1.0</td>\n",
       "      <td>0.0</td>\n",
       "      <td>-0.0</td>\n",
       "      <td>-0.0</td>\n",
       "      <td>-0.0</td>\n",
       "      <td>0.0</td>\n",
       "    </tr>\n",
       "    <tr>\n",
       "      <th>Prin2</th>\n",
       "      <td>0.0</td>\n",
       "      <td>1.0</td>\n",
       "      <td>0.0</td>\n",
       "      <td>-0.0</td>\n",
       "      <td>-0.0</td>\n",
       "      <td>0.0</td>\n",
       "    </tr>\n",
       "    <tr>\n",
       "      <th>Prin3</th>\n",
       "      <td>-0.0</td>\n",
       "      <td>0.0</td>\n",
       "      <td>1.0</td>\n",
       "      <td>0.0</td>\n",
       "      <td>0.0</td>\n",
       "      <td>-0.0</td>\n",
       "    </tr>\n",
       "    <tr>\n",
       "      <th>Prin4</th>\n",
       "      <td>-0.0</td>\n",
       "      <td>-0.0</td>\n",
       "      <td>0.0</td>\n",
       "      <td>1.0</td>\n",
       "      <td>-0.0</td>\n",
       "      <td>-0.0</td>\n",
       "    </tr>\n",
       "    <tr>\n",
       "      <th>Prin5</th>\n",
       "      <td>-0.0</td>\n",
       "      <td>-0.0</td>\n",
       "      <td>0.0</td>\n",
       "      <td>-0.0</td>\n",
       "      <td>1.0</td>\n",
       "      <td>-0.0</td>\n",
       "    </tr>\n",
       "    <tr>\n",
       "      <th>Prin6</th>\n",
       "      <td>0.0</td>\n",
       "      <td>0.0</td>\n",
       "      <td>-0.0</td>\n",
       "      <td>-0.0</td>\n",
       "      <td>-0.0</td>\n",
       "      <td>1.0</td>\n",
       "    </tr>\n",
       "  </tbody>\n",
       "</table>\n",
       "</div>"
      ],
      "text/plain": [
       "       Prin1  Prin2  Prin3  Prin4  Prin5  Prin6\n",
       "Prin1    1.0    0.0   -0.0   -0.0   -0.0    0.0\n",
       "Prin2    0.0    1.0    0.0   -0.0   -0.0    0.0\n",
       "Prin3   -0.0    0.0    1.0    0.0    0.0   -0.0\n",
       "Prin4   -0.0   -0.0    0.0    1.0   -0.0   -0.0\n",
       "Prin5   -0.0   -0.0    0.0   -0.0    1.0   -0.0\n",
       "Prin6    0.0    0.0   -0.0   -0.0   -0.0    1.0"
      ]
     },
     "execution_count": 72,
     "metadata": {},
     "output_type": "execute_result"
    },
    {
     "data": {
      "image/png": "[encoded data removed]",
      "text/plain": [
       "<Figure size 1080x1080 with 42 Axes>"
      ]
     },
     "metadata": {
      "needs_background": "light"
     },
     "output_type": "display_data"
    }
   ],
   "source": [
    "sns.pairplot(df_pca)\n",
    "df_pca.corr().round(3)"
   ]
  },
  {
   "cell_type": "code",
   "execution_count": 73,
   "metadata": {},
   "outputs": [
    {
     "name": "stdout",
     "output_type": "stream",
     "text": [
      "                            OLS Regression Results                            \n",
      "==============================================================================\n",
      "Dep. Variable:                   EVAL   R-squared:                       0.733\n",
      "Model:                            OLS   Adj. R-squared:                  0.663\n",
      "Method:                 Least Squares   F-statistic:                     10.50\n",
      "Date:                Wed, 18 Nov 2020   Prob (F-statistic):           1.24e-05\n",
      "Time:                        15:43:12   Log-Likelihood:                -97.250\n",
      "No. Observations:                  30   AIC:                             208.5\n",
      "Df Residuals:                      23   BIC:                             218.3\n",
      "Df Model:                           6                                         \n",
      "Covariance Type:            nonrobust                                         \n",
      "==============================================================================\n",
      "                 coef    std err          t      P>|t|      [0.025      0.975]\n",
      "------------------------------------------------------------------------------\n",
      "const         10.7871     11.589      0.931      0.362     -13.187      34.761\n",
      "DISSATIS       0.6132      0.161      3.809      0.001       0.280       0.946\n",
      "PRIVILEGE     -0.0731      0.136     -0.538      0.596      -0.354       0.208\n",
      "CHANCE         0.3203      0.169      1.901      0.070      -0.028       0.669\n",
      "ADVANCE        0.0817      0.221      0.369      0.715      -0.376       0.540\n",
      "CRITISM        0.0384      0.147      0.261      0.796      -0.266       0.342\n",
      "PROMOTION     -0.2171      0.178     -1.218      0.236      -0.586       0.152\n",
      "==============================================================================\n",
      "Omnibus:                        2.386   Durbin-Watson:                   1.795\n",
      "Prob(Omnibus):                  0.303   Jarque-Bera (JB):                1.255\n",
      "Skew:                          -0.081   Prob(JB):                        0.534\n",
      "Kurtosis:                       2.011   Cond. No.                     1.34e+03\n",
      "==============================================================================\n",
      "\n",
      "Warnings:\n",
      "[1] Standard Errors assume that the covariance matrix of the errors is correctly specified.\n",
      "[2] The condition number is large, 1.34e+03. This might indicate that there are\n",
      "strong multicollinearity or other numerical problems.\n"
     ]
    }
   ],
   "source": [
    "df_raw_x_const = sm.add_constant(df_raw_x)\n",
    "reg_model = sm.OLS(df_raw_y, df_raw_x_const)\n",
    "reg_model = reg_model.fit()\n",
    "print(reg_model.summary())"
   ]
  },
  {
   "cell_type": "code",
   "execution_count": 76,
   "metadata": {},
   "outputs": [
    {
     "name": "stdout",
     "output_type": "stream",
     "text": [
      "                            OLS Regression Results                            \n",
      "==============================================================================\n",
      "Dep. Variable:                   EVAL   R-squared:                       0.733\n",
      "Model:                            OLS   Adj. R-squared:                  0.663\n",
      "Method:                 Least Squares   F-statistic:                     10.50\n",
      "Date:                Wed, 18 Nov 2020   Prob (F-statistic):           1.24e-05\n",
      "Time:                        15:46:22   Log-Likelihood:                -97.250\n",
      "No. Observations:                  30   AIC:                             208.5\n",
      "Df Residuals:                      23   BIC:                             218.3\n",
      "Df Model:                           6                                         \n",
      "Covariance Type:            nonrobust                                         \n",
      "==============================================================================\n",
      "                 coef    std err          t      P>|t|      [0.025      0.975]\n",
      "------------------------------------------------------------------------------\n",
      "const         64.6333      1.290     50.087      0.000      61.964      67.303\n",
      "DISSATIS       8.0272      2.107      3.809      0.001       3.668      12.387\n",
      "PRIVILEGE     -0.8788      1.633     -0.538      0.596      -4.256       2.499\n",
      "CHANCE         3.6965      1.945      1.901      0.070      -0.326       7.719\n",
      "ADVANCE        0.8355      2.264      0.369      0.715      -3.848       5.519\n",
      "CRITISM        0.3734      1.430      0.261      0.796      -2.585       3.332\n",
      "PROMOTION     -2.1957      1.803     -1.218      0.236      -5.925       1.534\n",
      "==============================================================================\n",
      "Omnibus:                        2.386   Durbin-Watson:                   1.795\n",
      "Prob(Omnibus):                  0.303   Jarque-Bera (JB):                1.255\n",
      "Skew:                          -0.081   Prob(JB):                        0.534\n",
      "Kurtosis:                       2.011   Cond. No.                         4.07\n",
      "==============================================================================\n",
      "\n",
      "Warnings:\n",
      "[1] Standard Errors assume that the covariance matrix of the errors is correctly specified.\n"
     ]
    }
   ],
   "source": [
    "df_scaled_const = sm.add_constant(df_scaled)\n",
    "reg_model = sm.OLS(df_raw_y, df_scaled_const)\n",
    "reg_model = reg_model.fit()\n",
    "print(reg_model.summary())\n",
    "\n",
    "# scale 변환을 해도 결과에는 차이가 없다."
   ]
  },
  {
   "cell_type": "code",
   "execution_count": 78,
   "metadata": {},
   "outputs": [
    {
     "name": "stdout",
     "output_type": "stream",
     "text": [
      "                            OLS Regression Results                            \n",
      "==============================================================================\n",
      "Dep. Variable:                   EVAL   R-squared:                       0.624\n",
      "Model:                            OLS   Adj. R-squared:                  0.580\n",
      "Method:                 Least Squares   F-statistic:                     14.36\n",
      "Date:                Wed, 18 Nov 2020   Prob (F-statistic):           1.02e-05\n",
      "Time:                        15:47:45   Log-Likelihood:                -102.38\n",
      "No. Observations:                  30   AIC:                             212.8\n",
      "Df Residuals:                      26   BIC:                             218.4\n",
      "Df Model:                           3                                         \n",
      "Covariance Type:            nonrobust                                         \n",
      "==============================================================================\n",
      "                 coef    std err          t      P>|t|      [0.025      0.975]\n",
      "------------------------------------------------------------------------------\n",
      "const         64.6333      1.440     44.890      0.000      61.674      67.593\n",
      "Prin1         -4.5451      0.809     -5.620      0.000      -6.208      -2.883\n",
      "Prin2          3.3489      1.435      2.333      0.028       0.399       6.299\n",
      "Prin3         -4.0601      1.648     -2.463      0.021      -7.448      -0.672\n",
      "==============================================================================\n",
      "Omnibus:                        1.252   Durbin-Watson:                   2.154\n",
      "Prob(Omnibus):                  0.535   Jarque-Bera (JB):                1.044\n",
      "Skew:                          -0.237   Prob(JB):                        0.593\n",
      "Kurtosis:                       2.219   Cond. No.                         2.04\n",
      "==============================================================================\n",
      "\n",
      "Warnings:\n",
      "[1] Standard Errors assume that the covariance matrix of the errors is correctly specified.\n"
     ]
    }
   ],
   "source": [
    "x_var = [\"Prin1\", \"Prin2\", \"Prin3\"]\n",
    "\n",
    "df_pca_const = sm.add_constant(df_pca[x_var])\n",
    "\n",
    "reg_model = sm.OLS(df_raw_y, df_pca_const)\n",
    "reg_model = reg_model.fit()\n",
    "print(reg_model.summary())"
   ]
  },
  {
   "cell_type": "code",
   "execution_count": null,
   "metadata": {},
   "outputs": [],
   "source": []
  }
 ],
 "metadata": {
  "kernelspec": {
   "display_name": "Python 3",
   "language": "python",
   "name": "python3"
  },
  "language_info": {
   "codemirror_mode": {
    "name": "ipython",
    "version": 3
   },
   "file_extension": ".py",
   "mimetype": "text/x-python",
   "name": "python",
   "nbconvert_exporter": "python",
   "pygments_lexer": "ipython3",
   "version": "3.8.3"
  }
 },
 "nbformat": 4,
 "nbformat_minor": 4
}
