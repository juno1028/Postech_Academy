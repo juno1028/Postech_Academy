{
 "cells": [
  {
   "cell_type": "code",
   "execution_count": 39,
   "metadata": {},
   "outputs": [
    {
     "name": "stdout",
     "output_type": "stream",
     "text": [
      "1\n",
      "))\n",
      "NO\n"
     ]
    }
   ],
   "source": [
    "# 9012(괄호)\n",
    "input_count = int(input())\n",
    "\n",
    "for i in range(input_count):\n",
    "    input_string = input()\n",
    "    piling_list = []\n",
    "    count = 0\n",
    "    piling_list.append(input_string[0])\n",
    "    \n",
    "    for char in input_string[1:len(input_string)-1]:\n",
    "        piling_list.append(char)\n",
    "        if len(piling_list) == 1:\n",
    "            continue\n",
    "        # 리스트의 -2번째가 \"(\"이고, 리스트의 -1번째가 \"-1\"이면, \n",
    "        elif (piling_list[-2] == \"(\" and piling_list[-1] == \")\"):\n",
    "            # 그 부분을 잘라낸다.\n",
    "            piling_list = piling_list[:-2]\n",
    "        count += 1\n",
    "        \n",
    "    if len(piling_list) == 1 and piling_list[0] == \"(\" and input_string[-1] == \")\":\n",
    "        print(\"YES\")\n",
    "    else:\n",
    "        print(\"NO\")"
   ]
  },
  {
   "cell_type": "code",
   "execution_count": 60,
   "metadata": {},
   "outputs": [
    {
     "name": "stdout",
     "output_type": "stream",
     "text": [
      "500000\n",
      "475712\n"
     ]
    }
   ],
   "source": [
    "# 2164(카드2)\n",
    "from collections import deque\n",
    "\n",
    "input_number = int(input())\n",
    "card_list = list(range(1,input_number+1))\n",
    "card_deque1 = deque(card_list, maxlen=len(card_list))\n",
    "while(len(card_deque1) != 1):\n",
    "    card_deque1.popleft()\n",
    "    card_deque1.append(card_deque1[0])\n",
    "    card_deque1.popleft()\n",
    "    \n",
    "print(card_deque1[0])"
   ]
  },
  {
   "cell_type": "code",
   "execution_count": 13,
   "metadata": {
    "scrolled": true
   },
   "outputs": [
    {
     "name": "stdout",
     "output_type": "stream",
     "text": [
      "[1, 2, 3]\n"
     ]
    }
   ],
   "source": [
    "from collections import deque\n",
    "\n",
    "# 빈 큐 만들기\n",
    "deque1 = deque()\n",
    "\n",
    "# 원소가 있는 큐 만들기\n",
    "deque2 = deque([1, s2, 3])\n",
    "\n",
    "# 큐 최대 길이 명시하기(원소를 이보다 많이 넣으면 maxlen이 자동 갱신됨)\n",
    "deque3 = deque(maxlen=5)\n",
    "\n",
    "my_deque = deque()\n",
    "my_deque.append(3)\n",
    "\n",
    "print(my_deque)\n",
    "\n",
    "# deque([3])\n",
    "my_deque = deque([1,2,3])\n",
    "\n",
    "while my_deque:\n",
    "    print(\"{}을/를 pop했습니다\".format(my_deque.popleft()))\n",
    "\n",
    "# 1을/를 pop했습니다\n",
    "# 2을/를 pop했습니다\n",
    "# 3을/를 pop했습니다"
   ]
  },
  {
   "cell_type": "code",
   "execution_count": null,
   "metadata": {},
   "outputs": [],
   "source": []
  },
  {
   "cell_type": "code",
   "execution_count": null,
   "metadata": {},
   "outputs": [],
   "source": []
  }
 ],
 "metadata": {
  "kernelspec": {
   "display_name": "Python 3",
   "language": "python",
   "name": "python3"
  },
  "language_info": {
   "codemirror_mode": {
    "name": "ipython",
    "version": 3
   },
   "file_extension": ".py",
   "mimetype": "text/x-python",
   "name": "python",
   "nbconvert_exporter": "python",
   "pygments_lexer": "ipython3",
   "version": "3.7.2"
  }
 },
 "nbformat": 4,
 "nbformat_minor": 4
}
