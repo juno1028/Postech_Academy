{
 "cells": [
  {
   "cell_type": "markdown",
   "metadata": {
    "slideshow": {
     "slide_type": "slide"
    }
   },
   "source": [
    "# Reguralization (Dropout, Normalization)\n",
    "> ## 1. Library\n",
    "\n",
    "> ## 2. MLP naive setting & Pre-process data\n",
    "\n",
    "> ## 3. MLP batch norm\n",
    ">> ### 3.1 with test phase\n",
    ">> ### 3.2 with train, test phase\n",
    "\n",
    "> ## 4. Dropout\n",
    "\n",
    "> ## 5. Batch norm & Dropout"
   ]
  },
  {
   "cell_type": "markdown",
   "metadata": {
    "slideshow": {
     "slide_type": "slide"
    }
   },
   "source": [
    "# Library"
   ]
  },
  {
   "cell_type": "code",
   "execution_count": 1,
   "metadata": {
    "slideshow": {
     "slide_type": "-"
    }
   },
   "outputs": [
    {
     "name": "stdout",
     "output_type": "stream",
     "text": [
      "device: gpu\n"
     ]
    }
   ],
   "source": [
    "import torch\n",
    "import torch.nn as nn\n",
    "import torch.optim as optim\n",
    "import torch.nn.init as init\n",
    "import torchvision.datasets as dataset\n",
    "import torchvision.transforms as transforms\n",
    "from torch.utils.data import DataLoader\n",
    "\n",
    "import numpy as np\n",
    "from matplotlib import pyplot as plt\n",
    "\n",
    "device = torch.device(\"cuda:0\" if torch.cuda.is_available() else \"cpu\")\n",
    "\n",
    "print(\"device: gpu\") if torch.cuda.is_available() else print(\"device: cpu\")"
   ]
  },
  {
   "cell_type": "markdown",
   "metadata": {
    "slideshow": {
     "slide_type": "slide"
    }
   },
   "source": [
    "# Hyper parameter setting"
   ]
  },
  {
   "cell_type": "code",
   "execution_count": 2,
   "metadata": {
    "slideshow": {
     "slide_type": "-"
    }
   },
   "outputs": [],
   "source": [
    "# hypter parameter setting\n",
    "learning_rate = 1e-1\n",
    "epochs = 30\n",
    "# batch_size = 60000 # gradient descent\n",
    "# batch_size = 1 # stochastic gradient descent\n",
    "batch_size = 32 # mini-batch stochastic gradient descent\n",
    "act = nn.Tanh()\n",
    "h = 200\n",
    "display_step = 5"
   ]
  },
  {
   "cell_type": "markdown",
   "metadata": {
    "slideshow": {
     "slide_type": "-"
    }
   },
   "source": [
    "# Load data & Pre-process data"
   ]
  },
  {
   "cell_type": "code",
   "execution_count": 3,
   "metadata": {
    "slideshow": {
     "slide_type": "-"
    }
   },
   "outputs": [
    {
     "name": "stdout",
     "output_type": "stream",
     "text": [
      "len(train_data):  60000\n",
      "len(test_data):  10000\n",
      "original data shape:  torch.Size([1, 28, 28])\n",
      "label:  5\n"
     ]
    },
    {
     "data": {
      "image/png": "[encoded data removed]",
      "text/plain": [
       "<Figure size 432x288 with 1 Axes>"
      ]
     },
     "metadata": {
      "needs_background": "light"
     },
     "output_type": "display_data"
    },
    {
     "name": "stdout",
     "output_type": "stream",
     "text": [
      "processed data shape: torch.Size([32, 1, 28, 28])\n",
      "label: tensor([9, 6, 6, 8, 5, 7, 1, 5, 5, 4, 7, 0, 6, 3, 3, 3, 7, 4, 7, 1, 7, 9, 1, 4,\n",
      "        7, 9, 6, 0, 2, 0, 6, 2])\n"
     ]
    },
    {
     "data": {
      "image/png": "[encoded data removed]",
      "text/plain": [
       "<Figure size 432x288 with 1 Axes>"
      ]
     },
     "metadata": {
      "needs_background": "light"
     },
     "output_type": "display_data"
    }
   ],
   "source": [
    "# load data\n",
    "train_data = dataset.MNIST(\"./\", train = True, transform = transforms.ToTensor(), target_transform = None, download = True)\n",
    "test_data = dataset.MNIST(\"./\", train = False, transform = transforms.ToTensor(), target_transform = None, download = True)\n",
    "\n",
    "# check the data\n",
    "print('len(train_data): ', len(train_data))\n",
    "print('len(test_data): ', len(test_data))\n",
    "\n",
    "x_train, y_train = train_data[0]\n",
    "print('original data shape: ', x_train.shape)\n",
    "print('label: ', y_train)\n",
    "\n",
    "plt.figure()\n",
    "plt.imshow(x_train[0])\n",
    "plt.show()\n",
    "\n",
    "# Pre-process (batch, shuffle)\n",
    "train_loader = torch.utils.data.DataLoader(train_data, batch_size = batch_size, shuffle = True, num_workers = 1, drop_last = True)\n",
    "test_loader = torch.utils.data.DataLoader(test_data, batch_size = 10000, shuffle = True, num_workers = 1, drop_last = True)\n",
    "\n",
    "# check the data \n",
    "examples = enumerate(train_loader)\n",
    "batch_idx, (example_data, example_target) = next(examples)\n",
    "\n",
    "print('processed data shape:', example_data.shape)\n",
    "print('label:', example_target)\n",
    "\n",
    "plt.figure()\n",
    "plt.imshow(example_data[0][0])\n",
    "plt.show()"
   ]
  },
  {
   "cell_type": "markdown",
   "metadata": {
    "slideshow": {
     "slide_type": "skip"
    }
   },
   "source": [
    "# Model & Optimization and Loss function"
   ]
  },
  {
   "cell_type": "code",
   "execution_count": 4,
   "metadata": {
    "slideshow": {
     "slide_type": "skip"
    }
   },
   "outputs": [],
   "source": [
    "# model\n",
    "model = nn.Sequential(\n",
    "        nn.Linear(np.prod(x_train.shape[1:]),1024),\n",
    "        act,\n",
    "        nn.Linear(1024,300),\n",
    "        act,\n",
    "        nn.Linear(300,10)\n",
    "        )\n",
    "\n",
    "model = model.to(device)\n",
    "model.train()\n",
    "\n",
    "# loss and optimizer\n",
    "loss_function = nn.CrossEntropyLoss()\n",
    "optimizer = optim.SGD(model.parameters(), lr = learning_rate)"
   ]
  },
  {
   "cell_type": "markdown",
   "metadata": {
    "slideshow": {
     "slide_type": "skip"
    }
   },
   "source": [
    "# Train & Test"
   ]
  },
  {
   "cell_type": "code",
   "execution_count": null,
   "metadata": {
    "slideshow": {
     "slide_type": "skip"
    }
   },
   "outputs": [
    {
     "name": "stdout",
     "output_type": "stream",
     "text": [
      "Epoch: 1 \\Loss: tensor(0.1786, device='cuda:0', grad_fn=<NllLossBackward>)\n"
     ]
    }
   ],
   "source": [
    "loss_array = []\n",
    "iteration_loss_array = []\n",
    "\n",
    "# train the model\n",
    "for epoch in range(epochs):\n",
    "    for iteration, [data, label] in enumerate(train_loader):\n",
    "        optimizer.zero_grad()\n",
    "        \n",
    "        x = data.to(device)\n",
    "        x = x.view(batch_size, -1)\n",
    "        y = label.to(device)\n",
    "        \n",
    "        output = model(x)\n",
    "\n",
    "        loss = loss_function(output, y)\n",
    "        loss.backward()\n",
    "        optimizer.step()\n",
    "        iteration_loss_array.append(loss.cpu().detach().numpy())\n",
    "            \n",
    "    loss_array.append(loss.cpu().detach().numpy())\n",
    "    \n",
    "    if epoch % 5 == 0:\n",
    "        print(\"Epoch:\", epoch + 1, \"\\Loss:\", loss)\n",
    "\n",
    "# test\n",
    "model.eval()\n",
    "correct = 0\n",
    "total = 0\n",
    "\n",
    "prediction_list = []\n",
    "label_list = []\n",
    "\n",
    "with torch.no_grad():\n",
    "    for data, label in test_loader:\n",
    "        x = data.to(device)\n",
    "        x = x.view(-1, 784)\n",
    "        y = label.to(device)\n",
    "        \n",
    "        prediction = model(x)\n",
    "        _, prediction_index = torch.max(prediction, 1)\n",
    "                \n",
    "        prediction_list.append(prediction_index)\n",
    "        label_list.append(y)\n",
    "        \n",
    "        total += y.size(0)\n",
    "        correct += (prediction_index == y).sum().float()\n",
    "        \n",
    "print('total', total)\n",
    "print('correct', correct)\n",
    "print('accuracy', correct/total)"
   ]
  },
  {
   "cell_type": "markdown",
   "metadata": {
    "slideshow": {
     "slide_type": "skip"
    }
   },
   "source": [
    "## Plot result & Confusion matrix"
   ]
  },
  {
   "cell_type": "code",
   "execution_count": null,
   "metadata": {
    "slideshow": {
     "slide_type": "skip"
    }
   },
   "outputs": [],
   "source": [
    "# plot losses\n",
    "plt.figure()\n",
    "plt.plot(loss_array)\n",
    "plt.show()\n",
    "# plot iteration losses\n",
    "plt.figure()\n",
    "plt.plot(iteration_loss_array)\n",
    "plt.show()\n",
    "\n",
    "# confusion matrix\n",
    "from sklearn.metrics import confusion_matrix\n",
    "import numpy as np\n",
    "    \n",
    "prediction_array = np.array(prediction_list[0].cpu())\n",
    "label_array = np.array(label_list[0].cpu())\n",
    "\n",
    "print(\"prediction :\", prediction_array.shape)\n",
    "print(\"true label :\", label_array.shape)\n",
    "\n",
    "confusion_matrix(\n",
    "    label_array,\n",
    "    prediction_array) # y_pred"
   ]
  },
  {
   "cell_type": "markdown",
   "metadata": {
    "slideshow": {
     "slide_type": "slide"
    }
   },
   "source": [
    "# Build FC Layer Model\n",
    "## (Show inner distribution)"
   ]
  },
  {
   "cell_type": "code",
   "execution_count": null,
   "metadata": {
    "slideshow": {
     "slide_type": "-"
    }
   },
   "outputs": [],
   "source": [
    "# model\n",
    "class MLP(nn.Module):\n",
    "    def __init__(self):\n",
    "        super(MLP, self).__init__()\n",
    "        self.hidden1 = 1024\n",
    "        self.hidden2 = 300\n",
    "        self.final = 10\n",
    "\n",
    "        self.fc1 = nn.Linear(784, self.hidden1)\n",
    "        self.act1 = nn.Tanh()\n",
    "        self.fc2 = nn.Linear(self.hidden1, self.hidden2)\n",
    "        self.act2 = nn.Tanh()\n",
    "        self.fc3 = nn.Linear(self.hidden2, self.final)\n",
    "\n",
    "    def forward(self, x):\n",
    "        output1 = self.fc1(x)\n",
    "        hidden1 = self.act1(output1)\n",
    "\n",
    "        output2 = self.fc2(hidden1)\n",
    "        hidden2 = self.act2(output2)\n",
    "        \n",
    "        logit = self.fc3(hidden2)\n",
    "        \n",
    "        return output1, hidden1, output2, hidden2, logit\n",
    "\n",
    "model = MLP().to(device)\n",
    "model.train()\n",
    "\n",
    "# loss and optimizer\n",
    "loss_function = nn.CrossEntropyLoss()\n",
    "optimizer = optim.SGD(model.parameters(), lr = learning_rate)"
   ]
  },
  {
   "cell_type": "markdown",
   "metadata": {
    "slideshow": {
     "slide_type": "slide"
    }
   },
   "source": [
    "# Train & Test"
   ]
  },
  {
   "cell_type": "code",
   "execution_count": null,
   "metadata": {
    "slideshow": {
     "slide_type": "-"
    }
   },
   "outputs": [],
   "source": [
    "loss_array = []\n",
    "\n",
    "# train the model\n",
    "for i in range(epochs):\n",
    "    for index, [data, label] in enumerate(train_loader):\n",
    "        data = data.to(device)\n",
    "        label = label.to(device)\n",
    "                \n",
    "        optimizer.zero_grad()\n",
    "        data = data.view(batch_size, -1)\n",
    "        output1, hidden1, output2, hidden2, logit = model.forward(data)\n",
    "        loss = loss_function(logit, label)\n",
    "        loss.backward()\n",
    "        optimizer.step()\n",
    "        \n",
    "    loss_array.append(loss.cpu().detach().numpy())\n",
    "\n",
    "    if i % display_step == 0:\n",
    "        print('{} epoch loss: {}'.format(i,loss))\n",
    "        \n",
    "# test\n",
    "model.eval()\n",
    "correct = 0\n",
    "total = 0\n",
    "\n",
    "prediction_list = []\n",
    "label_list = []\n",
    "\n",
    "with torch.no_grad():\n",
    "    for data, label in test_loader:\n",
    "        x = data.to(device)\n",
    "        x = x.view(-1, 784)\n",
    "        y = label.to(device)\n",
    "        \n",
    "        output1, hidden1, output2, hidden2, prediction = model(x)\n",
    "        _, prediction_index = torch.max(prediction, 1)\n",
    "                \n",
    "        prediction_list.append(prediction_index)\n",
    "        label_list.append(y)\n",
    "        \n",
    "        total += y.size(0)\n",
    "        correct += (prediction_index == y).sum().float()\n",
    "        \n",
    "print('total', total)\n",
    "print('correct', correct)\n",
    "print('accuracy', correct/total)"
   ]
  },
  {
   "cell_type": "markdown",
   "metadata": {
    "slideshow": {
     "slide_type": "subslide"
    }
   },
   "source": [
    "## Plot result"
   ]
  },
  {
   "cell_type": "code",
   "execution_count": null,
   "metadata": {
    "slideshow": {
     "slide_type": "-"
    }
   },
   "outputs": [],
   "source": [
    "plt.figure()\n",
    "plt.plot(loss_array)\n",
    "plt.show()\n",
    "\n",
    "# confusion matrix\n",
    "from sklearn.metrics import confusion_matrix\n",
    "import numpy as np\n",
    "    \n",
    "prediction_array = np.array(prediction_list[0].cpu())\n",
    "label_array = np.array(label_list[0].cpu())\n",
    "\n",
    "print(\"prediction :\", prediction_array.shape)\n",
    "print(\"true label :\", label_array.shape)\n",
    "\n",
    "confusion_matrix(\n",
    "    label_array,\n",
    "    prediction_array) # y_pred"
   ]
  },
  {
   "cell_type": "markdown",
   "metadata": {
    "slideshow": {
     "slide_type": "subslide"
    }
   },
   "source": [
    "## Show inner distribution"
   ]
  },
  {
   "cell_type": "code",
   "execution_count": null,
   "metadata": {
    "slideshow": {
     "slide_type": "-"
    }
   },
   "outputs": [],
   "source": [
    "print(x.shape, output1.shape, hidden1.shape, output2.shape, hidden2.shape)\n",
    "\n",
    "def plot_inner_dist(x, o1, h1, o2, h2):\n",
    "    fig, axs = plt.subplots(2, 3, figsize=(10, 7), sharex='col')\n",
    "    axs[0, 0].hist(o1.reshape(-1))\n",
    "    axs[0, 1].hist(h1.reshape(-1))\n",
    "    axs[0, 2].scatter(o1[0], h1[0])\n",
    "    axs[1, 0].hist(o2.reshape(-1))\n",
    "    axs[1, 1].hist(h2.reshape(-1))\n",
    "    axs[1, 2].scatter(o2[0], h2[0])\n",
    "    plt.show()\n",
    "plot_inner_dist(x.cpu().numpy(), output1.cpu().numpy(), \n",
    "                hidden1.cpu().numpy(), output2.cpu().numpy(), hidden2.cpu().numpy())"
   ]
  },
  {
   "cell_type": "markdown",
   "metadata": {
    "slideshow": {
     "slide_type": "slide"
    }
   },
   "source": [
    "# Add Batch Normalize Layers"
   ]
  },
  {
   "cell_type": "code",
   "execution_count": null,
   "metadata": {
    "slideshow": {
     "slide_type": "-"
    }
   },
   "outputs": [],
   "source": [
    "# model\n",
    "class MLP(nn.Module):\n",
    "    def __init__(self):\n",
    "        super(MLP, self).__init__()\n",
    "        self.hidden1 = 1024\n",
    "        self.hidden2 = 300\n",
    "        self.final = 10\n",
    "\n",
    "        self.fc1 = nn.Linear(784, self.hidden1)\n",
    "        self.bn1 = nn.BatchNorm1d(self.hidden1)\n",
    "        self.act1 = nn.Tanh()\n",
    "        self.fc2 = nn.Linear(self.hidden1, self.hidden2)\n",
    "        self.bn2 = nn.BatchNorm1d(self.hidden2)\n",
    "        self.act2 = nn.Tanh()\n",
    "        self.fc3 = nn.Linear(self.hidden2, self.final)\n",
    "\n",
    "    def forward(self, x):\n",
    "        output1 = self.fc1(x)\n",
    "        bn1 = self.bn1(output1)\n",
    "        hidden1 = self.act1(bn1)\n",
    "\n",
    "        output2 = self.fc2(hidden1)\n",
    "        bn2 = self.bn2(output2)\n",
    "        hidden2 = self.act2(bn2)\n",
    "        \n",
    "        logit = self.fc3(hidden2)\n",
    "        \n",
    "        return output1, hidden1, output2, hidden2, logit\n",
    "\n",
    "model = MLP().to(device)\n",
    "model.train()\n",
    "\n",
    "# loss and optimizer\n",
    "loss_function = nn.CrossEntropyLoss()\n",
    "optimizer = optim.SGD(model.parameters(), lr = learning_rate)"
   ]
  },
  {
   "cell_type": "markdown",
   "metadata": {
    "slideshow": {
     "slide_type": "slide"
    }
   },
   "source": [
    "# Train & Test"
   ]
  },
  {
   "cell_type": "code",
   "execution_count": null,
   "metadata": {
    "slideshow": {
     "slide_type": "-"
    }
   },
   "outputs": [],
   "source": [
    "loss_array = []\n",
    "\n",
    "# train the model\n",
    "for i in range(epochs):\n",
    "    for index, [data, label] in enumerate(train_loader):\n",
    "        data = data.to(device)\n",
    "        label = label.to(device)\n",
    "                \n",
    "        optimizer.zero_grad()\n",
    "        data = data.view(batch_size, -1)\n",
    "        output1, hidden1, output2, hidden2, logit = model.forward(data)\n",
    "        loss = loss_function(logit, label)\n",
    "        loss.backward()\n",
    "        optimizer.step()\n",
    "        \n",
    "    loss_array.append(loss.cpu().detach().numpy())\n",
    "    \n",
    "    if i % display_step == 0:\n",
    "        print('{} epoch loss: {}'.format(i,loss))\n",
    "        \n",
    "        \n",
    "# test\n",
    "model.eval()\n",
    "correct = 0\n",
    "total = 0\n",
    "\n",
    "prediction_list = []\n",
    "label_list = []\n",
    "\n",
    "with torch.no_grad():\n",
    "    for data, label in test_loader:\n",
    "        x = data.to(device)\n",
    "        x = x.view(-1, 784)\n",
    "        y = label.to(device)\n",
    "        \n",
    "        output1, hidden1, output2, hidden2, prediction = model(x)\n",
    "        _, prediction_index = torch.max(prediction, 1)\n",
    "                \n",
    "        prediction_list.append(prediction_index)\n",
    "        label_list.append(y)\n",
    "        \n",
    "        total += y.size(0)\n",
    "        correct += (prediction_index == y).sum().float()\n",
    "        \n",
    "print('total', total)\n",
    "print('correct', correct)\n",
    "print('accuracy', correct/total)"
   ]
  },
  {
   "cell_type": "markdown",
   "metadata": {
    "slideshow": {
     "slide_type": "subslide"
    }
   },
   "source": [
    "## Plot the result"
   ]
  },
  {
   "cell_type": "code",
   "execution_count": null,
   "metadata": {
    "slideshow": {
     "slide_type": "-"
    }
   },
   "outputs": [],
   "source": [
    "plt.figure()\n",
    "plt.plot(loss_array)\n",
    "plt.show()\n",
    "\n",
    "# confusion matrix\n",
    "from sklearn.metrics import confusion_matrix\n",
    "import numpy as np\n",
    "    \n",
    "prediction_array = np.array(prediction_list[0].cpu())\n",
    "label_array = np.array(label_list[0].cpu())\n",
    "\n",
    "print(\"prediction :\", prediction_array.shape)\n",
    "print(\"true label :\", label_array.shape)\n",
    "\n",
    "confusion_matrix(\n",
    "    label_array,\n",
    "    prediction_array) # y_pred"
   ]
  },
  {
   "cell_type": "markdown",
   "metadata": {
    "slideshow": {
     "slide_type": "subslide"
    }
   },
   "source": [
    "## Show inner distribution"
   ]
  },
  {
   "cell_type": "code",
   "execution_count": null,
   "metadata": {},
   "outputs": [],
   "source": [
    "print(x.shape, output1.shape, hidden1.shape, output2.shape, hidden2.shape)\n",
    "\n",
    "def plot_inner_dist(x, o1, h1, o2, h2):\n",
    "    fig, axs = plt.subplots(2, 3, figsize=(10, 7), sharex='col')\n",
    "    axs[0, 0].hist(o1.reshape(-1))\n",
    "    axs[0, 1].hist(h1.reshape(-1))\n",
    "    axs[0, 2].scatter(o1[0], h1[0])\n",
    "    axs[1, 0].hist(o2.reshape(-1))\n",
    "    axs[1, 1].hist(h2.reshape(-1))\n",
    "    axs[1, 2].scatter(o2[0], h2[0])\n",
    "    plt.show()\n",
    "    \n",
    "plot_inner_dist(x.cpu().numpy(), output1.cpu().numpy(), \n",
    "                hidden1.cpu().numpy(), output2.cpu().numpy(), hidden2.cpu().numpy())"
   ]
  },
  {
   "cell_type": "markdown",
   "metadata": {
    "slideshow": {
     "slide_type": "slide"
    }
   },
   "source": [
    "# Add Dropout Layers"
   ]
  },
  {
   "cell_type": "code",
   "execution_count": null,
   "metadata": {
    "slideshow": {
     "slide_type": "-"
    }
   },
   "outputs": [],
   "source": [
    "# hyper parameter setting\n",
    "learning_rate = 1e-1\n",
    "epochs = 100\n",
    "# batch_size = 60000 # gradient descent\n",
    "# batch_size = 1 # stochastic gradient descent\n",
    "batch_size = 32 # mini-batch stochastic gradient descent\n",
    "act = nn.Tanh()\n",
    "h = 200\n",
    "display_step = 10\n",
    "dropout_rate = .2 # probability to be 0 "
   ]
  },
  {
   "cell_type": "code",
   "execution_count": null,
   "metadata": {
    "slideshow": {
     "slide_type": "-"
    }
   },
   "outputs": [],
   "source": [
    "# model\n",
    "class MLP(nn.Module):\n",
    "    def __init__(self):\n",
    "        super(MLP, self).__init__()\n",
    "        self.hidden1 = 1024\n",
    "        self.hidden2 = 300\n",
    "        self.final = 10\n",
    "\n",
    "        self.fc1 = nn.Linear(784, self.hidden1)\n",
    "        self.act1 = nn.Tanh()\n",
    "        self.drop1 = nn.Dropout(dropout_rate)\n",
    "        self.fc2 = nn.Linear(self.hidden1, self.hidden2)\n",
    "        self.act2 = nn.Tanh()\n",
    "        self.drop2 = nn.Dropout(dropout_rate)\n",
    "        self.fc3 = nn.Linear(self.hidden2, self.final)\n",
    "\n",
    "    def forward(self, x):\n",
    "        output1 = self.fc1(x)\n",
    "        hidden1 = self.act1(output1)\n",
    "        drop1 = self.drop1(hidden1)\n",
    "        \n",
    "        output2 = self.fc2(drop1)\n",
    "        hidden2 = self.act2(output2)\n",
    "        drop2 = self.drop2(hidden2)\n",
    "        \n",
    "        logit = self.fc3(drop2)\n",
    "        \n",
    "        return logit\n",
    "\n",
    "model = MLP().to(device)\n",
    "model.train()\n",
    "\n",
    "# loss and optimizer\n",
    "loss_function = nn.CrossEntropyLoss()\n",
    "optimizer = optim.SGD(model.parameters(), lr = learning_rate)"
   ]
  },
  {
   "cell_type": "markdown",
   "metadata": {
    "slideshow": {
     "slide_type": "slide"
    }
   },
   "source": [
    "# Train & Test"
   ]
  },
  {
   "cell_type": "code",
   "execution_count": null,
   "metadata": {
    "slideshow": {
     "slide_type": "-"
    }
   },
   "outputs": [],
   "source": [
    "loss_array = []\n",
    "\n",
    "# train the model\n",
    "for i in range(epochs):\n",
    "    for index, [data, label] in enumerate(train_loader):\n",
    "        data = data.to(device)\n",
    "        label = label.to(device)\n",
    "                \n",
    "        optimizer.zero_grad()\n",
    "        data = data.view(batch_size, -1)\n",
    "        logit = model.forward(data)\n",
    "        loss = loss_function(logit, label)\n",
    "        loss.backward()\n",
    "        optimizer.step()\n",
    "        \n",
    "    loss_array.append(loss.cpu().detach().numpy())\n",
    "    \n",
    "    if i % display_step == 0:\n",
    "        print('{} epoch loss: {}'.format(i,loss))\n",
    "        \n",
    "        \n",
    "# test\n",
    "model.eval()\n",
    "correct = 0\n",
    "total = 0\n",
    "\n",
    "prediction_list = []\n",
    "label_list = []\n",
    "\n",
    "with torch.no_grad():\n",
    "    for data, label in test_loader:\n",
    "        x = data.to(device)\n",
    "        x = x.view(-1, 784)\n",
    "        y = label.to(device)\n",
    "        \n",
    "        prediction = model(x)\n",
    "        _, prediction_index = torch.max(prediction, 1)\n",
    "                \n",
    "        prediction_list.append(prediction_index)\n",
    "        label_list.append(y)\n",
    "        \n",
    "        total += y.size(0)\n",
    "        correct += (prediction_index == y).sum().float()\n",
    "        \n",
    "print('total', total)\n",
    "print('correct', correct)\n",
    "print('accuracy', correct/total)"
   ]
  },
  {
   "cell_type": "markdown",
   "metadata": {
    "slideshow": {
     "slide_type": "subslide"
    }
   },
   "source": [
    "## Plot result"
   ]
  },
  {
   "cell_type": "code",
   "execution_count": null,
   "metadata": {
    "slideshow": {
     "slide_type": "-"
    }
   },
   "outputs": [],
   "source": [
    "plt.figure()\n",
    "plt.plot(loss_array)\n",
    "plt.show()\n",
    "\n",
    "# confusion matrix\n",
    "from sklearn.metrics import confusion_matrix\n",
    "import numpy as np\n",
    "    \n",
    "prediction_array = np.array(prediction_list[0].cpu())\n",
    "label_array = np.array(label_list[0].cpu())\n",
    "\n",
    "print(\"prediction :\", prediction_array.shape)\n",
    "print(\"true label :\", label_array.shape)\n",
    "\n",
    "confusion_matrix(\n",
    "    label_array,\n",
    "    prediction_array) # y_pred"
   ]
  },
  {
   "cell_type": "markdown",
   "metadata": {
    "slideshow": {
     "slide_type": "slide"
    }
   },
   "source": [
    "# Add Batch norm, Dropout Layers"
   ]
  },
  {
   "cell_type": "code",
   "execution_count": null,
   "metadata": {
    "slideshow": {
     "slide_type": "-"
    }
   },
   "outputs": [],
   "source": [
    "# model\n",
    "class MLP(nn.Module):\n",
    "    def __init__(self):\n",
    "        super(MLP, self).__init__()\n",
    "        self.hidden1 = 1024\n",
    "        self.hidden2 = 300\n",
    "        self.final = 10\n",
    "\n",
    "        self.fc1 = nn.Linear(784, self.hidden1)\n",
    "        self.bn1 = nn.BatchNorm1d(self.hidden1)\n",
    "        self.act1 = nn.Tanh()\n",
    "        self.drop1 = nn.Dropout(dropout_rate)\n",
    "        \n",
    "        self.fc2 = nn.Linear(self.hidden1, self.hidden2)\n",
    "        self.bn2 = nn.BatchNorm1d(self.hidden2)\n",
    "        self.act2 = nn.Tanh()\n",
    "        self.drop2 = nn.Dropout(dropout_rate)\n",
    "        \n",
    "        self.fc3 = nn.Linear(self.hidden2, self.final)\n",
    "\n",
    "    def forward(self, x):\n",
    "        output1 = self.fc1(x)\n",
    "        bn1 = self.bn1(output1)\n",
    "        hidden1 = self.act1(bn1)\n",
    "        drop1 = self.drop1(hidden1)\n",
    "\n",
    "        output2 = self.fc2(drop1)\n",
    "        bn2 = self.bn2(output2)\n",
    "        hidden2 = self.act2(bn2)\n",
    "        drop2 = self.drop2(hidden2)\n",
    "        \n",
    "        logit = self.fc3(drop2)\n",
    "        \n",
    "        return logit\n",
    "\n",
    "model = MLP().to(device)\n",
    "model.train()\n",
    "\n",
    "# loss and optimizer\n",
    "loss_function = nn.CrossEntropyLoss()\n",
    "optimizer = optim.SGD(model.parameters(), lr = learning_rate)"
   ]
  },
  {
   "cell_type": "markdown",
   "metadata": {
    "slideshow": {
     "slide_type": "slide"
    }
   },
   "source": [
    "# Train & Test"
   ]
  },
  {
   "cell_type": "code",
   "execution_count": null,
   "metadata": {
    "slideshow": {
     "slide_type": "-"
    }
   },
   "outputs": [],
   "source": [
    "loss_array = []\n",
    "\n",
    "# train the model\n",
    "for i in range(epochs):\n",
    "    for index, [data, label] in enumerate(train_loader):\n",
    "        data = data.to(device)\n",
    "        label = label.to(device)\n",
    "                \n",
    "        optimizer.zero_grad()\n",
    "        data = data.view(batch_size, -1)\n",
    "        logit = model.forward(data)\n",
    "        loss = loss_function(logit, label)\n",
    "        loss.backward()\n",
    "        optimizer.step()\n",
    "        \n",
    "    loss_array.append(loss.cpu().detach().numpy())\n",
    "    \n",
    "    if i % display_step == 0:\n",
    "        print('{} epoch loss: {}'.format(i,loss))\n",
    "        \n",
    "        \n",
    "# test\n",
    "model.eval()\n",
    "correct = 0\n",
    "total = 0\n",
    "\n",
    "prediction_list = []\n",
    "label_list = []\n",
    "\n",
    "with torch.no_grad():\n",
    "    for data, label in test_loader:\n",
    "        x = data.to(device)\n",
    "        x = x.view(-1, 784)\n",
    "        y = label.to(device)\n",
    "        \n",
    "        prediction = model(x)\n",
    "        _, prediction_index = torch.max(prediction, 1)\n",
    "                \n",
    "        prediction_list.append(prediction_index)\n",
    "        label_list.append(y)\n",
    "        \n",
    "        total += y.size(0)\n",
    "        correct += (prediction_index == y).sum().float()\n",
    "        \n",
    "print('total', total)\n",
    "print('correct', correct)\n",
    "print('accuracy', correct/total)"
   ]
  },
  {
   "cell_type": "markdown",
   "metadata": {
    "slideshow": {
     "slide_type": "subslide"
    }
   },
   "source": [
    "## Plot result"
   ]
  },
  {
   "cell_type": "code",
   "execution_count": null,
   "metadata": {
    "slideshow": {
     "slide_type": "-"
    }
   },
   "outputs": [],
   "source": [
    "plt.figure()\n",
    "plt.plot(loss_array)\n",
    "plt.show()\n",
    "\n",
    "# confusion matrix\n",
    "from sklearn.metrics import confusion_matrix\n",
    "import numpy as np\n",
    "    \n",
    "prediction_array = np.array(prediction_list[0].cpu())\n",
    "label_array = np.array(label_list[0].cpu())\n",
    "\n",
    "print(\"prediction :\", prediction_array.shape)\n",
    "print(\"true label :\", label_array.shape)\n",
    "\n",
    "confusion_matrix(\n",
    "    label_array,\n",
    "    prediction_array) # y_pred"
   ]
  },
  {
   "cell_type": "markdown",
   "metadata": {
    "slideshow": {
     "slide_type": "skip"
    }
   },
   "source": [
    "# Advanced: batch norm + dropout in CNN"
   ]
  },
  {
   "cell_type": "code",
   "execution_count": null,
   "metadata": {},
   "outputs": [],
   "source": [
    "test_loader = torch.utils.data.DataLoader(test_data, batch_size = batch_size, shuffle = True, num_workers = 1, drop_last = True)\n",
    "\n",
    "# batchnorm + dropout in CNN\n",
    "class CNN(nn.Module):\n",
    "    def __init__(self):\n",
    "        super(CNN,self).__init__()\n",
    "        self.feature_extraction = nn.Sequential(\n",
    "            nn.Conv2d(1, 16, 3, padding =1), # 28 x 28\n",
    "            nn.BatchNorm2d(16),\n",
    "            nn.ReLU(),\n",
    "            nn.MaxPool2d(2,2),\n",
    "            nn.Conv2d(16, 32, 3, padding =1), # 14 x 14 \n",
    "            nn.BatchNorm2d(32),\n",
    "            nn.ReLU(),\n",
    "            nn.MaxPool2d(2,2) # 7 x 7\n",
    "        )\n",
    "        self.classifier = nn.Sequential(\n",
    "            nn.Linear(32*7*7,100),\n",
    "            nn.BatchNorm1d(100),\n",
    "            nn.ReLU(),\n",
    "            nn.Dropout(dropout_rate),\n",
    "            nn.Linear(100,10)\n",
    "        )\n",
    "    def forward(self, x):\n",
    "        feature_extraction = self.feature_extraction(x)\n",
    "        flatten = feature_extraction.view(batch_size, -1)         \n",
    "        logit = self.classifier(flatten)\n",
    "        \n",
    "        return logit\n",
    "        \n",
    "model = CNN().to(device)\n",
    "model.train()\n",
    "\n",
    "# loss and optimizer\n",
    "loss_function = nn.CrossEntropyLoss()\n",
    "optimizer = optim.SGD(model.parameters(), lr = learning_rate)"
   ]
  },
  {
   "cell_type": "markdown",
   "metadata": {
    "slideshow": {
     "slide_type": "slide"
    }
   },
   "source": [
    "# Train & Test"
   ]
  },
  {
   "cell_type": "code",
   "execution_count": null,
   "metadata": {},
   "outputs": [],
   "source": [
    "loss_array = []\n",
    "\n",
    "# train the model\n",
    "for i in range(epochs):\n",
    "    for index, [data, label] in enumerate(train_loader):\n",
    "        data = data.to(device)\n",
    "        label = label.to(device)\n",
    "                \n",
    "        optimizer.zero_grad()\n",
    "        output = model.forward(data)\n",
    "        loss = loss_function(output, label)\n",
    "        loss.backward()\n",
    "        optimizer.step()\n",
    "        \n",
    "    if i % display_step == 0:\n",
    "        print('{} epoch loss: {}'.format(i,loss))\n",
    "        loss_array.append(loss.cpu().detach().numpy())\n",
    "        \n",
    "#test the model\n",
    "model.eval()\n",
    "correct = 0\n",
    "total = 0\n",
    "\n",
    "prediction_list = []\n",
    "label_list = []\n",
    "\n",
    "with torch.no_grad():\n",
    "    for index, [data, label] in enumerate(test_loader):\n",
    "        data = data.to(device)\n",
    "        label = label.to(device)\n",
    "        \n",
    "        output = model.forward(data)\n",
    "        _, prediction_index = torch.max(output, 1)\n",
    "        \n",
    "        prediction_list.append(prediction_index)\n",
    "        label_list.append(label)\n",
    "        \n",
    "        total += label.size(0)\n",
    "        correct += (prediction_index == label).sum().float()\n",
    "\n",
    "    print(\"Accuracy of the model: {}\".format(correct/total))"
   ]
  },
  {
   "cell_type": "code",
   "execution_count": null,
   "metadata": {},
   "outputs": [],
   "source": []
  }
 ],
 "metadata": {
  "celltoolbar": "Slideshow",
  "kernelspec": {
   "display_name": "pytorch",
   "language": "python",
   "name": "pytorch"
  },
  "language_info": {
   "codemirror_mode": {
    "name": "ipython",
    "version": 3
   },
   "file_extension": ".py",
   "mimetype": "text/x-python",
   "name": "python",
   "nbconvert_exporter": "python",
   "pygments_lexer": "ipython3",
   "version": "3.6.9"
  },
  "widgets": {
   "state": {},
   "version": "1.1.2"
  }
 },
 "nbformat": 4,
 "nbformat_minor": 2
}
