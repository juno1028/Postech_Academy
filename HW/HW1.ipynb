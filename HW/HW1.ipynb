{
 "cells": [
  {
   "cell_type": "code",
   "execution_count": 1,
   "metadata": {},
   "outputs": [
    {
     "name": "stdout",
     "output_type": "stream",
     "text": [
      "화씨온도 : 100\n",
      "섭씨온도 : 37.77777777777778\n"
     ]
    }
   ],
   "source": [
    "# 문제1\n",
    "\n",
    "feh_tem = int(input('화씨온도 : '))\n",
    "cel_tem = (feh_tem-32)*(5/9)\n",
    "print(f'섭씨온도 : {cel_tem}')"
   ]
  },
  {
   "cell_type": "code",
   "execution_count": 16,
   "metadata": {},
   "outputs": [
    {
     "name": "stdout",
     "output_type": "stream",
     "text": [
      "투입한 돈 : 5000\n",
      "물건값 : 2700\n",
      "거스름돈 : 2300\n",
      "500원짜리 : 4\n",
      "100원짜리 : 3\n"
     ]
    }
   ],
   "source": [
    "# 문제2\n",
    "\n",
    "input_money = int(input('투입한 돈 : '))\n",
    "price = int(input('물건값 : '))\n",
    "change = input_money - price\n",
    "cnt_500 = change // 500\n",
    "cnt_100 = int((change-(500*cnt_500))/100)\n",
    "\n",
    "print(f'거스름돈 : {change}')\n",
    "print(f'500원짜리 : {cnt_500}개')\n",
    "print(f'100원짜리 : {cnt_100}개')"
   ]
  },
  {
   "cell_type": "code",
   "execution_count": 10,
   "metadata": {},
   "outputs": [
    {
     "name": "stdout",
     "output_type": "stream",
     "text": [
      "반지름을 입력하시오: 5\n",
      "원 둘레 : 31.42\n",
      "원 넓이 : 78.54\n"
     ]
    }
   ],
   "source": [
    "# 문제3\n",
    "\n",
    "pi = 3.141592\n",
    "\n",
    "radius = float(input('반지름을 입력하시오: '))\n",
    "print(f'원 둘레 : {2 * pi * radius:.2f}')\n",
    "print(f'원 넓이 : {pi * radius ** 2:.2f}')"
   ]
  },
  {
   "cell_type": "code",
   "execution_count": null,
   "metadata": {},
   "outputs": [],
   "source": []
  }
 ],
 "metadata": {
  "kernelspec": {
   "display_name": "Python 3",
   "language": "python",
   "name": "python3"
  },
  "language_info": {
   "codemirror_mode": {
    "name": "ipython",
    "version": 3
   },
   "file_extension": ".py",
   "mimetype": "text/x-python",
   "name": "python",
   "nbconvert_exporter": "python",
   "pygments_lexer": "ipython3",
   "version": "3.8.3"
  }
 },
 "nbformat": 4,
 "nbformat_minor": 4
}
