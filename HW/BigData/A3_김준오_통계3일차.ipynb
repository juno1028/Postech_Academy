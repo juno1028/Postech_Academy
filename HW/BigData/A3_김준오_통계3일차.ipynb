{
 "cells": [
  {
   "cell_type": "markdown",
   "metadata": {},
   "source": [
    "## [실습] 카이제곱 검정"
   ]
  },
  {
   "cell_type": "code",
   "execution_count": 1,
   "metadata": {},
   "outputs": [],
   "source": [
    "import numpy as np\n",
    "from scipy import stats\n",
    "import scipy.stats\n",
    "import pandas as pd\n",
    "import statsmodels.api as sm\n",
    "import matplotlib\n",
    "import matplotlib.pyplot as plt\n",
    "import seaborn as sns\n",
    "from statsmodels.stats.proportion import proportions_ztest\n",
    "\n",
    "%matplotlib inline"
   ]
  },
  {
   "cell_type": "code",
   "execution_count": 3,
   "metadata": {},
   "outputs": [],
   "source": [
    "df = pd.DataFrame({\"A\":[18,1,8,7,10,9,10],\n",
    "                  \"B\":[8,2,14,5,5,9,4],\n",
    "                  \"C\":[4,1,3,4,9,5,4],\n",
    "                  \"D\":[4,1,2,3,2,7,3],\n",
    "                  \"E\":[3,1,3,1,1,1,1],\n",
    "                  \"F\":[3,25,8,10,2,1,7]},\n",
    "                 index=['as','price','performance', 'scalibility','design','stability','functionality'])"
   ]
  },
  {
   "cell_type": "code",
   "execution_count": 4,
   "metadata": {},
   "outputs": [
    {
     "name": "stdout",
     "output_type": "stream",
     "text": [
      " chi2 test \n",
      " chi2: 98.274\n",
      " p-value: 0.000\n",
      " degree of freedom: 30\n",
      " expected value: \n",
      "[[11.   8.2  5.2  3.8  1.9  9.8]\n",
      " [ 8.5  6.4  4.1  3.   1.5  7.6]\n",
      " [10.5  7.8  5.   3.7  1.8  9.3]\n",
      " [ 8.3  6.2  3.9  2.9  1.4  7.3]\n",
      " [ 8.   6.   3.8  2.8  1.4  7.1]\n",
      " [ 8.8  6.6  4.2  3.1  1.5  7.8]\n",
      " [ 8.   6.   3.8  2.8  1.4  7.1]]\n"
     ]
    }
   ],
   "source": [
    "from scipy.stats import chi2_contingency\n",
    "\n",
    "# chi-square test 실행\n",
    "chi, pval, dof, expected = stats.chi2_contingency(df)\n",
    "\n",
    "# chi-sqaure test 결과 출력\n",
    "print(\" chi2 test \")\n",
    "print(' chi2: {0:0.3f}'.format(chi))\n",
    "print(' p-value: {0:0.3f}'.format(pval))\n",
    "print(' degree of freedom: {}'.format(dof))\n",
    "print(' expected value: \\n{}'.format(expected.round(1)))"
   ]
  },
  {
   "cell_type": "markdown",
   "metadata": {},
   "source": [
    ": p-value가 0.000으로 소비자가 느끼기에 제품에 차이가 있다고 느낄 것이다."
   ]
  },
  {
   "cell_type": "markdown",
   "metadata": {},
   "source": [
    "## [실습] One way ANOVA"
   ]
  },
  {
   "cell_type": "code",
   "execution_count": 8,
   "metadata": {},
   "outputs": [],
   "source": [
    "# 선형모델 formula\n",
    "import statsmodels.formula.api as smf\n",
    "import statsmodels.api as sm\n",
    "\n",
    "from statsmodels.formula.api import ols\n",
    "from statsmodels.stats.anova import anova_lm"
   ]
  },
  {
   "cell_type": "code",
   "execution_count": 9,
   "metadata": {},
   "outputs": [
    {
     "data": {
      "text/html": [
       "<div>\n",
       "<style scoped>\n",
       "    .dataframe tbody tr th:only-of-type {\n",
       "        vertical-align: middle;\n",
       "    }\n",
       "\n",
       "    .dataframe tbody tr th {\n",
       "        vertical-align: top;\n",
       "    }\n",
       "\n",
       "    .dataframe thead th {\n",
       "        text-align: right;\n",
       "    }\n",
       "</style>\n",
       "<table border=\"1\" class=\"dataframe\">\n",
       "  <thead>\n",
       "    <tr style=\"text-align: right;\">\n",
       "      <th></th>\n",
       "      <th>time</th>\n",
       "      <th>charge</th>\n",
       "      <th>gangjong</th>\n",
       "      <th>type</th>\n",
       "    </tr>\n",
       "  </thead>\n",
       "  <tbody>\n",
       "    <tr>\n",
       "      <th>0</th>\n",
       "      <td>32.2</td>\n",
       "      <td>A</td>\n",
       "      <td>a</td>\n",
       "      <td>a</td>\n",
       "    </tr>\n",
       "    <tr>\n",
       "      <th>1</th>\n",
       "      <td>30.4</td>\n",
       "      <td>B</td>\n",
       "      <td>a</td>\n",
       "      <td>a</td>\n",
       "    </tr>\n",
       "    <tr>\n",
       "      <th>2</th>\n",
       "      <td>33.6</td>\n",
       "      <td>C</td>\n",
       "      <td>a</td>\n",
       "      <td>a</td>\n",
       "    </tr>\n",
       "  </tbody>\n",
       "</table>\n",
       "</div>"
      ],
      "text/plain": [
       "   time charge gangjong type\n",
       "0  32.2      A        a    a\n",
       "1  30.4      B        a    a\n",
       "2  33.6      C        a    a"
      ]
     },
     "execution_count": 9,
     "metadata": {},
     "output_type": "execute_result"
    }
   ],
   "source": [
    "df = pd.read_csv(\"/home/piai/test/Practice/data/ANOVA.csv\", engine=\"python\")\n",
    "df.head(3)"
   ]
  },
  {
   "cell_type": "code",
   "execution_count": 10,
   "metadata": {},
   "outputs": [
    {
     "data": {
      "text/plain": [
       "<matplotlib.axes._subplots.AxesSubplot at 0x7fdce83a7310>"
      ]
     },
     "execution_count": 10,
     "metadata": {},
     "output_type": "execute_result"
    },
    {
     "data": {
      "image/png": "[encoded data removed]",
      "text/plain": [
       "<Figure size 432x288 with 1 Axes>"
      ]
     },
     "metadata": {
      "needs_background": "light"
     },
     "output_type": "display_data"
    }
   ],
   "source": [
    "df.boxplot(\"time\", by=\"gangjong\")"
   ]
  },
  {
   "cell_type": "code",
   "execution_count": 11,
   "metadata": {},
   "outputs": [
    {
     "name": "stdout",
     "output_type": "stream",
     "text": [
      "               df      sum_sq    mean_sq         F    PR(>F)\n",
      "C(gangjong)   3.0  104.603333  34.867778  4.171868  0.019013\n",
      "Residual     20.0  167.156667   8.357833       NaN       NaN\n"
     ]
    }
   ],
   "source": [
    "# ANOVA 실행\n",
    "# statsmodels 라이브러리를 사용\n",
    "formula = 'time ~ C(gangjong)'\n",
    "lm = ols(formula, df).fit()\n",
    "\n",
    "print(anova_lm(lm))"
   ]
  },
  {
   "cell_type": "markdown",
   "metadata": {},
   "source": [
    "결론 : 유의수준 5%에서 P값이 0.019 이므로 강종별 2차정령 시간에 차이가 있다고 할 수 있다."
   ]
  },
  {
   "cell_type": "markdown",
   "metadata": {},
   "source": [
    "## [실습] 상관분석"
   ]
  },
  {
   "cell_type": "code",
   "execution_count": 12,
   "metadata": {},
   "outputs": [
    {
     "data": {
      "text/html": [
       "<div>\n",
       "<style scoped>\n",
       "    .dataframe tbody tr th:only-of-type {\n",
       "        vertical-align: middle;\n",
       "    }\n",
       "\n",
       "    .dataframe tbody tr th {\n",
       "        vertical-align: top;\n",
       "    }\n",
       "\n",
       "    .dataframe thead th {\n",
       "        text-align: right;\n",
       "    }\n",
       "</style>\n",
       "<table border=\"1\" class=\"dataframe\">\n",
       "  <thead>\n",
       "    <tr style=\"text-align: right;\">\n",
       "      <th></th>\n",
       "      <th>strength</th>\n",
       "      <th>temp</th>\n",
       "      <th>Quantity</th>\n",
       "      <th>b_time</th>\n",
       "      <th>Oven_TMP</th>\n",
       "    </tr>\n",
       "  </thead>\n",
       "  <tbody>\n",
       "    <tr>\n",
       "      <th>0</th>\n",
       "      <td>37.6</td>\n",
       "      <td>14</td>\n",
       "      <td>120.790646</td>\n",
       "      <td>0.798922</td>\n",
       "      <td>307.106574</td>\n",
       "    </tr>\n",
       "    <tr>\n",
       "      <th>1</th>\n",
       "      <td>38.6</td>\n",
       "      <td>15</td>\n",
       "      <td>99.643155</td>\n",
       "      <td>0.849020</td>\n",
       "      <td>318.178850</td>\n",
       "    </tr>\n",
       "    <tr>\n",
       "      <th>2</th>\n",
       "      <td>37.2</td>\n",
       "      <td>14</td>\n",
       "      <td>115.102395</td>\n",
       "      <td>0.816163</td>\n",
       "      <td>339.715122</td>\n",
       "    </tr>\n",
       "    <tr>\n",
       "      <th>3</th>\n",
       "      <td>36.4</td>\n",
       "      <td>16</td>\n",
       "      <td>114.640504</td>\n",
       "      <td>0.758266</td>\n",
       "      <td>341.174398</td>\n",
       "    </tr>\n",
       "    <tr>\n",
       "      <th>4</th>\n",
       "      <td>38.6</td>\n",
       "      <td>17</td>\n",
       "      <td>141.266536</td>\n",
       "      <td>0.815894</td>\n",
       "      <td>335.904402</td>\n",
       "    </tr>\n",
       "  </tbody>\n",
       "</table>\n",
       "</div>"
      ],
      "text/plain": [
       "   strength  temp    Quantity    b_time    Oven_TMP\n",
       "0      37.6    14  120.790646  0.798922  307.106574\n",
       "1      38.6    15   99.643155  0.849020  318.178850\n",
       "2      37.2    14  115.102395  0.816163  339.715122\n",
       "3      36.4    16  114.640504  0.758266  341.174398\n",
       "4      38.6    17  141.266536  0.815894  335.904402"
      ]
     },
     "execution_count": 12,
     "metadata": {},
     "output_type": "execute_result"
    }
   ],
   "source": [
    "# 초코칩\n",
    "df = pd.read_csv(\"/home/piai/test/Practice/data/correlation.csv\", engine=\"python\")\n",
    "df.head()"
   ]
  },
  {
   "cell_type": "code",
   "execution_count": 13,
   "metadata": {},
   "outputs": [
    {
     "data": {
      "text/plain": [
       "<matplotlib.axes._subplots.AxesSubplot at 0x7fdce81e08b0>"
      ]
     },
     "execution_count": 13,
     "metadata": {},
     "output_type": "execute_result"
    },
    {
     "data": {
      "image/png": "[encoded data removed]",
      "text/plain": [
       "<Figure size 432x288 with 1 Axes>"
      ]
     },
     "metadata": {
      "needs_background": "light"
     },
     "output_type": "display_data"
    }
   ],
   "source": [
    "df.plot.scatter(x=\"temp\",y=\"strength\")"
   ]
  },
  {
   "cell_type": "code",
   "execution_count": 14,
   "metadata": {},
   "outputs": [
    {
     "name": "stdout",
     "output_type": "stream",
     "text": [
      "Correlation Analysis \n",
      "corr: -0.899\n",
      "p-value : 0.000\n"
     ]
    }
   ],
   "source": [
    "# Correlation Analysis 실행\n",
    "corr, pval = stats.pearsonr(df[\"temp\"], df[\"strength\"])\n",
    "\n",
    "# Correlation, p-value 결과 출력\n",
    "print( \"Correlation Analysis \")\n",
    "print( 'corr: {0:0.3f}'.format(corr))\n",
    "print( 'p-value : {0:0.3f}'.format(pval))"
   ]
  },
  {
   "cell_type": "markdown",
   "metadata": {},
   "source": [
    ":초코칩의 강도와 재료 반죽온도간에 \"매우 강함 음의 상관성\"이 있다고 볼 수 있다."
   ]
  },
  {
   "cell_type": "code",
   "execution_count": null,
   "metadata": {},
   "outputs": [],
   "source": []
  },
  {
   "cell_type": "code",
   "execution_count": null,
   "metadata": {},
   "outputs": [],
   "source": []
  }
 ],
 "metadata": {
  "kernelspec": {
   "display_name": "Python 3",
   "language": "python",
   "name": "python3"
  },
  "language_info": {
   "codemirror_mode": {
    "name": "ipython",
    "version": 3
   },
   "file_extension": ".py",
   "mimetype": "text/x-python",
   "name": "python",
   "nbconvert_exporter": "python",
   "pygments_lexer": "ipython3",
   "version": "3.8.3"
  }
 },
 "nbformat": 4,
 "nbformat_minor": 4
}
