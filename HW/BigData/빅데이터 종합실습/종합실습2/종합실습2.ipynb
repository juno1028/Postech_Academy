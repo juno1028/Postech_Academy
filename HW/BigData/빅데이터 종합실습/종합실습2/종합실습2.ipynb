{
 "cells": [
  {
   "cell_type": "markdown",
   "metadata": {},
   "source": [
    "## 분석배경\n",
    ": OO공장의 고객사에서 최근 들어 \"Scale 불량 발생 증가\"라는 이슈가 발생했다. 그 원인을 분석해 본 결과 압연공정에서 Scale불량이 급증한 것을 확인할 수 있었다. 그래서 데이터를 수집하여 다양한 분석을 통해 불량 발생의 근본 원인을 찾고 결과를 해석하여 개선 기회를 도출한다."
   ]
  },
  {
   "cell_type": "markdown",
   "metadata": {},
   "source": [
    "## 잠재적인 인자 선정\n",
    "\n",
    "* Scale 발생 : `없음 - 발생`\n",
    "    1. 가열로 가열대 온도(FUR_HZ_TEMP) : `저 - 고`\n",
    "    2. 가열로 균열대 온도(FUR_SZ_TEMP) : `저 - 고`\n",
    "    3. 가열로 추출 온도(FUR_EXTEMP) : `저 - 고`\n",
    "    4. Hot Scale Breaker(HSB) : `적용 - 미적용`\n",
    "    5. 사상 압연 온도(ROLLING_TEMP_T5) : `저 - 고`\n",
    "    6. 압연간 Descaling 횟수(ROLLING_DESCALING) : `증가 - 감소`\n",
    "    7. 판두께(PT_THICK) : `후 - 박`"
   ]
  },
  {
   "cell_type": "code",
   "execution_count": 40,
   "metadata": {},
   "outputs": [],
   "source": [
    "import pandas as pd\n",
    "import numpy as np\n",
    "import matplotlib.pyplot as plt\n",
    "import matplotlib\n",
    "\n",
    "import seaborn as sns\n",
    "\n",
    "# matplotlib.rc(\"font\", family=\"Noto Sans CJK JP\")\n",
    "matplotlib.rc(\"font\", family=\"NanumGothic\")\n",
    "plt.rcParams['axes.unicode_minus'] = False\n",
    "\n",
    "%matplotlib inline"
   ]
  },
  {
   "cell_type": "markdown",
   "metadata": {},
   "source": [
    "## 데이터 불러오기 및 확인"
   ]
  },
  {
   "cell_type": "code",
   "execution_count": 41,
   "metadata": {},
   "outputs": [
    {
     "data": {
      "text/html": [
       "<div>\n",
       "<style scoped>\n",
       "    .dataframe tbody tr th:only-of-type {\n",
       "        vertical-align: middle;\n",
       "    }\n",
       "\n",
       "    .dataframe tbody tr th {\n",
       "        vertical-align: top;\n",
       "    }\n",
       "\n",
       "    .dataframe thead th {\n",
       "        text-align: right;\n",
       "    }\n",
       "</style>\n",
       "<table border=\"1\" class=\"dataframe\">\n",
       "  <thead>\n",
       "    <tr style=\"text-align: right;\">\n",
       "      <th></th>\n",
       "      <th>PLATE_NO</th>\n",
       "      <th>ROLLING_DATE</th>\n",
       "      <th>SCALE</th>\n",
       "      <th>SPEC</th>\n",
       "      <th>STEEL_KIND</th>\n",
       "      <th>PT_THK</th>\n",
       "      <th>PT_WDTH</th>\n",
       "      <th>PT_LTH</th>\n",
       "      <th>PT_WGT</th>\n",
       "      <th>FUR_NO</th>\n",
       "      <th>...</th>\n",
       "      <th>FUR_HZ_TEMP</th>\n",
       "      <th>FUR_HZ_TIME</th>\n",
       "      <th>FUR_SZ_TEMP</th>\n",
       "      <th>FUR_SZ_TIME</th>\n",
       "      <th>FUR_TIME</th>\n",
       "      <th>FUR_EXTEMP</th>\n",
       "      <th>ROLLING_TEMP_T5</th>\n",
       "      <th>HSB</th>\n",
       "      <th>ROLLING_DESCALING</th>\n",
       "      <th>WORK_GR</th>\n",
       "    </tr>\n",
       "  </thead>\n",
       "  <tbody>\n",
       "    <tr>\n",
       "      <th>0</th>\n",
       "      <td>PB562774</td>\n",
       "      <td>2008-08-01:00:00:15</td>\n",
       "      <td>양품</td>\n",
       "      <td>AB/EH32-TM</td>\n",
       "      <td>T1</td>\n",
       "      <td>32.25</td>\n",
       "      <td>3707</td>\n",
       "      <td>15109</td>\n",
       "      <td>14180</td>\n",
       "      <td>1호기</td>\n",
       "      <td>...</td>\n",
       "      <td>1144</td>\n",
       "      <td>116</td>\n",
       "      <td>1133</td>\n",
       "      <td>59</td>\n",
       "      <td>282</td>\n",
       "      <td>1133</td>\n",
       "      <td>934</td>\n",
       "      <td>적용</td>\n",
       "      <td>8</td>\n",
       "      <td>2조</td>\n",
       "    </tr>\n",
       "    <tr>\n",
       "      <th>1</th>\n",
       "      <td>PB562775</td>\n",
       "      <td>2008-08-01:00:00:16</td>\n",
       "      <td>양품</td>\n",
       "      <td>AB/EH32-TM</td>\n",
       "      <td>T1</td>\n",
       "      <td>32.25</td>\n",
       "      <td>3707</td>\n",
       "      <td>15109</td>\n",
       "      <td>14180</td>\n",
       "      <td>1호기</td>\n",
       "      <td>...</td>\n",
       "      <td>1144</td>\n",
       "      <td>122</td>\n",
       "      <td>1135</td>\n",
       "      <td>53</td>\n",
       "      <td>283</td>\n",
       "      <td>1135</td>\n",
       "      <td>937</td>\n",
       "      <td>적용</td>\n",
       "      <td>8</td>\n",
       "      <td>2조</td>\n",
       "    </tr>\n",
       "    <tr>\n",
       "      <th>2</th>\n",
       "      <td>PB562776</td>\n",
       "      <td>2008-08-01:00:00:59</td>\n",
       "      <td>양품</td>\n",
       "      <td>NV-E36-TM</td>\n",
       "      <td>T8</td>\n",
       "      <td>33.27</td>\n",
       "      <td>3619</td>\n",
       "      <td>19181</td>\n",
       "      <td>18130</td>\n",
       "      <td>2호기</td>\n",
       "      <td>...</td>\n",
       "      <td>1129</td>\n",
       "      <td>116</td>\n",
       "      <td>1121</td>\n",
       "      <td>55</td>\n",
       "      <td>282</td>\n",
       "      <td>1121</td>\n",
       "      <td>889</td>\n",
       "      <td>적용</td>\n",
       "      <td>8</td>\n",
       "      <td>3조</td>\n",
       "    </tr>\n",
       "    <tr>\n",
       "      <th>3</th>\n",
       "      <td>PB562777</td>\n",
       "      <td>2008-08-01:00:01:24</td>\n",
       "      <td>양품</td>\n",
       "      <td>NV-E36-TM</td>\n",
       "      <td>T8</td>\n",
       "      <td>33.27</td>\n",
       "      <td>3619</td>\n",
       "      <td>19181</td>\n",
       "      <td>18130</td>\n",
       "      <td>2호기</td>\n",
       "      <td>...</td>\n",
       "      <td>1152</td>\n",
       "      <td>125</td>\n",
       "      <td>1127</td>\n",
       "      <td>68</td>\n",
       "      <td>316</td>\n",
       "      <td>1127</td>\n",
       "      <td>885</td>\n",
       "      <td>적용</td>\n",
       "      <td>8</td>\n",
       "      <td>3조</td>\n",
       "    </tr>\n",
       "    <tr>\n",
       "      <th>4</th>\n",
       "      <td>PB562778</td>\n",
       "      <td>2008-08-01:00:01:44</td>\n",
       "      <td>양품</td>\n",
       "      <td>BV-EH36-TM</td>\n",
       "      <td>T8</td>\n",
       "      <td>38.33</td>\n",
       "      <td>3098</td>\n",
       "      <td>13334</td>\n",
       "      <td>12430</td>\n",
       "      <td>3호기</td>\n",
       "      <td>...</td>\n",
       "      <td>1140</td>\n",
       "      <td>134</td>\n",
       "      <td>1128</td>\n",
       "      <td>48</td>\n",
       "      <td>314</td>\n",
       "      <td>1128</td>\n",
       "      <td>873</td>\n",
       "      <td>적용</td>\n",
       "      <td>8</td>\n",
       "      <td>1조</td>\n",
       "    </tr>\n",
       "  </tbody>\n",
       "</table>\n",
       "<p>5 rows × 21 columns</p>\n",
       "</div>"
      ],
      "text/plain": [
       "   PLATE_NO         ROLLING_DATE SCALE        SPEC STEEL_KIND  PT_THK  \\\n",
       "0  PB562774  2008-08-01:00:00:15    양품  AB/EH32-TM         T1   32.25   \n",
       "1  PB562775  2008-08-01:00:00:16    양품  AB/EH32-TM         T1   32.25   \n",
       "2  PB562776  2008-08-01:00:00:59    양품   NV-E36-TM         T8   33.27   \n",
       "3  PB562777  2008-08-01:00:01:24    양품   NV-E36-TM         T8   33.27   \n",
       "4  PB562778  2008-08-01:00:01:44    양품  BV-EH36-TM         T8   38.33   \n",
       "\n",
       "   PT_WDTH  PT_LTH  PT_WGT FUR_NO  ...  FUR_HZ_TEMP  FUR_HZ_TIME  FUR_SZ_TEMP  \\\n",
       "0     3707   15109   14180    1호기  ...         1144          116         1133   \n",
       "1     3707   15109   14180    1호기  ...         1144          122         1135   \n",
       "2     3619   19181   18130    2호기  ...         1129          116         1121   \n",
       "3     3619   19181   18130    2호기  ...         1152          125         1127   \n",
       "4     3098   13334   12430    3호기  ...         1140          134         1128   \n",
       "\n",
       "   FUR_SZ_TIME  FUR_TIME  FUR_EXTEMP  ROLLING_TEMP_T5  HSB ROLLING_DESCALING  \\\n",
       "0           59       282        1133              934   적용                 8   \n",
       "1           53       283        1135              937   적용                 8   \n",
       "2           55       282        1121              889   적용                 8   \n",
       "3           68       316        1127              885   적용                 8   \n",
       "4           48       314        1128              873   적용                 8   \n",
       "\n",
       "   WORK_GR  \n",
       "0       2조  \n",
       "1       2조  \n",
       "2       3조  \n",
       "3       3조  \n",
       "4       1조  \n",
       "\n",
       "[5 rows x 21 columns]"
      ]
     },
     "execution_count": 41,
     "metadata": {},
     "output_type": "execute_result"
    }
   ],
   "source": [
    "# df_raw = pd.read_csv(\"/home/piai/test/Practice/data/SCALE불량.csv\", engine=\"python\",encoding=\"EUC-KR\")\n",
    "df_raw = pd.read_csv(\"~/Desktop/coding/postech/Postech_Academy/Practice/data/SCALE불량.csv\", engine=\"python\",encoding=\"EUC-KR\")\n",
    "df_raw.head()"
   ]
  },
  {
   "cell_type": "code",
   "execution_count": 42,
   "metadata": {},
   "outputs": [],
   "source": [
    "# \"PLATE_NO\", \"ROLLING_DATE\"는 데이터 분석을 할 때, 사용하지 않을 예정이므로 설명변수를 제거한다.\n",
    "df_raw = df_raw.drop([\"PLATE_NO\",\"ROLLING_DATE\"],axis=1, inplace=False)"
   ]
  },
  {
   "cell_type": "code",
   "execution_count": 43,
   "metadata": {
    "scrolled": true
   },
   "outputs": [
    {
     "data": {
      "text/plain": [
       "SCALE                0\n",
       "SPEC                 0\n",
       "STEEL_KIND           0\n",
       "PT_THK               0\n",
       "PT_WDTH              0\n",
       "PT_LTH               0\n",
       "PT_WGT               0\n",
       "FUR_NO               0\n",
       "FUR_NO_ROW           0\n",
       "FUR_HZ_TEMP          0\n",
       "FUR_HZ_TIME          0\n",
       "FUR_SZ_TEMP          0\n",
       "FUR_SZ_TIME          0\n",
       "FUR_TIME             0\n",
       "FUR_EXTEMP           0\n",
       "ROLLING_TEMP_T5      0\n",
       "HSB                  0\n",
       "ROLLING_DESCALING    0\n",
       "WORK_GR              0\n",
       "dtype: int64"
      ]
     },
     "execution_count": 43,
     "metadata": {},
     "output_type": "execute_result"
    }
   ],
   "source": [
    "#결측지 확인\n",
    "df_raw.isnull().sum(axis=0)"
   ]
  },
  {
   "cell_type": "markdown",
   "metadata": {},
   "source": [
    ": 결측치가 없는 것을 확인할 수 있다."
   ]
  },
  {
   "cell_type": "code",
   "execution_count": 44,
   "metadata": {
    "scrolled": false
   },
   "outputs": [
    {
     "name": "stdout",
     "output_type": "stream",
     "text": [
      "<class 'pandas.core.frame.DataFrame'>\n",
      "RangeIndex: 720 entries, 0 to 719\n",
      "Data columns (total 19 columns):\n",
      " #   Column             Non-Null Count  Dtype  \n",
      "---  ------             --------------  -----  \n",
      " 0   SCALE              720 non-null    object \n",
      " 1   SPEC               720 non-null    object \n",
      " 2   STEEL_KIND         720 non-null    object \n",
      " 3   PT_THK             720 non-null    float64\n",
      " 4   PT_WDTH            720 non-null    int64  \n",
      " 5   PT_LTH             720 non-null    int64  \n",
      " 6   PT_WGT             720 non-null    int64  \n",
      " 7   FUR_NO             720 non-null    object \n",
      " 8   FUR_NO_ROW         720 non-null    int64  \n",
      " 9   FUR_HZ_TEMP        720 non-null    int64  \n",
      " 10  FUR_HZ_TIME        720 non-null    int64  \n",
      " 11  FUR_SZ_TEMP        720 non-null    int64  \n",
      " 12  FUR_SZ_TIME        720 non-null    int64  \n",
      " 13  FUR_TIME           720 non-null    int64  \n",
      " 14  FUR_EXTEMP         720 non-null    int64  \n",
      " 15  ROLLING_TEMP_T5    720 non-null    int64  \n",
      " 16  HSB                720 non-null    object \n",
      " 17  ROLLING_DESCALING  720 non-null    int64  \n",
      " 18  WORK_GR            720 non-null    object \n",
      "dtypes: float64(1), int64(12), object(6)\n",
      "memory usage: 107.0+ KB\n"
     ]
    }
   ],
   "source": [
    "df_raw.info()"
   ]
  },
  {
   "cell_type": "markdown",
   "metadata": {},
   "source": [
    ": Dtype이 object인데, int 형으로 되어있는 자료형이 있다. 이는 이후 데이터 전처리 과정에서 처리할 예정이다."
   ]
  },
  {
   "cell_type": "code",
   "execution_count": 45,
   "metadata": {},
   "outputs": [
    {
     "data": {
      "text/plain": [
       "66"
      ]
     },
     "execution_count": 45,
     "metadata": {},
     "output_type": "execute_result"
    }
   ],
   "source": [
    "len(list(df_raw[\"SPEC\"].unique()))"
   ]
  },
  {
   "cell_type": "markdown",
   "metadata": {},
   "source": [
    ": 66 종류의 제품 규격이 존재한다.(너무 많은 카테고리는 분류 알고리즘에 방해가 될 수 있으므로 삭제하는 것을 고려해야한다.)"
   ]
  },
  {
   "cell_type": "markdown",
   "metadata": {},
   "source": [
    "# 1. 탐색적 기법"
   ]
  },
  {
   "cell_type": "markdown",
   "metadata": {},
   "source": [
    "## 1.1 그래프"
   ]
  },
  {
   "cell_type": "code",
   "execution_count": 46,
   "metadata": {},
   "outputs": [],
   "source": [
    "def fun_plot_hist(data, var):\n",
    "    plt.hist(data[data[\"SCALE\"] == \"양품\"][var], label = \"양품\", alpha = 0.5)\n",
    "    plt.hist(data[data[\"SCALE\"] == \"불량\"][var], label = \"불량\", alpha = 0.5)"
   ]
  },
  {
   "cell_type": "code",
   "execution_count": 47,
   "metadata": {},
   "outputs": [],
   "source": [
    "def fun_print_crosstab(data, var):\n",
    "    print(pd.crosstab(index = data[\"SCALE\"], columns = data[var]))\n",
    "    print()\n",
    "    print(pd.crosstab(index = data[\"SCALE\"], columns = data[var], normalize = \"columns\").round(3))"
   ]
  },
  {
   "cell_type": "markdown",
   "metadata": {},
   "source": [
    "### 1.1.1 연속형 변수"
   ]
  },
  {
   "cell_type": "code",
   "execution_count": 48,
   "metadata": {},
   "outputs": [
    {
     "data": {
      "text/plain": [
       "0    0\n",
       "1    0\n",
       "2    0\n",
       "3    0\n",
       "4    0\n",
       "Name: SCALE, dtype: int64"
      ]
     },
     "execution_count": 48,
     "metadata": {},
     "output_type": "execute_result"
    }
   ],
   "source": [
    "df_raw['SCALE'] = np.where(df_raw['SCALE'] == '양품', 0 ,1 )\n",
    "df_raw['SCALE'].head()"
   ]
  },
  {
   "cell_type": "code",
   "execution_count": 49,
   "metadata": {},
   "outputs": [
    {
     "data": {
      "text/plain": [
       "(720, 14)"
      ]
     },
     "execution_count": 49,
     "metadata": {},
     "output_type": "execute_result"
    }
   ],
   "source": [
    "df_raw_numeric = df_raw.select_dtypes(exclude = 'object')\n",
    "df_raw_numeric.shape"
   ]
  },
  {
   "cell_type": "code",
   "execution_count": 50,
   "metadata": {},
   "outputs": [],
   "source": [
    "df_raw_numeric_x = df_raw_numeric.drop(\"SCALE\", axis = 1, inplace=False)\n",
    "df_raw_numeric_y = df_raw_numeric[\"SCALE\"]"
   ]
  },
  {
   "cell_type": "code",
   "execution_count": 51,
   "metadata": {
    "scrolled": false
   },
   "outputs": [
    {
     "data": {
      "image/png": "[encoded data removed]",
      "text/plain": [
       "<Figure size 1080x3600 with 13 Axes>"
      ]
     },
     "metadata": {
      "needs_background": "light"
     },
     "output_type": "display_data"
    }
   ],
   "source": [
    "i = 0\n",
    "fig = plt.figure(figsize = (15, 50))\n",
    "columns = df_raw_numeric_x.columns\n",
    "for col in columns:\n",
    "    plt.subplot(df_raw_numeric_x.shape[1], 3, i+1)\n",
    "    i += 1\n",
    "    plt.hist(df_raw[df_raw[\"SCALE\"] == 0][col], label = \"양품\", alpha = 0.5)\n",
    "    plt.hist(df_raw[df_raw[\"SCALE\"] == 1][col], label = \"불량\", alpha = 0.5)\n",
    "    plt.xlabel(col)\n",
    "    plt.ylabel(\"SCALE\")\n",
    "    plt.legend()\n",
    "plt.show()"
   ]
  },
  {
   "cell_type": "code",
   "execution_count": 52,
   "metadata": {},
   "outputs": [
    {
     "data": {
      "text/html": [
       "<div>\n",
       "<style scoped>\n",
       "    .dataframe tbody tr th:only-of-type {\n",
       "        vertical-align: middle;\n",
       "    }\n",
       "\n",
       "    .dataframe tbody tr th {\n",
       "        vertical-align: top;\n",
       "    }\n",
       "\n",
       "    .dataframe thead th {\n",
       "        text-align: right;\n",
       "    }\n",
       "</style>\n",
       "<table border=\"1\" class=\"dataframe\">\n",
       "  <thead>\n",
       "    <tr style=\"text-align: right;\">\n",
       "      <th></th>\n",
       "      <th>SCALE</th>\n",
       "      <th>SPEC</th>\n",
       "      <th>STEEL_KIND</th>\n",
       "      <th>PT_THK</th>\n",
       "      <th>PT_WDTH</th>\n",
       "      <th>PT_LTH</th>\n",
       "      <th>PT_WGT</th>\n",
       "      <th>FUR_NO</th>\n",
       "      <th>FUR_NO_ROW</th>\n",
       "      <th>FUR_HZ_TEMP</th>\n",
       "      <th>FUR_HZ_TIME</th>\n",
       "      <th>FUR_SZ_TEMP</th>\n",
       "      <th>FUR_SZ_TIME</th>\n",
       "      <th>FUR_TIME</th>\n",
       "      <th>FUR_EXTEMP</th>\n",
       "      <th>ROLLING_TEMP_T5</th>\n",
       "      <th>HSB</th>\n",
       "      <th>ROLLING_DESCALING</th>\n",
       "      <th>WORK_GR</th>\n",
       "    </tr>\n",
       "  </thead>\n",
       "  <tbody>\n",
       "    <tr>\n",
       "      <th>41</th>\n",
       "      <td>0</td>\n",
       "      <td>GL-E36-TM</td>\n",
       "      <td>T8</td>\n",
       "      <td>55.51</td>\n",
       "      <td>3765</td>\n",
       "      <td>11398</td>\n",
       "      <td>37400</td>\n",
       "      <td>3호기</td>\n",
       "      <td>2</td>\n",
       "      <td>1132</td>\n",
       "      <td>95</td>\n",
       "      <td>1128</td>\n",
       "      <td>80</td>\n",
       "      <td>341</td>\n",
       "      <td>1128</td>\n",
       "      <td>0</td>\n",
       "      <td>적용</td>\n",
       "      <td>6</td>\n",
       "      <td>1조</td>\n",
       "    </tr>\n",
       "    <tr>\n",
       "      <th>184</th>\n",
       "      <td>0</td>\n",
       "      <td>JS-SM490YB</td>\n",
       "      <td>C0</td>\n",
       "      <td>16.09</td>\n",
       "      <td>2221</td>\n",
       "      <td>43596</td>\n",
       "      <td>61150</td>\n",
       "      <td>3호기</td>\n",
       "      <td>1</td>\n",
       "      <td>1169</td>\n",
       "      <td>64</td>\n",
       "      <td>1164</td>\n",
       "      <td>61</td>\n",
       "      <td>308</td>\n",
       "      <td>1164</td>\n",
       "      <td>0</td>\n",
       "      <td>적용</td>\n",
       "      <td>10</td>\n",
       "      <td>3조</td>\n",
       "    </tr>\n",
       "    <tr>\n",
       "      <th>185</th>\n",
       "      <td>0</td>\n",
       "      <td>JS-SM490YB</td>\n",
       "      <td>C0</td>\n",
       "      <td>16.09</td>\n",
       "      <td>2221</td>\n",
       "      <td>43596</td>\n",
       "      <td>61150</td>\n",
       "      <td>3호기</td>\n",
       "      <td>2</td>\n",
       "      <td>1163</td>\n",
       "      <td>57</td>\n",
       "      <td>1166</td>\n",
       "      <td>67</td>\n",
       "      <td>303</td>\n",
       "      <td>1166</td>\n",
       "      <td>0</td>\n",
       "      <td>적용</td>\n",
       "      <td>10</td>\n",
       "      <td>4조</td>\n",
       "    </tr>\n",
       "    <tr>\n",
       "      <th>494</th>\n",
       "      <td>0</td>\n",
       "      <td>PILAC-BT33</td>\n",
       "      <td>T5</td>\n",
       "      <td>80.82</td>\n",
       "      <td>2085</td>\n",
       "      <td>12919</td>\n",
       "      <td>17090</td>\n",
       "      <td>2호기</td>\n",
       "      <td>1</td>\n",
       "      <td>1133</td>\n",
       "      <td>89</td>\n",
       "      <td>1122</td>\n",
       "      <td>59</td>\n",
       "      <td>378</td>\n",
       "      <td>1122</td>\n",
       "      <td>0</td>\n",
       "      <td>적용</td>\n",
       "      <td>6</td>\n",
       "      <td>2조</td>\n",
       "    </tr>\n",
       "    <tr>\n",
       "      <th>495</th>\n",
       "      <td>0</td>\n",
       "      <td>PILAC-BT33</td>\n",
       "      <td>T5</td>\n",
       "      <td>80.82</td>\n",
       "      <td>2085</td>\n",
       "      <td>13176</td>\n",
       "      <td>17430</td>\n",
       "      <td>1호기</td>\n",
       "      <td>2</td>\n",
       "      <td>1130</td>\n",
       "      <td>92</td>\n",
       "      <td>1124</td>\n",
       "      <td>61</td>\n",
       "      <td>362</td>\n",
       "      <td>1124</td>\n",
       "      <td>0</td>\n",
       "      <td>적용</td>\n",
       "      <td>6</td>\n",
       "      <td>3조</td>\n",
       "    </tr>\n",
       "    <tr>\n",
       "      <th>496</th>\n",
       "      <td>0</td>\n",
       "      <td>NV-D32-TM</td>\n",
       "      <td>T0</td>\n",
       "      <td>40.35</td>\n",
       "      <td>2497</td>\n",
       "      <td>23592</td>\n",
       "      <td>37320</td>\n",
       "      <td>3호기</td>\n",
       "      <td>1</td>\n",
       "      <td>1119</td>\n",
       "      <td>109</td>\n",
       "      <td>1117</td>\n",
       "      <td>76</td>\n",
       "      <td>383</td>\n",
       "      <td>1117</td>\n",
       "      <td>0</td>\n",
       "      <td>적용</td>\n",
       "      <td>6</td>\n",
       "      <td>3조</td>\n",
       "    </tr>\n",
       "  </tbody>\n",
       "</table>\n",
       "</div>"
      ],
      "text/plain": [
       "     SCALE        SPEC STEEL_KIND  PT_THK  PT_WDTH  PT_LTH  PT_WGT FUR_NO  \\\n",
       "41       0   GL-E36-TM         T8   55.51     3765   11398   37400    3호기   \n",
       "184      0  JS-SM490YB         C0   16.09     2221   43596   61150    3호기   \n",
       "185      0  JS-SM490YB         C0   16.09     2221   43596   61150    3호기   \n",
       "494      0  PILAC-BT33         T5   80.82     2085   12919   17090    2호기   \n",
       "495      0  PILAC-BT33         T5   80.82     2085   13176   17430    1호기   \n",
       "496      0   NV-D32-TM         T0   40.35     2497   23592   37320    3호기   \n",
       "\n",
       "     FUR_NO_ROW  FUR_HZ_TEMP  FUR_HZ_TIME  FUR_SZ_TEMP  FUR_SZ_TIME  FUR_TIME  \\\n",
       "41            2         1132           95         1128           80       341   \n",
       "184           1         1169           64         1164           61       308   \n",
       "185           2         1163           57         1166           67       303   \n",
       "494           1         1133           89         1122           59       378   \n",
       "495           2         1130           92         1124           61       362   \n",
       "496           1         1119          109         1117           76       383   \n",
       "\n",
       "     FUR_EXTEMP  ROLLING_TEMP_T5 HSB  ROLLING_DESCALING WORK_GR  \n",
       "41         1128                0  적용                  6      1조  \n",
       "184        1164                0  적용                 10      3조  \n",
       "185        1166                0  적용                 10      4조  \n",
       "494        1122                0  적용                  6      2조  \n",
       "495        1124                0  적용                  6      3조  \n",
       "496        1117                0  적용                  6      3조  "
      ]
     },
     "execution_count": 52,
     "metadata": {},
     "output_type": "execute_result"
    }
   ],
   "source": [
    "# 이상치 제거\n",
    "df_raw[df_raw[\"ROLLING_TEMP_T5\"]<200]"
   ]
  },
  {
   "cell_type": "code",
   "execution_count": 53,
   "metadata": {
    "scrolled": false
   },
   "outputs": [
    {
     "data": {
      "text/html": [
       "<div>\n",
       "<style scoped>\n",
       "    .dataframe tbody tr th:only-of-type {\n",
       "        vertical-align: middle;\n",
       "    }\n",
       "\n",
       "    .dataframe tbody tr th {\n",
       "        vertical-align: top;\n",
       "    }\n",
       "\n",
       "    .dataframe thead th {\n",
       "        text-align: right;\n",
       "    }\n",
       "</style>\n",
       "<table border=\"1\" class=\"dataframe\">\n",
       "  <thead>\n",
       "    <tr style=\"text-align: right;\">\n",
       "      <th></th>\n",
       "      <th>SCALE</th>\n",
       "      <th>SPEC</th>\n",
       "      <th>STEEL_KIND</th>\n",
       "      <th>PT_THK</th>\n",
       "      <th>PT_WDTH</th>\n",
       "      <th>PT_LTH</th>\n",
       "      <th>PT_WGT</th>\n",
       "      <th>FUR_NO</th>\n",
       "      <th>FUR_NO_ROW</th>\n",
       "      <th>FUR_HZ_TEMP</th>\n",
       "      <th>FUR_HZ_TIME</th>\n",
       "      <th>FUR_SZ_TEMP</th>\n",
       "      <th>FUR_SZ_TIME</th>\n",
       "      <th>FUR_TIME</th>\n",
       "      <th>FUR_EXTEMP</th>\n",
       "      <th>ROLLING_TEMP_T5</th>\n",
       "      <th>HSB</th>\n",
       "      <th>ROLLING_DESCALING</th>\n",
       "      <th>WORK_GR</th>\n",
       "    </tr>\n",
       "  </thead>\n",
       "  <tbody>\n",
       "    <tr>\n",
       "      <th>0</th>\n",
       "      <td>0</td>\n",
       "      <td>AB/EH32-TM</td>\n",
       "      <td>T1</td>\n",
       "      <td>32.25</td>\n",
       "      <td>3707</td>\n",
       "      <td>15109</td>\n",
       "      <td>14180</td>\n",
       "      <td>1호기</td>\n",
       "      <td>1</td>\n",
       "      <td>1144</td>\n",
       "      <td>116</td>\n",
       "      <td>1133</td>\n",
       "      <td>59</td>\n",
       "      <td>282</td>\n",
       "      <td>1133</td>\n",
       "      <td>934</td>\n",
       "      <td>적용</td>\n",
       "      <td>8</td>\n",
       "      <td>2조</td>\n",
       "    </tr>\n",
       "    <tr>\n",
       "      <th>1</th>\n",
       "      <td>0</td>\n",
       "      <td>AB/EH32-TM</td>\n",
       "      <td>T1</td>\n",
       "      <td>32.25</td>\n",
       "      <td>3707</td>\n",
       "      <td>15109</td>\n",
       "      <td>14180</td>\n",
       "      <td>1호기</td>\n",
       "      <td>2</td>\n",
       "      <td>1144</td>\n",
       "      <td>122</td>\n",
       "      <td>1135</td>\n",
       "      <td>53</td>\n",
       "      <td>283</td>\n",
       "      <td>1135</td>\n",
       "      <td>937</td>\n",
       "      <td>적용</td>\n",
       "      <td>8</td>\n",
       "      <td>2조</td>\n",
       "    </tr>\n",
       "    <tr>\n",
       "      <th>2</th>\n",
       "      <td>0</td>\n",
       "      <td>NV-E36-TM</td>\n",
       "      <td>T8</td>\n",
       "      <td>33.27</td>\n",
       "      <td>3619</td>\n",
       "      <td>19181</td>\n",
       "      <td>18130</td>\n",
       "      <td>2호기</td>\n",
       "      <td>1</td>\n",
       "      <td>1129</td>\n",
       "      <td>116</td>\n",
       "      <td>1121</td>\n",
       "      <td>55</td>\n",
       "      <td>282</td>\n",
       "      <td>1121</td>\n",
       "      <td>889</td>\n",
       "      <td>적용</td>\n",
       "      <td>8</td>\n",
       "      <td>3조</td>\n",
       "    </tr>\n",
       "    <tr>\n",
       "      <th>3</th>\n",
       "      <td>0</td>\n",
       "      <td>NV-E36-TM</td>\n",
       "      <td>T8</td>\n",
       "      <td>33.27</td>\n",
       "      <td>3619</td>\n",
       "      <td>19181</td>\n",
       "      <td>18130</td>\n",
       "      <td>2호기</td>\n",
       "      <td>2</td>\n",
       "      <td>1152</td>\n",
       "      <td>125</td>\n",
       "      <td>1127</td>\n",
       "      <td>68</td>\n",
       "      <td>316</td>\n",
       "      <td>1127</td>\n",
       "      <td>885</td>\n",
       "      <td>적용</td>\n",
       "      <td>8</td>\n",
       "      <td>3조</td>\n",
       "    </tr>\n",
       "    <tr>\n",
       "      <th>4</th>\n",
       "      <td>0</td>\n",
       "      <td>BV-EH36-TM</td>\n",
       "      <td>T8</td>\n",
       "      <td>38.33</td>\n",
       "      <td>3098</td>\n",
       "      <td>13334</td>\n",
       "      <td>12430</td>\n",
       "      <td>3호기</td>\n",
       "      <td>1</td>\n",
       "      <td>1140</td>\n",
       "      <td>134</td>\n",
       "      <td>1128</td>\n",
       "      <td>48</td>\n",
       "      <td>314</td>\n",
       "      <td>1128</td>\n",
       "      <td>873</td>\n",
       "      <td>적용</td>\n",
       "      <td>8</td>\n",
       "      <td>1조</td>\n",
       "    </tr>\n",
       "    <tr>\n",
       "      <th>...</th>\n",
       "      <td>...</td>\n",
       "      <td>...</td>\n",
       "      <td>...</td>\n",
       "      <td>...</td>\n",
       "      <td>...</td>\n",
       "      <td>...</td>\n",
       "      <td>...</td>\n",
       "      <td>...</td>\n",
       "      <td>...</td>\n",
       "      <td>...</td>\n",
       "      <td>...</td>\n",
       "      <td>...</td>\n",
       "      <td>...</td>\n",
       "      <td>...</td>\n",
       "      <td>...</td>\n",
       "      <td>...</td>\n",
       "      <td>...</td>\n",
       "      <td>...</td>\n",
       "      <td>...</td>\n",
       "    </tr>\n",
       "    <tr>\n",
       "      <th>709</th>\n",
       "      <td>1</td>\n",
       "      <td>NK-KA</td>\n",
       "      <td>C0</td>\n",
       "      <td>20.14</td>\n",
       "      <td>3580</td>\n",
       "      <td>38639</td>\n",
       "      <td>21870</td>\n",
       "      <td>3호기</td>\n",
       "      <td>1</td>\n",
       "      <td>1172</td>\n",
       "      <td>72</td>\n",
       "      <td>1164</td>\n",
       "      <td>62</td>\n",
       "      <td>245</td>\n",
       "      <td>1164</td>\n",
       "      <td>1005</td>\n",
       "      <td>적용</td>\n",
       "      <td>8</td>\n",
       "      <td>2조</td>\n",
       "    </tr>\n",
       "    <tr>\n",
       "      <th>710</th>\n",
       "      <td>0</td>\n",
       "      <td>NV-A32</td>\n",
       "      <td>C0</td>\n",
       "      <td>15.08</td>\n",
       "      <td>3212</td>\n",
       "      <td>48233</td>\n",
       "      <td>18340</td>\n",
       "      <td>2호기</td>\n",
       "      <td>1</td>\n",
       "      <td>1150</td>\n",
       "      <td>61</td>\n",
       "      <td>1169</td>\n",
       "      <td>61</td>\n",
       "      <td>238</td>\n",
       "      <td>1169</td>\n",
       "      <td>947</td>\n",
       "      <td>적용</td>\n",
       "      <td>10</td>\n",
       "      <td>1조</td>\n",
       "    </tr>\n",
       "    <tr>\n",
       "      <th>711</th>\n",
       "      <td>0</td>\n",
       "      <td>NV-A32</td>\n",
       "      <td>C0</td>\n",
       "      <td>16.60</td>\n",
       "      <td>3441</td>\n",
       "      <td>43688</td>\n",
       "      <td>19590</td>\n",
       "      <td>2호기</td>\n",
       "      <td>2</td>\n",
       "      <td>1169</td>\n",
       "      <td>65</td>\n",
       "      <td>1163</td>\n",
       "      <td>77</td>\n",
       "      <td>247</td>\n",
       "      <td>1163</td>\n",
       "      <td>948</td>\n",
       "      <td>적용</td>\n",
       "      <td>10</td>\n",
       "      <td>4조</td>\n",
       "    </tr>\n",
       "    <tr>\n",
       "      <th>712</th>\n",
       "      <td>0</td>\n",
       "      <td>LR-A</td>\n",
       "      <td>C0</td>\n",
       "      <td>15.59</td>\n",
       "      <td>3363</td>\n",
       "      <td>48740</td>\n",
       "      <td>80240</td>\n",
       "      <td>3호기</td>\n",
       "      <td>2</td>\n",
       "      <td>1179</td>\n",
       "      <td>86</td>\n",
       "      <td>1163</td>\n",
       "      <td>45</td>\n",
       "      <td>243</td>\n",
       "      <td>1163</td>\n",
       "      <td>940</td>\n",
       "      <td>적용</td>\n",
       "      <td>10</td>\n",
       "      <td>2조</td>\n",
       "    </tr>\n",
       "    <tr>\n",
       "      <th>713</th>\n",
       "      <td>0</td>\n",
       "      <td>GL-A32</td>\n",
       "      <td>C0</td>\n",
       "      <td>16.09</td>\n",
       "      <td>3400</td>\n",
       "      <td>54209</td>\n",
       "      <td>69840</td>\n",
       "      <td>3호기</td>\n",
       "      <td>1</td>\n",
       "      <td>1186</td>\n",
       "      <td>82</td>\n",
       "      <td>1169</td>\n",
       "      <td>45</td>\n",
       "      <td>239</td>\n",
       "      <td>1169</td>\n",
       "      <td>957</td>\n",
       "      <td>적용</td>\n",
       "      <td>10</td>\n",
       "      <td>2조</td>\n",
       "    </tr>\n",
       "  </tbody>\n",
       "</table>\n",
       "<p>714 rows × 19 columns</p>\n",
       "</div>"
      ],
      "text/plain": [
       "     SCALE        SPEC STEEL_KIND  PT_THK  PT_WDTH  PT_LTH  PT_WGT FUR_NO  \\\n",
       "0        0  AB/EH32-TM         T1   32.25     3707   15109   14180    1호기   \n",
       "1        0  AB/EH32-TM         T1   32.25     3707   15109   14180    1호기   \n",
       "2        0   NV-E36-TM         T8   33.27     3619   19181   18130    2호기   \n",
       "3        0   NV-E36-TM         T8   33.27     3619   19181   18130    2호기   \n",
       "4        0  BV-EH36-TM         T8   38.33     3098   13334   12430    3호기   \n",
       "..     ...         ...        ...     ...      ...     ...     ...    ...   \n",
       "709      1       NK-KA         C0   20.14     3580   38639   21870    3호기   \n",
       "710      0      NV-A32         C0   15.08     3212   48233   18340    2호기   \n",
       "711      0      NV-A32         C0   16.60     3441   43688   19590    2호기   \n",
       "712      0        LR-A         C0   15.59     3363   48740   80240    3호기   \n",
       "713      0      GL-A32         C0   16.09     3400   54209   69840    3호기   \n",
       "\n",
       "     FUR_NO_ROW  FUR_HZ_TEMP  FUR_HZ_TIME  FUR_SZ_TEMP  FUR_SZ_TIME  FUR_TIME  \\\n",
       "0             1         1144          116         1133           59       282   \n",
       "1             2         1144          122         1135           53       283   \n",
       "2             1         1129          116         1121           55       282   \n",
       "3             2         1152          125         1127           68       316   \n",
       "4             1         1140          134         1128           48       314   \n",
       "..          ...          ...          ...          ...          ...       ...   \n",
       "709           1         1172           72         1164           62       245   \n",
       "710           1         1150           61         1169           61       238   \n",
       "711           2         1169           65         1163           77       247   \n",
       "712           2         1179           86         1163           45       243   \n",
       "713           1         1186           82         1169           45       239   \n",
       "\n",
       "     FUR_EXTEMP  ROLLING_TEMP_T5 HSB  ROLLING_DESCALING WORK_GR  \n",
       "0          1133              934  적용                  8      2조  \n",
       "1          1135              937  적용                  8      2조  \n",
       "2          1121              889  적용                  8      3조  \n",
       "3          1127              885  적용                  8      3조  \n",
       "4          1128              873  적용                  8      1조  \n",
       "..          ...              ...  ..                ...     ...  \n",
       "709        1164             1005  적용                  8      2조  \n",
       "710        1169              947  적용                 10      1조  \n",
       "711        1163              948  적용                 10      4조  \n",
       "712        1163              940  적용                 10      2조  \n",
       "713        1169              957  적용                 10      2조  \n",
       "\n",
       "[714 rows x 19 columns]"
      ]
     },
     "execution_count": 53,
     "metadata": {},
     "output_type": "execute_result"
    }
   ],
   "source": [
    "df_raw = df_raw.drop([41,184,185,494,495,496])\n",
    "df_raw.reset_index(drop=True, inplace=True)\n",
    "df_raw"
   ]
  },
  {
   "cell_type": "markdown",
   "metadata": {},
   "source": [
    ": 이상치가 올바르게 제거된 것을 확인할 수 있다."
   ]
  },
  {
   "cell_type": "markdown",
   "metadata": {},
   "source": [
    "# `탐색 결과 분석`"
   ]
  },
  {
   "cell_type": "markdown",
   "metadata": {},
   "source": [
    "### `1. 가열로 가열대 온도(FUR_HZ_TEMP) : 저 - 고`\n",
    ": 추정된 것과 유사한 상관관계를 시각적으로 확인할 수 있다.\n",
    "### `2. 가열로 균열대 온도(FUR_SZ_TEMP) : 저 - 고`\n",
    ": 추정된 것과 유사한 상관관계를 시각적으로 확인할 수 있다.\n",
    "### `3. 가열로 추출 온도(FUR_EXTEMP) : 저 - 고`\n",
    ": 추정된 것과 유사한 상관관계를 시각적으로 확인할 수 있다.\n",
    "### `4. 사상 압연 온도(ROLLING_TEMP_T5) : 저 - 고`\n",
    ": 사상 압연 온도에서 시각적으로 가장 큰 상관관게를 확인할 수 있었다. 1000도를 기준으로 불량률이 극명하게 나타났고, 이는 후에 상관계수를 계산할 때 큰 값이 도출될 것임을 예측할 수 있었다. 또한, 이상치를 확인할 수 있었다.\n",
    "\n",
    "이상치라고 판단한 이유 : 자료를 조사해 본 결과, \"사상압연의 경우는 일반적으로 850~870℃정도이며, 탄소량이 낮은 냉연재의 경우는 900℃ 이상에서 사상압연을 완료해야 한다.\"라는 내용을 확인할 수 있었다. 따라서 사상압연의 온도가 200도 보다 낮으므로 이상치로 판단할 수 있었다.\n",
    "### `5. 압연간 Descaling 횟수(ROLLING_DESCALING) : 증가 - 감소`\n",
    ": 압연간 Descaling 횟수가 5,7,8,9회 일 때의 불량률이 높았다. 이는 잠재적인 인자로 추정한 내용과는 차이가 있는 내용이고, 이에 대해 추가적인 판단이 필요할 것으로 보인다.\n",
    "### `6. 판두께(PT_THICK) : 후 - 박`\n",
    ": 잠재적인 인자로 추정했던 판 두께가 실제로 상관관계를 보이는 것을 시작적으로 확인할 수 있다. 판이 얇을수록 불량률이 높았고, 판이 두꺼울수록 불량률이 낮아지는 것을 확인할 수 있었다."
   ]
  },
  {
   "cell_type": "markdown",
   "metadata": {},
   "source": [
    "### `7. 기타 설명변수`  \n",
    ": PT_WIDTH 가 작을수록 불량률이 증가하는 추세를 확인할 수 있었다.  \n",
    ": PT_LTH 가 중간 크기일 때, 가장 큰 불량률을 보이는 추세를 확인할 수 있었다.  \n",
    ": PT_WGT 가 클수록, 불량률이 증가하는 추세를 확인할 수 있었다.  \n",
    ": FUR_NO_ROW 는 1,2,3호기를 뜻하는 범주형 변수로, 불량률은 매우 유사하다.  \n",
    ": FUR_HZ_TIME 이 170을 넘어가는 순간, 불량률이 크게 증가하는 추세를 확인할 수 있었다.  \n",
    ": FUR_SZ_TIME 의 불량률은 70에서 최대값을 보인다.  \n",
    ": FUR_TIME 가 중간 크기일 떄, 가장 큰 불량률을 보이는 추세를 확인할 수 있었다.  "
   ]
  },
  {
   "cell_type": "markdown",
   "metadata": {},
   "source": [
    "### 1.1.2 범주형 변수"
   ]
  },
  {
   "cell_type": "markdown",
   "metadata": {},
   "source": [
    "##### 1. STEEL_KIND"
   ]
  },
  {
   "cell_type": "code",
   "execution_count": 54,
   "metadata": {},
   "outputs": [
    {
     "name": "stdout",
     "output_type": "stream",
     "text": [
      "STEEL_KIND   C0  C1  C3  T0  T1  T3  T5  T7  T8\n",
      "SCALE                                          \n",
      "0           289   0   6  13  16   2  39  29  89\n",
      "1           212   1   1   2   2   0   2   6   5\n",
      "\n",
      "STEEL_KIND     C0   C1     C3     T0     T1   T3     T5     T7     T8\n",
      "SCALE                                                                \n",
      "0           0.577  0.0  0.857  0.867  0.889  1.0  0.951  0.829  0.947\n",
      "1           0.423  1.0  0.143  0.133  0.111  0.0  0.049  0.171  0.053\n"
     ]
    }
   ],
   "source": [
    "fun_print_crosstab(df_raw, \"STEEL_KIND\")"
   ]
  },
  {
   "cell_type": "markdown",
   "metadata": {},
   "source": [
    "> 강종에 따라 불량률에 차이가 크게 나타났지만, C0의 표본 수에 비해 나머지 강종의 표본 수가 너무 작아서 의미있는 결과를 도출해내기 힘들었다."
   ]
  },
  {
   "cell_type": "markdown",
   "metadata": {},
   "source": [
    "##### 2. FUR_NO"
   ]
  },
  {
   "cell_type": "code",
   "execution_count": 55,
   "metadata": {},
   "outputs": [
    {
     "name": "stdout",
     "output_type": "stream",
     "text": [
      "FUR_NO  1호기  2호기  3호기\n",
      "SCALE                \n",
      "0       166  166  151\n",
      "1        73   70   88\n",
      "\n",
      "FUR_NO    1호기    2호기    3호기\n",
      "SCALE                      \n",
      "0       0.695  0.703  0.632\n",
      "1       0.305  0.297  0.368\n"
     ]
    }
   ],
   "source": [
    "fun_print_crosstab(df_raw, \"FUR_NO\")"
   ]
  },
  {
   "cell_type": "markdown",
   "metadata": {},
   "source": [
    "> 1,2,3호기 사이에 불량률에 차이가 나타났지만, 크지 않기에 유의미하다고 보기 힘들었다."
   ]
  },
  {
   "cell_type": "markdown",
   "metadata": {},
   "source": [
    "##### 3. HSB"
   ]
  },
  {
   "cell_type": "code",
   "execution_count": 56,
   "metadata": {},
   "outputs": [
    {
     "name": "stdout",
     "output_type": "stream",
     "text": [
      "HSB    미적용   적용\n",
      "SCALE          \n",
      "0        0  483\n",
      "1       33  198\n",
      "\n",
      "HSB    미적용     적용\n",
      "SCALE            \n",
      "0      0.0  0.709\n",
      "1      1.0  0.291\n"
     ]
    }
   ],
   "source": [
    "fun_print_crosstab(df_raw, \"HSB\")"
   ]
  },
  {
   "cell_type": "markdown",
   "metadata": {},
   "source": [
    "> 미적용되는 경우에는 100% 불량으로, 적용되는 경우와 큰 차이를 보이기에 주요한 설명변수라고 판단할 수 있었다."
   ]
  },
  {
   "cell_type": "markdown",
   "metadata": {},
   "source": [
    "##### 4. WORK_GR"
   ]
  },
  {
   "cell_type": "code",
   "execution_count": 57,
   "metadata": {},
   "outputs": [
    {
     "name": "stdout",
     "output_type": "stream",
     "text": [
      "WORK_GR   1조   2조   3조   4조\n",
      "SCALE                      \n",
      "0        121  119  115  128\n",
      "1         67   45   54   65\n",
      "\n",
      "WORK_GR     1조     2조    3조     4조\n",
      "SCALE                             \n",
      "0        0.644  0.726  0.68  0.663\n",
      "1        0.356  0.274  0.32  0.337\n"
     ]
    }
   ],
   "source": [
    "fun_print_crosstab(df_raw, \"WORK_GR\")"
   ]
  },
  {
   "cell_type": "markdown",
   "metadata": {},
   "source": [
    "> 작업조별로 조금씩은 차이가 나지만, 유의미한 결과라고 하기에는 어려움이 있었다."
   ]
  },
  {
   "cell_type": "markdown",
   "metadata": {},
   "source": [
    "# 2. 데이터 전처리"
   ]
  },
  {
   "cell_type": "code",
   "execution_count": 58,
   "metadata": {},
   "outputs": [
    {
     "name": "stdout",
     "output_type": "stream",
     "text": [
      "<class 'pandas.core.frame.DataFrame'>\n",
      "RangeIndex: 714 entries, 0 to 713\n",
      "Data columns (total 19 columns):\n",
      " #   Column             Non-Null Count  Dtype  \n",
      "---  ------             --------------  -----  \n",
      " 0   SCALE              714 non-null    int64  \n",
      " 1   SPEC               714 non-null    object \n",
      " 2   STEEL_KIND         714 non-null    object \n",
      " 3   PT_THK             714 non-null    float64\n",
      " 4   PT_WDTH            714 non-null    int64  \n",
      " 5   PT_LTH             714 non-null    int64  \n",
      " 6   PT_WGT             714 non-null    int64  \n",
      " 7   FUR_NO             714 non-null    object \n",
      " 8   FUR_NO_ROW         714 non-null    int64  \n",
      " 9   FUR_HZ_TEMP        714 non-null    int64  \n",
      " 10  FUR_HZ_TIME        714 non-null    int64  \n",
      " 11  FUR_SZ_TEMP        714 non-null    int64  \n",
      " 12  FUR_SZ_TIME        714 non-null    int64  \n",
      " 13  FUR_TIME           714 non-null    int64  \n",
      " 14  FUR_EXTEMP         714 non-null    int64  \n",
      " 15  ROLLING_TEMP_T5    714 non-null    int64  \n",
      " 16  HSB                714 non-null    object \n",
      " 17  ROLLING_DESCALING  714 non-null    int64  \n",
      " 18  WORK_GR            714 non-null    object \n",
      "dtypes: float64(1), int64(13), object(5)\n",
      "memory usage: 106.1+ KB\n"
     ]
    }
   ],
   "source": [
    "df_raw.info()"
   ]
  },
  {
   "cell_type": "markdown",
   "metadata": {},
   "source": [
    "### 2.0 완벽히 일치하는 데이터 비교 및 확인"
   ]
  },
  {
   "cell_type": "code",
   "execution_count": 59,
   "metadata": {},
   "outputs": [
    {
     "data": {
      "text/plain": [
       "True    714\n",
       "dtype: int64"
      ]
     },
     "execution_count": 59,
     "metadata": {},
     "output_type": "execute_result"
    }
   ],
   "source": [
    "# df_raw[\"FUR_SZ_TEMP\"] == df_raw[\"FUR_EXTEMP\"] 인 경우가 많이 관찰되어 모든 데이터를 대상으로 테스트한 결과,\n",
    "\n",
    "(df_raw[\"FUR_SZ_TEMP\"] == df_raw[\"FUR_EXTEMP\"]).value_counts()\n",
    "\n",
    "# \"FUR_SZ_TEMP\"와 FUR_EXTEMP는 완벽히 일치하는 것을 알 수 있다."
   ]
  },
  {
   "cell_type": "code",
   "execution_count": 60,
   "metadata": {},
   "outputs": [],
   "source": [
    "df_raw = df_raw.drop([\"FUR_EXTEMP\"],axis=1, inplace=False)"
   ]
  },
  {
   "cell_type": "markdown",
   "metadata": {},
   "source": [
    ": 두 설명변수의 데이터가 완벽히 일치하는 것을 확인하였고, 이 둘은 다중공선성을 가지므로 하나의 변수를 제거해준다."
   ]
  },
  {
   "cell_type": "code",
   "execution_count": 77,
   "metadata": {},
   "outputs": [
    {
     "name": "stdout",
     "output_type": "stream",
     "text": [
      "<class 'pandas.core.frame.DataFrame'>\n",
      "RangeIndex: 714 entries, 0 to 713\n",
      "Data columns (total 18 columns):\n",
      " #   Column             Non-Null Count  Dtype  \n",
      "---  ------             --------------  -----  \n",
      " 0   SCALE              714 non-null    int64  \n",
      " 1   SPEC               714 non-null    object \n",
      " 2   STEEL_KIND         714 non-null    object \n",
      " 3   PT_THK             714 non-null    float64\n",
      " 4   PT_WDTH            714 non-null    int64  \n",
      " 5   PT_LTH             714 non-null    int64  \n",
      " 6   PT_WGT             714 non-null    int64  \n",
      " 7   FUR_NO             714 non-null    object \n",
      " 8   FUR_NO_ROW         714 non-null    int64  \n",
      " 9   FUR_HZ_TEMP        714 non-null    int64  \n",
      " 10  FUR_HZ_TIME        714 non-null    int64  \n",
      " 11  FUR_SZ_TEMP        714 non-null    int64  \n",
      " 12  FUR_SZ_TIME        714 non-null    int64  \n",
      " 13  FUR_TIME           714 non-null    int64  \n",
      " 14  ROLLING_TEMP_T5    714 non-null    int64  \n",
      " 15  HSB                714 non-null    object \n",
      " 16  ROLLING_DESCALING  714 non-null    int64  \n",
      " 17  WORK_GR            714 non-null    object \n",
      "dtypes: float64(1), int64(12), object(5)\n",
      "memory usage: 100.5+ KB\n"
     ]
    }
   ],
   "source": [
    "# 데이터가 잘 제거되었는지 확인\n",
    "df_raw.info()"
   ]
  },
  {
   "cell_type": "markdown",
   "metadata": {},
   "source": [
    "## 2.1 설명변수와 목표변수 분리"
   ]
  },
  {
   "cell_type": "code",
   "execution_count": 62,
   "metadata": {},
   "outputs": [],
   "source": [
    "df_raw_x = df_raw.drop(\"SCALE\", axis=1, inplace=False)\n",
    "df_raw_y = df_raw[\"SCALE\"]"
   ]
  },
  {
   "cell_type": "markdown",
   "metadata": {},
   "source": [
    "## 2.2 HSB, SCALE 범주형 변수로 변환 0,1로"
   ]
  },
  {
   "cell_type": "code",
   "execution_count": 63,
   "metadata": {},
   "outputs": [],
   "source": [
    "# 설명변수 중 SCALE 범주형 변수로 바꾸기\n",
    "df_raw_x['HSB'] = df_raw_x['HSB'].replace(\"미적용\", 0)\n",
    "df_raw_x['HSB'] = df_raw_x['HSB'].replace(\"적용\", 1)"
   ]
  },
  {
   "cell_type": "code",
   "execution_count": 64,
   "metadata": {},
   "outputs": [],
   "source": [
    "# 목표변수 범주형 변수로 바꾸기\n",
    "df_raw_y = df_raw_y.replace(\"양품\", 0)\n",
    "df_raw_y = df_raw_y.replace(\"불량\", 1)"
   ]
  },
  {
   "cell_type": "code",
   "execution_count": 78,
   "metadata": {},
   "outputs": [],
   "source": [
    "# HSB, FUR_NO_ROW, ROLLING_DESCALING, SCALE int -> object로 타입 바꾸기\n",
    "df_raw_x = df_raw_x.astype({'HSB':'object', 'FUR_NO_ROW':'object', 'ROLLING_DESCALING':'object'})\n",
    "df_raw_y = df_raw_y.astype('object')"
   ]
  },
  {
   "cell_type": "code",
   "execution_count": 66,
   "metadata": {
    "scrolled": true
   },
   "outputs": [
    {
     "data": {
      "text/plain": [
       "0      0\n",
       "1      0\n",
       "2      0\n",
       "3      0\n",
       "4      0\n",
       "      ..\n",
       "709    1\n",
       "710    0\n",
       "711    0\n",
       "712    0\n",
       "713    0\n",
       "Name: SCALE, Length: 714, dtype: object"
      ]
     },
     "execution_count": 66,
     "metadata": {},
     "output_type": "execute_result"
    }
   ],
   "source": [
    "df_raw_y"
   ]
  },
  {
   "cell_type": "code",
   "execution_count": 67,
   "metadata": {
    "scrolled": false
   },
   "outputs": [
    {
     "name": "stdout",
     "output_type": "stream",
     "text": [
      "<class 'pandas.core.frame.DataFrame'>\n",
      "RangeIndex: 714 entries, 0 to 713\n",
      "Data columns (total 17 columns):\n",
      " #   Column             Non-Null Count  Dtype  \n",
      "---  ------             --------------  -----  \n",
      " 0   SPEC               714 non-null    object \n",
      " 1   STEEL_KIND         714 non-null    object \n",
      " 2   PT_THK             714 non-null    float64\n",
      " 3   PT_WDTH            714 non-null    int64  \n",
      " 4   PT_LTH             714 non-null    int64  \n",
      " 5   PT_WGT             714 non-null    int64  \n",
      " 6   FUR_NO             714 non-null    object \n",
      " 7   FUR_NO_ROW         714 non-null    object \n",
      " 8   FUR_HZ_TEMP        714 non-null    int64  \n",
      " 9   FUR_HZ_TIME        714 non-null    int64  \n",
      " 10  FUR_SZ_TEMP        714 non-null    int64  \n",
      " 11  FUR_SZ_TIME        714 non-null    int64  \n",
      " 12  FUR_TIME           714 non-null    int64  \n",
      " 13  ROLLING_TEMP_T5    714 non-null    int64  \n",
      " 14  HSB                714 non-null    object \n",
      " 15  ROLLING_DESCALING  714 non-null    object \n",
      " 16  WORK_GR            714 non-null    object \n",
      "dtypes: float64(1), int64(9), object(7)\n",
      "memory usage: 95.0+ KB\n"
     ]
    }
   ],
   "source": [
    "df_raw_x.info()"
   ]
  },
  {
   "cell_type": "markdown",
   "metadata": {},
   "source": [
    ": `df_raw_x[\"HSB\"]`와 `df_raw_y` 모두 0,1의 object 형식으로 올바르게 변환된 것을 확인할 수 있다."
   ]
  },
  {
   "cell_type": "markdown",
   "metadata": {},
   "source": [
    "## 2.3 df_train, df_test 로 분리\n",
    "\n",
    ": 모델 학습 Vital Few 탐색을 위하여 데이터를 분리하는 작업을 진행한다. (7:3의 비율로 분할한다.)"
   ]
  },
  {
   "cell_type": "code",
   "execution_count": 69,
   "metadata": {},
   "outputs": [],
   "source": [
    "from sklearn.preprocessing import StandardScaler\n",
    "from statsmodels.api import Logit\n",
    "from sklearn.metrics import accuracy_score\n",
    "from sklearn.metrics import confusion_matrix\n",
    "\n",
    "from sklearn.model_selection import train_test_split"
   ]
  },
  {
   "cell_type": "code",
   "execution_count": 70,
   "metadata": {},
   "outputs": [
    {
     "name": "stdout",
     "output_type": "stream",
     "text": [
      "train data X size : (499, 17)\n",
      "train data Y size : (499,)\n",
      "test data X size : (215, 17)\n",
      "test data Y size : (215,)\n"
     ]
    }
   ],
   "source": [
    "df_train_x, df_test_x, df_train_y, df_test_y = train_test_split(df_raw_x, df_raw_y, test_size = 0.3, random_state= 1234)\n",
    "print(\"train data X size : {}\".format(df_train_x.shape))\n",
    "print(\"train data Y size : {}\".format(df_train_y.shape))\n",
    "print(\"test data X size : {}\".format(df_test_x.shape))\n",
    "print(\"test data Y size : {}\".format(df_test_y.shape))"
   ]
  },
  {
   "cell_type": "markdown",
   "metadata": {},
   "source": [
    "# 3. 검정"
   ]
  },
  {
   "cell_type": "markdown",
   "metadata": {},
   "source": [
    "## 3.1 로지스틱 선형 회귀"
   ]
  },
  {
   "cell_type": "code",
   "execution_count": 71,
   "metadata": {},
   "outputs": [
    {
     "name": "stdout",
     "output_type": "stream",
     "text": [
      "train data size : (499, 18)\n",
      "test data size : (215, 18)\n"
     ]
    }
   ],
   "source": [
    "df_train, df_test = train_test_split(df_raw, test_size = 0.3, random_state = 1234)\n",
    "print(\"train data size : {}\".format(df_train.shape))\n",
    "print(\"test data size : {}\".format(df_test.shape))"
   ]
  },
  {
   "cell_type": "code",
   "execution_count": 72,
   "metadata": {
    "scrolled": false
   },
   "outputs": [
    {
     "name": "stdout",
     "output_type": "stream",
     "text": [
      "<class 'pandas.core.frame.DataFrame'>\n",
      "Int64Index: 499 entries, 206 to 294\n",
      "Data columns (total 17 columns):\n",
      " #   Column             Non-Null Count  Dtype  \n",
      "---  ------             --------------  -----  \n",
      " 0   SPEC               499 non-null    object \n",
      " 1   STEEL_KIND         499 non-null    object \n",
      " 2   PT_THK             499 non-null    float64\n",
      " 3   PT_WDTH            499 non-null    int64  \n",
      " 4   PT_LTH             499 non-null    int64  \n",
      " 5   PT_WGT             499 non-null    int64  \n",
      " 6   FUR_NO             499 non-null    object \n",
      " 7   FUR_NO_ROW         499 non-null    object \n",
      " 8   FUR_HZ_TEMP        499 non-null    int64  \n",
      " 9   FUR_HZ_TIME        499 non-null    int64  \n",
      " 10  FUR_SZ_TEMP        499 non-null    int64  \n",
      " 11  FUR_SZ_TIME        499 non-null    int64  \n",
      " 12  FUR_TIME           499 non-null    int64  \n",
      " 13  ROLLING_TEMP_T5    499 non-null    int64  \n",
      " 14  HSB                499 non-null    object \n",
      " 15  ROLLING_DESCALING  499 non-null    object \n",
      " 16  WORK_GR            499 non-null    object \n",
      "dtypes: float64(1), int64(9), object(7)\n",
      "memory usage: 70.2+ KB\n"
     ]
    }
   ],
   "source": [
    "df_train_x.info()"
   ]
  },
  {
   "cell_type": "code",
   "execution_count": 73,
   "metadata": {},
   "outputs": [],
   "source": [
    "df_train = df_train.astype({'SCALE':'int64'})"
   ]
  },
  {
   "cell_type": "code",
   "execution_count": 79,
   "metadata": {
    "scrolled": false
   },
   "outputs": [
    {
     "name": "stdout",
     "output_type": "stream",
     "text": [
      "Warning: Maximum number of iterations has been exceeded.\n",
      "         Current function value: 0.141205\n",
      "         Iterations: 35\n",
      "                           Logit Regression Results                           \n",
      "==============================================================================\n",
      "Dep. Variable:                  SCALE   No. Observations:                  499\n",
      "Model:                          Logit   Df Residuals:                      476\n",
      "Method:                           MLE   Df Model:                           22\n",
      "Date:                Wed, 25 Nov 2020   Pseudo R-squ.:                  0.7749\n",
      "Time:                        04:34:35   Log-Likelihood:                -70.461\n",
      "converged:                      False   LL-Null:                       -313.05\n",
      "Covariance Type:            nonrobust   LLR p-value:                 8.970e-89\n",
      "==============================================================================================\n",
      "                                 coef    std err          z      P>|z|      [0.025      0.975]\n",
      "----------------------------------------------------------------------------------------------\n",
      "Intercept                   -164.3984   4.63e+04     -0.004      0.997   -9.09e+04    9.05e+04\n",
      "C(FUR_NO)[T.2호기]              -0.8145      0.553     -1.474      0.140      -1.897       0.269\n",
      "C(FUR_NO)[T.3호기]               0.2604      0.586      0.444      0.657      -0.889       1.409\n",
      "C(FUR_NO_ROW)[T.2]             0.0884      0.476      0.186      0.853      -0.845       1.021\n",
      "C(HSB)[T.적용]                 -35.5129   2.97e+04     -0.001      0.999   -5.82e+04    5.81e+04\n",
      "C(ROLLING_DESCALING)[T.6]    -42.1006   3.55e+04     -0.001      0.999   -6.96e+04    6.96e+04\n",
      "C(ROLLING_DESCALING)[T.7]     -1.4368   8.08e+06  -1.78e-07      1.000   -1.58e+07    1.58e+07\n",
      "C(ROLLING_DESCALING)[T.8]    -38.3370   3.55e+04     -0.001      0.999   -6.96e+04    6.96e+04\n",
      "C(ROLLING_DESCALING)[T.9]      1.8885   1.86e+06   1.02e-06      1.000   -3.65e+06    3.65e+06\n",
      "C(ROLLING_DESCALING)[T.10]   -38.4855   3.55e+04     -0.001      0.999   -6.96e+04    6.96e+04\n",
      "C(WORK_GR)[T.2조]              -0.7646      0.627     -1.219      0.223      -1.994       0.465\n",
      "C(WORK_GR)[T.3조]              -1.1117      0.708     -1.570      0.117      -2.500       0.276\n",
      "C(WORK_GR)[T.4조]              -0.8144      0.636     -1.280      0.200      -2.061       0.432\n",
      "PT_THK                         0.1521      0.093      1.632      0.103      -0.031       0.335\n",
      "PT_WDTH                       -0.0024      0.001     -3.030      0.002      -0.004      -0.001\n",
      "PT_LTH                      -5.69e-05   4.52e-05     -1.258      0.208      -0.000    3.17e-05\n",
      "PT_WGT                     -1.268e-05   1.05e-05     -1.205      0.228   -3.33e-05    7.95e-06\n",
      "FUR_HZ_TEMP                    0.0241      0.032      0.761      0.446      -0.038       0.086\n",
      "FUR_HZ_TIME                    0.0089      0.007      1.227      0.220      -0.005       0.023\n",
      "FUR_SZ_TEMP                    0.1332      0.065      2.051      0.040       0.006       0.260\n",
      "FUR_SZ_TIME                   -0.0302      0.020     -1.522      0.128      -0.069       0.009\n",
      "FUR_TIME                      -0.0038      0.007     -0.538      0.590      -0.018       0.010\n",
      "ROLLING_TEMP_T5                0.0653      0.012      5.612      0.000       0.043       0.088\n",
      "==============================================================================================\n",
      "\n",
      "Possibly complete quasi-separation: A fraction 0.35 of observations can be\n",
      "perfectly predicted. This might indicate that there is complete\n",
      "quasi-separation. In this case some parameters will not be identified.\n"
     ]
    },
    {
     "name": "stderr",
     "output_type": "stream",
     "text": [
      "/opt/anaconda3/lib/python3.8/site-packages/statsmodels/base/model.py:567: ConvergenceWarning: Maximum Likelihood optimization failed to converge. Check mle_retvals\n",
      "  warn(\"Maximum Likelihood optimization failed to converge. \"\n"
     ]
    }
   ],
   "source": [
    "# SPEC은 종류가 너무 많고, STEEL_KIND는 class에 따른 표본 수 차이가 너무 커서 모델 학습에 방해가 될 것으로 예상되어 제외시켰다.\n",
    "log_model = Logit.from_formula(\"\"\"SCALE ~ PT_THK + PT_WDTH + PT_LTH + PT_WGT + C(FUR_NO) + C(FUR_NO_ROW) + FUR_HZ_TEMP + FUR_HZ_TIME  + FUR_SZ_TEMP + FUR_SZ_TIME + FUR_TIME + ROLLING_TEMP_T5 + C(HSB) + C(ROLLING_DESCALING) + C(WORK_GR)\"\"\", df_train)\n",
    "\n",
    "log_result = log_model.fit()\n",
    "print(log_result.summary())"
   ]
  },
  {
   "cell_type": "markdown",
   "metadata": {},
   "source": [
    ": 위 결과를 분석해보면, p-value를 고려해보았을 때, \"PT_WDTH\", \"FUR_SZ_TEMP\", \"ROLLING_TEMP_T5\" 의 3가지 요인이 SCALE 발생여부에 영향을 주는 것으로 판단할 수 있다.  \n",
    "  \n",
    "PT_WDTH와는 음의 상관관계, 그리고 FUR_SZ_TEMP, ROLLING_TEMP_T5와는 양의 상관관계가 나타난다."
   ]
  },
  {
   "cell_type": "code",
   "execution_count": 75,
   "metadata": {},
   "outputs": [
    {
     "data": {
      "text/plain": [
       "array([-8.14478849e-01,  2.60386896e-01,  8.84091642e-02, -3.55128795e+01,\n",
       "       -4.21005558e+01, -1.43683239e+00, -3.83369610e+01,  1.88851089e+00,\n",
       "       -3.84855306e+01, -7.64553850e-01, -1.11170925e+00, -8.14362617e-01,\n",
       "        1.52105976e-01, -2.39978651e-03, -5.69014736e-05, -1.26828918e-05,\n",
       "        2.40723489e-02,  8.92364063e-03,  1.33213138e-01, -3.01798387e-02,\n",
       "       -3.82281437e-03,  6.53162890e-02])"
      ]
     },
     "execution_count": 75,
     "metadata": {},
     "output_type": "execute_result"
    },
    {
     "data": {
      "image/png": "[encoded data removed]",
      "text/plain": [
       "<Figure size 432x288 with 1 Axes>"
      ]
     },
     "metadata": {
      "needs_background": "light"
     },
     "output_type": "display_data"
    }
   ],
   "source": [
    "df_log_coef = pd.DataFrame({\"Coef\":[log_result.params.values[14],log_result.params.values[19],log_result.params.values[22]]},\n",
    "                                 index = [log_model.exog_names[14],log_model.exog_names[19],log_model.exog_names[22]])\n",
    "df_log_coef.plot.barh(y=\"Coef\",legend=False)\n",
    "\n",
    "log_result.params.values[1:]"
   ]
  },
  {
   "cell_type": "markdown",
   "metadata": {},
   "source": [
    ": 로지스틱 선형회귀를 하였을 때, FUR_SZ_TEMP, ROLLING_TEMP_T5, PT_WIDTH 순서로 영향을 미치는 것을 확인할 수 있었다."
   ]
  },
  {
   "cell_type": "markdown",
   "metadata": {},
   "source": [
    "## 3.2 Decision Tree"
   ]
  },
  {
   "cell_type": "code",
   "execution_count": 81,
   "metadata": {
    "scrolled": true
   },
   "outputs": [
    {
     "ename": "ModuleNotFoundError",
     "evalue": "No module named 'graphviz'",
     "output_type": "error",
     "traceback": [
      "\u001b[0;31m---------------------------------------------------------------------------\u001b[0m",
      "\u001b[0;31mModuleNotFoundError\u001b[0m                       Traceback (most recent call last)",
      "\u001b[0;32m<ipython-input-81-92c30b70eb06>\u001b[0m in \u001b[0;36m<module>\u001b[0;34m\u001b[0m\n\u001b[1;32m      4\u001b[0m \u001b[0;34m\u001b[0m\u001b[0m\n\u001b[1;32m      5\u001b[0m \u001b[0;32mfrom\u001b[0m \u001b[0msklearn\u001b[0m\u001b[0;34m.\u001b[0m\u001b[0mtree\u001b[0m \u001b[0;32mimport\u001b[0m \u001b[0mexport_graphviz\u001b[0m\u001b[0;34m\u001b[0m\u001b[0;34m\u001b[0m\u001b[0m\n\u001b[0;32m----> 6\u001b[0;31m \u001b[0;32mimport\u001b[0m \u001b[0mgraphviz\u001b[0m\u001b[0;34m\u001b[0m\u001b[0;34m\u001b[0m\u001b[0m\n\u001b[0m\u001b[1;32m      7\u001b[0m \u001b[0;34m\u001b[0m\u001b[0m\n\u001b[1;32m      8\u001b[0m \u001b[0;32mfrom\u001b[0m \u001b[0msklearn\u001b[0m\u001b[0;34m.\u001b[0m\u001b[0mmodel_selection\u001b[0m \u001b[0;32mimport\u001b[0m \u001b[0mtrain_test_split\u001b[0m\u001b[0;34m\u001b[0m\u001b[0;34m\u001b[0m\u001b[0m\n",
      "\u001b[0;31mModuleNotFoundError\u001b[0m: No module named 'graphviz'"
     ]
    }
   ],
   "source": [
    "import pandas as pd\n",
    "import matplotlib.pyplot as plt\n",
    "import matplotlib\n",
    "\n",
    "from sklearn.tree import export_graphviz\n",
    "import graphviz\n",
    "\n",
    "from sklearn.model_selection import train_test_split\n",
    "from sklearn.tree import DecisionTreeClassifier\n",
    "from sklearn.model_selection import GridSearchCV\n",
    "from sklearn.metrics import confusion_matrix"
   ]
  },
  {
   "cell_type": "code",
   "execution_count": 80,
   "metadata": {},
   "outputs": [],
   "source": [
    "import os\n",
    "\n",
    "os.environ[\"PATH\"] += os.pathsep + \"~/Users/Juno/Library/Python/3.8/lib/python/site-packages/\""
   ]
  },
  {
   "cell_type": "code",
   "execution_count": null,
   "metadata": {},
   "outputs": [],
   "source": [
    "df_raw = df_raw.replace(\"양품\", 0)\n",
    "df_raw = df_raw.replace(\"불량\", 1)"
   ]
  },
  {
   "cell_type": "code",
   "execution_count": null,
   "metadata": {
    "scrolled": false
   },
   "outputs": [],
   "source": [
    "df_raw.info()"
   ]
  },
  {
   "cell_type": "code",
   "execution_count": null,
   "metadata": {},
   "outputs": [],
   "source": [
    "df_raw = df_raw.drop(\"SPEC\", axis=1, inplace=False)\n",
    "df_raw"
   ]
  },
  {
   "cell_type": "code",
   "execution_count": null,
   "metadata": {},
   "outputs": [],
   "source": [
    "# 더미변수를 만들어준다.(원핫인코딩)\n",
    "df_raw_dummy = pd.get_dummies(df_raw)\n",
    "df_raw_dummy.head()"
   ]
  },
  {
   "cell_type": "code",
   "execution_count": null,
   "metadata": {},
   "outputs": [],
   "source": [
    "# 원핫인코딩이 잘 되었음을 확인할 수 있다.\n",
    "df_raw_dummy.info()"
   ]
  },
  {
   "cell_type": "code",
   "execution_count": null,
   "metadata": {},
   "outputs": [],
   "source": [
    "df_raw_y = df_raw_dummy[\"SCALE\"]\n",
    "df_raw_x = df_raw_dummy.drop(\"SCALE\", axis=1, inplace=False)"
   ]
  },
  {
   "cell_type": "code",
   "execution_count": null,
   "metadata": {},
   "outputs": [],
   "source": [
    "df_train_x, df_test_x, df_train_y, df_test_y = train_test_split(df_raw_x, df_raw_y, test_size = 0.3, random_state= 1234)\n",
    "print(\"train data X size : {}\".format(df_train_x.shape))\n",
    "print(\"train data Y size : {}\".format(df_train_y.shape))\n",
    "print(\"test data X size : {}\".format(df_test_x.shape))\n",
    "print(\"test data Y size : {}\".format(df_test_y.shape))"
   ]
  },
  {
   "cell_type": "code",
   "execution_count": null,
   "metadata": {},
   "outputs": [],
   "source": [
    "# 의사결정나무 기본 모델을 만든다.(max_depth를 설정한 이유는 결과 확인을 편하게 하기 위해 하였다.)\n",
    "tree_uncustomized = DecisionTreeClassifier(random_state=1234, max_depth =5)\n",
    "tree_uncustomized.fit(df_train_x, df_train_y)\n",
    "\n",
    "y_pred = tree_uncustomized.predict(df_test_x)\n",
    "\n",
    "print(\"Score on training set: {:.3f}\".format(tree_uncustomized.score(df_train_x, df_train_y)))\n",
    "print(\"Score on test set: {:.3f}\".format(tree_uncustomized.score(df_test_x, df_test_y)))\n",
    "print(\"Confusion matrix: \\n{}\".format(confusion_matrix(df_test_y, y_pred)))"
   ]
  },
  {
   "cell_type": "code",
   "execution_count": null,
   "metadata": {},
   "outputs": [],
   "source": [
    "v_feature_name = df_train_x.columns"
   ]
  },
  {
   "cell_type": "code",
   "execution_count": null,
   "metadata": {
    "scrolled": false
   },
   "outputs": [],
   "source": [
    "tree_low = tree_uncustomized\n",
    "tree_low.fit(df_train_x, df_train_y)\n",
    "export_graphviz(tree_low, out_file=\"tree_low.dot\", class_names = [\"0\", \"1\"], feature_names=v_feature_name, impurity=True, filled=True)\n",
    "with open(\"tree_low.dot\") as f:\n",
    "    dot_graph = f.read()\n",
    "display(graphviz.Source(dot_graph))"
   ]
  },
  {
   "cell_type": "code",
   "execution_count": null,
   "metadata": {},
   "outputs": [],
   "source": [
    "import pydot\n",
    "\n",
    "(graph,) = pydot.graph_from_dot_file('tree_low.dot',encoding='utf8')\n",
    "\n",
    "graph.write_png('decisionTree.png')"
   ]
  },
  {
   "cell_type": "code",
   "execution_count": null,
   "metadata": {
    "scrolled": true
   },
   "outputs": [],
   "source": [
    "df_importance = pd.DataFrame()\n",
    "df_importance['Feature'] = v_feature_name\n",
    "df_importance['Importance'] = tree_low.feature_importances_\n",
    "\n",
    "df_importance.sort_values(\"Importance\", ascending=False, inplace=True)\n",
    "df_importance.round(3)"
   ]
  },
  {
   "cell_type": "code",
   "execution_count": null,
   "metadata": {},
   "outputs": [],
   "source": [
    "df_importance.sort_values(\"Importance\", ascending=True, inplace=True)\n",
    "coordinates = range(len(df_importance))\n",
    "plt.barh(y=coordinates, width = df_importance[\"Importance\"])\n",
    "plt.yticks(coordinates, df_importance[\"Feature\"])\n",
    "plt.xlabel(\"Importance of variable\")\n",
    "plt.ylabel(\"Variable\")"
   ]
  },
  {
   "cell_type": "markdown",
   "metadata": {},
   "source": [
    "## 3.3 Gradient Boosting"
   ]
  },
  {
   "cell_type": "code",
   "execution_count": null,
   "metadata": {},
   "outputs": [],
   "source": [
    "import pandas as pd\n",
    "import numpy as np\n",
    "import matplotlib.pyplot as plt\n",
    "import matplotlib\n",
    "\n",
    "from sklearn.tree import export_graphviz\n",
    "import graphviz\n",
    "\n",
    "from sklearn.model_selection import train_test_split\n",
    "from sklearn.ensemble import GradientBoostingClassifier\n",
    "from sklearn.model_selection import GridSearchCV\n",
    "from sklearn.metrics import confusion_matrix"
   ]
  },
  {
   "cell_type": "code",
   "execution_count": null,
   "metadata": {},
   "outputs": [],
   "source": [
    "gb_uncustomized = GradientBoostingClassifier(random_state=1234)\n",
    "gb_uncustomized.fit(df_train_x, df_train_y)\n",
    "\n",
    "y_pred = gb_uncustomized.predict(df_test_x)\n",
    "\n",
    "print(\"Accuracy on training set: {:.3f}\".format(gb_uncustomized.score(df_train_x, df_train_y)))\n",
    "print(\"Accuracy on test set: {:.3f}\".format(gb_uncustomized.score(df_test_x, df_test_y)))\n",
    "print(\"Confusion matrix: \\n{}\".format(confusion_matrix(df_test_y, y_pred)))"
   ]
  },
  {
   "cell_type": "code",
   "execution_count": null,
   "metadata": {},
   "outputs": [],
   "source": [
    "df_importance = pd.DataFrame()\n",
    "df_importance['Feature'] = v_feature_name\n",
    "df_importance['Importance'] = gb_uncustomized.feature_importances_\n",
    "\n",
    "df_importance.sort_values(\"Importance\", ascending=False, inplace=True)\n",
    "df_importance.round(3)"
   ]
  },
  {
   "cell_type": "code",
   "execution_count": null,
   "metadata": {
    "scrolled": false
   },
   "outputs": [],
   "source": [
    "df_importance.sort_values(\"Importance\", ascending=True, inplace=True)\n",
    "coordinates = range(len(df_importance))\n",
    "plt.barh(y=coordinates, width = df_importance[\"Importance\"])\n",
    "plt.yticks(coordinates, df_importance[\"Feature\"])\n",
    "plt.xlabel(\"Importance of variable\")\n",
    "plt.ylabel(\"Variable\")"
   ]
  },
  {
   "cell_type": "code",
   "execution_count": null,
   "metadata": {},
   "outputs": [],
   "source": []
  }
 ],
 "metadata": {
  "kernelspec": {
   "display_name": "Python 3",
   "language": "python",
   "name": "python3"
  },
  "language_info": {
   "codemirror_mode": {
    "name": "ipython",
    "version": 3
   },
   "file_extension": ".py",
   "mimetype": "text/x-python",
   "name": "python",
   "nbconvert_exporter": "python",
   "pygments_lexer": "ipython3",
   "version": "3.8.3"
  }
 },
 "nbformat": 4,
 "nbformat_minor": 4
}
