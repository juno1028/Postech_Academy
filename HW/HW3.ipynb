{
 "cells": [
  {
   "cell_type": "markdown",
   "metadata": {},
   "source": [
    "## 과제실습 2"
   ]
  },
  {
   "cell_type": "code",
   "execution_count": 1,
   "metadata": {},
   "outputs": [
    {
     "name": "stdout",
     "output_type": "stream",
     "text": [
      "input an integer: 3159\n",
      "★★★\n",
      "★\n",
      "★★★★★\n",
      "★★★★★★★★★\n"
     ]
    }
   ],
   "source": [
    "# 반복문 - 문제11\n",
    "\n",
    "input_int = input(\"input an integer: \")\n",
    "for i in input_int:\n",
    "    for _ in range(int(i)):\n",
    "        print(\"★\", end='')\n",
    "    print('')"
   ]
  },
  {
   "cell_type": "code",
   "execution_count": 2,
   "metadata": {},
   "outputs": [
    {
     "name": "stdout",
     "output_type": "stream",
     "text": [
      "Enter a number: 7\n",
      "Enter a number: 2\n",
      "Enter a number: 9\n",
      "Enter a number: 3\n",
      "Enter a number: 5\n",
      "Enter a number: done\n",
      "\n",
      "[7.0, 2.0, 9.0, 3.0, 5.0]\n",
      "Average: 5.2\n",
      "Maximum: 9.0\n",
      "Minimum: 2.0\n"
     ]
    }
   ],
   "source": [
    "# 반복문 - 문제12\n",
    "\n",
    "number_list = list()\n",
    "while(True):\n",
    "    entered_number = input('Enter a number: ')\n",
    "    if entered_number == \"done\":\n",
    "        break\n",
    "    number_list.append(float(entered_number))\n",
    "\n",
    "print('')\n",
    "print(number_list)\n",
    "print(f\"Average: {sum(number_list)/len(number_list):.1f}\")\n",
    "print(f\"Maximum: {max(number_list):.1f}\")\n",
    "print(f\"Minimum: {min(number_list):.1f}\")"
   ]
  },
  {
   "cell_type": "markdown",
   "metadata": {},
   "source": [
    "## 과제실습 3"
   ]
  },
  {
   "cell_type": "code",
   "execution_count": 5,
   "metadata": {},
   "outputs": [
    {
     "name": "stdout",
     "output_type": "stream",
     "text": [
      "1 2 10 "
     ]
    }
   ],
   "source": [
    "# 딕셔너리 - 실습1\n",
    "\n",
    "d = {'youn':1, 'park':2, 'kim':10}\n",
    "\n",
    "for item in d.items():\n",
    "    key, value = item\n",
    "    print(value, end=' ')"
   ]
  },
  {
   "cell_type": "code",
   "execution_count": 15,
   "metadata": {},
   "outputs": [
    {
     "name": "stdout",
     "output_type": "stream",
     "text": [
      "five 5\n",
      "four 4\n",
      "one 1\n",
      "three 3\n",
      "two 2\n"
     ]
    }
   ],
   "source": [
    "# 딕셔너리 - 실습2\n",
    "\n",
    "dic = {'one':1, 'two':2, 'three':3, 'four':4, 'five':5}\n",
    "sorted_dic_list = sorted(dic.items())\n",
    "for item in sorted_dic_list:\n",
    "    print(f'{item[0]} {item[1]}')"
   ]
  },
  {
   "cell_type": "code",
   "execution_count": 16,
   "metadata": {},
   "outputs": [
    {
     "name": "stdout",
     "output_type": "stream",
     "text": [
      "Enter a sentence: Python is fun!\n",
      "{'i': 1, 'y': 1, 't': 1, ' ': 2, 's': 1, 'h': 1, 'n': 2, 'f': 1, 'u': 1, 'P': 1, '!': 1, 'o': 1}\n"
     ]
    }
   ],
   "source": [
    "# 딕셔너리 - 실습3\n",
    "\n",
    "sentence = input(\"Enter a sentence: \")\n",
    "sentence_set = set(sentence)\n",
    "char_dict = {}\n",
    "\n",
    "for char in sentence_set:\n",
    "    char_dict[char] = sentence.count(char)\n",
    "\n",
    "print(char_dict)"
   ]
  },
  {
   "cell_type": "markdown",
   "metadata": {},
   "source": [
    "## 과제실습 5"
   ]
  },
  {
   "cell_type": "code",
   "execution_count": 19,
   "metadata": {},
   "outputs": [
    {
     "name": "stdout",
     "output_type": "stream",
     "text": [
      "first 1\n",
      "line 3\n",
      "second 1\n",
      "third 1\n"
     ]
    }
   ],
   "source": [
    "# 파일 - 실습1\n",
    "\n",
    "fr = open(\"./test.txt\", \"r\")\n",
    "          \n",
    "whole_txt = fr.read()\n",
    "word_dict = {}\n",
    "\n",
    "for word in whole_txt.split():\n",
    "    if word not in word_dict:\n",
    "        word_dict[word] = 1\n",
    "    else:\n",
    "        word_dict[word] +=1\n",
    "        \n",
    "for key in word_dict:\n",
    "    print(f'{key} {word_dict[key]}')\n",
    "    \n",
    "fr.close()"
   ]
  },
  {
   "cell_type": "code",
   "execution_count": 32,
   "metadata": {},
   "outputs": [],
   "source": [
    "# 파일 - 실습4\n",
    "\n",
    "## score.txt 파일 읽기\n",
    "fr = open(\"./score.txt\", \"r\")\n",
    "line_list = fr.read().split(\"\\n\")\n",
    "\n",
    "student_total_score_dict = {}\n",
    "\n",
    "for line in line_list:\n",
    "    \n",
    "    # total_score(총점) 계산\n",
    "    total_score = (int(line.split()[1])*40 + int(line.split()[2])*60)/100\n",
    "    \n",
    "    # grade(학점) 계산 및 총점(학점) 형식으로 딕셔너리 value 지정\n",
    "    if total_score >= 90:\n",
    "        dict_value = str(total_score) + '(A)'\n",
    "    elif total_score >= 80 and total_score < 90:\n",
    "        dict_value = str(total_score) + '(B)'\n",
    "    elif total_score >= 70 and total_score < 80:\n",
    "        dict_value = str(total_score) + '(C)'\n",
    "    elif total_score >= 60 and total_score < 70:\n",
    "        dict_value = str(total_score) + '(D)'\n",
    "    else:\n",
    "        dict_value = str(total_score) + '(F)'\n",
    "    \n",
    "    # {학번 중간고사 기말고사 : 총점(학점)} 딕셔너리 생성\n",
    "    student_total_score_dict[line] = dict_value\n",
    "    \n",
    "## report.txt 파일 쓰기\n",
    "fw = open(\"./report.txt\", \"w\")\n",
    "for item in student_total_score_dict.items():\n",
    "    key, value = item\n",
    "    data = f\"{key} {value}\\n\"\n",
    "    fw.write(data)\n",
    "\n",
    "fw.close()\n",
    "fr.close()"
   ]
  },
  {
   "cell_type": "code",
   "execution_count": null,
   "metadata": {},
   "outputs": [],
   "source": []
  }
 ],
 "metadata": {
  "kernelspec": {
   "display_name": "Python 3",
   "language": "python",
   "name": "python3"
  },
  "language_info": {
   "codemirror_mode": {
    "name": "ipython",
    "version": 3
   },
   "file_extension": ".py",
   "mimetype": "text/x-python",
   "name": "python",
   "nbconvert_exporter": "python",
   "pygments_lexer": "ipython3",
   "version": "3.8.3"
  }
 },
 "nbformat": 4,
 "nbformat_minor": 4
}
