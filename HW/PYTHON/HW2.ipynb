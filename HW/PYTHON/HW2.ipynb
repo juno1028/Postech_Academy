{
 "cells": [
  {
   "cell_type": "markdown",
   "metadata": {},
   "source": [
    "# 과제실습1"
   ]
  },
  {
   "cell_type": "code",
   "execution_count": 7,
   "metadata": {},
   "outputs": [
    {
     "name": "stdout",
     "output_type": "stream",
     "text": [
      "Enter two integers: 8 5\n",
      "13\n",
      "3\n",
      "40\n",
      "1.6\n",
      "3\n"
     ]
    }
   ],
   "source": [
    "# HW1 - 문제4\n",
    "\n",
    "numbers = (input('Enter two integers: '))\n",
    "\n",
    "num1 = int(numbers.split()[0])\n",
    "num2 = int(numbers.split()[1])\n",
    "\n",
    "print(num1 + num2)\n",
    "print(num1 - num2)\n",
    "print(num1 * num2)\n",
    "print(num1 / num2)\n",
    "print(num1 % num2)"
   ]
  },
  {
   "cell_type": "code",
   "execution_count": 8,
   "metadata": {},
   "outputs": [
    {
     "name": "stdout",
     "output_type": "stream",
     "text": [
      "Enter two integers: 70 91\n",
      "The sum of 70 and 91 is 161\n",
      "The average of numbers is 80.5\n"
     ]
    }
   ],
   "source": [
    "# HW1 - 문제5\n",
    "\n",
    "numbers = (input('Enter two integers: '))\n",
    "\n",
    "num1 = int(numbers.split()[0])\n",
    "num2 = int(numbers.split()[1])\n",
    "\n",
    "sum_result = num1 + num2\n",
    "average_result = (num1 + num2)/2\n",
    "\n",
    "print(f'The sum of {num1} and {num2} is {sum_result}')\n",
    "print(f'The average of numbers is {average_result:.1f}')"
   ]
  },
  {
   "cell_type": "code",
   "execution_count": 1,
   "metadata": {},
   "outputs": [
    {
     "name": "stdout",
     "output_type": "stream",
     "text": [
      "날짜(연/월/일)입력 : 2020/11/02\n",
      "입력한 날짜의 10년 후는 2030년 11월 02일\n"
     ]
    }
   ],
   "source": [
    "# HW1 - 문제6\n",
    "\n",
    "date = input('날짜(연/월/일)입력 : ')\n",
    "date_list = date.split('/')\n",
    "year, month, day = date.split('/')\n",
    "print(f'입력한 날짜의 10년 후는 {int(year)+ 10}년 {month}월 {day}일')"
   ]
  },
  {
   "cell_type": "markdown",
   "metadata": {},
   "source": [
    "# 과제실습2 - 조건문"
   ]
  },
  {
   "cell_type": "code",
   "execution_count": 17,
   "metadata": {},
   "outputs": [
    {
     "name": "stdout",
     "output_type": "stream",
     "text": [
      "Enter a number: 7\n",
      "7 is Odd number\n"
     ]
    }
   ],
   "source": [
    "# 조건문 - 문제1\n",
    "\n",
    "number = input(\"Enter a number: \")\n",
    "int_number = int(number)\n",
    "if int_number % 2 == 0:\n",
    "    print(f'{int_number} is Even number')\n",
    "else:\n",
    "    print(f'{int_number} is Odd number')"
   ]
  },
  {
   "cell_type": "code",
   "execution_count": 20,
   "metadata": {},
   "outputs": [
    {
     "name": "stdout",
     "output_type": "stream",
     "text": [
      "Enter your midterm score: 77\n",
      "Enter your final score: 56\n",
      "Average: 66.5\n",
      "Grade: D\n"
     ]
    }
   ],
   "source": [
    "# 조건문 - 문제2\n",
    "\n",
    "mid_score = int(input(\"Enter your midterm score: \"))\n",
    "final_score = int(input(\"Enter your final score: \"))\n",
    "\n",
    "average_score = (mid_score+final_score)/2\n",
    "\n",
    "if average_score >= 90:\n",
    "    grade = 'A'\n",
    "elif average_score >= 80:\n",
    "    grade = 'B'\n",
    "elif average_score >= 70:\n",
    "    grade = 'C'\n",
    "elif average_score >= 60:\n",
    "    grade = 'D'\n",
    "else:\n",
    "    grade = 'F'\n",
    "    \n",
    "print(f'Average: {average_score:.1f}')\n",
    "print(f'Grade: {grade}')"
   ]
  },
  {
   "cell_type": "code",
   "execution_count": 31,
   "metadata": {},
   "outputs": [
    {
     "name": "stdout",
     "output_type": "stream",
     "text": [
      "Enter your english score: 50\n",
      "Enter your math score: 30\n",
      "총합 점수 부족\n"
     ]
    }
   ],
   "source": [
    "# 조건문 - 문제3\n",
    "\n",
    "eng_score = int(input(\"Enter your english score: \"))\n",
    "math_score = int(input(\"Enter your math score: \"))\n",
    "\n",
    "total_score = eng_score + math_score\n",
    "\n",
    "if total_score < 110:\n",
    "    print(\"총합 점수 부족\")\n",
    "else:\n",
    "    if eng_score >= 40 and math_score >= 40:\n",
    "        print(\"합격\")\n",
    "    elif eng_score >= 40 and math_score < 40:\n",
    "        print(\"수학 점수 부족\")\n",
    "    else:\n",
    "        print('영어 점수 부족')"
   ]
  },
  {
   "cell_type": "code",
   "execution_count": 81,
   "metadata": {},
   "outputs": [
    {
     "name": "stdout",
     "output_type": "stream",
     "text": [
      "세 개의 수를 입력하시오: 30 22 50\n",
      "가장 큰 수는 50입니다.\n"
     ]
    }
   ],
   "source": [
    "# 조건문 - 문제4\n",
    "\n",
    "three_numbers = input(\"세 개의 수를 입력하시오: \")\n",
    "num1, num2, num3 = list(map(int, three_numbers.split()))\n",
    "\n",
    "max_num = -1\n",
    "\n",
    "if (num1 > num2) & (num1 > num3):\n",
    "    max_num = num1\n",
    "elif (num2 > num1) & (num2 > num3):\n",
    "    max_num = num2\n",
    "else:\n",
    "    max_num = num3\n",
    "\n",
    "print(f'가장 큰 수는 {max_num}입니다.')"
   ]
  },
  {
   "cell_type": "markdown",
   "metadata": {},
   "source": [
    "# 과제실습2 - 반복문"
   ]
  },
  {
   "cell_type": "code",
   "execution_count": 86,
   "metadata": {},
   "outputs": [
    {
     "name": "stdout",
     "output_type": "stream",
     "text": [
      "P\n",
      "y\n",
      "t\n",
      "h\n",
      "o\n",
      "n\n"
     ]
    }
   ],
   "source": [
    "# 반복문 - 문제1-(1)\n",
    "\n",
    "word = 'Python'\n",
    "count = 0\n",
    "\n",
    "while(count < len(word)):\n",
    "    print(word[count])\n",
    "    count += 1"
   ]
  },
  {
   "cell_type": "code",
   "execution_count": 87,
   "metadata": {},
   "outputs": [
    {
     "name": "stdout",
     "output_type": "stream",
     "text": [
      "P\n",
      "y\n",
      "t\n",
      "h\n",
      "o\n",
      "n\n"
     ]
    }
   ],
   "source": [
    "# 반복문 - 문제1-(2)\n",
    "\n",
    "word = 'Python'\n",
    "for char in word:\n",
    "    print(char)"
   ]
  },
  {
   "cell_type": "code",
   "execution_count": 47,
   "metadata": {},
   "outputs": [
    {
     "name": "stdout",
     "output_type": "stream",
     "text": [
      "10,9,8,7,6,5,4,3,2,1,Happy new year!!\n"
     ]
    }
   ],
   "source": [
    "# 반복문 - 문제2\n",
    "\n",
    "for i in range(10,0,-1):\n",
    "    print(i, end=',')\n",
    "    \n",
    "print(\"Happy new year!!\")"
   ]
  },
  {
   "cell_type": "code",
   "execution_count": 49,
   "metadata": {},
   "outputs": [
    {
     "name": "stdout",
     "output_type": "stream",
     "text": [
      "Enter two integers:5 10\n",
      "The sum from 5 to 10 is 45\n"
     ]
    }
   ],
   "source": [
    "# 반복문 - 문제3\n",
    "\n",
    "nums= input(\"Enter two integers:\")\n",
    "nums_list = nums.split()\n",
    "num1 = int(nums_list[0])\n",
    "num2 = int(nums_list[1])\n",
    "\n",
    "total = 0\n",
    "\n",
    "for i in range(num1, num2 + 1):\n",
    "    total += i\n",
    "\n",
    "print(f\"The sum from {num1} to {num2} is {total}\")"
   ]
  },
  {
   "cell_type": "code",
   "execution_count": 50,
   "metadata": {},
   "outputs": [
    {
     "name": "stdout",
     "output_type": "stream",
     "text": [
      "3\n"
     ]
    }
   ],
   "source": [
    "# 반복문 - 문제4\n",
    "\n",
    "word = 'banana'\n",
    "count = 0\n",
    "\n",
    "for char in word:\n",
    "    if char == 'a':\n",
    "        count += 1\n",
    "        \n",
    "print(count)"
   ]
  },
  {
   "cell_type": "code",
   "execution_count": 90,
   "metadata": {},
   "outputs": [
    {
     "name": "stdout",
     "output_type": "stream",
     "text": [
      "0 1 2 3 4 5 6 7 8 9 \n",
      "0 5 10 15 20 25 30 35 40 45 \n",
      "10 9 8 7 6 5 4 3 2 1 "
     ]
    }
   ],
   "source": [
    "# 반복문 - 문제5\n",
    "\n",
    "for i in range(0,10):\n",
    "    print(i, end=' ')\n",
    "print('')\n",
    "    \n",
    "for j in range(0,50,5):\n",
    "    print(j, end=' ')\n",
    "print('')\n",
    "\n",
    "for k in range(10,0,-1):\n",
    "    print(k, end=' ')"
   ]
  },
  {
   "cell_type": "code",
   "execution_count": 84,
   "metadata": {},
   "outputs": [
    {
     "name": "stdout",
     "output_type": "stream",
     "text": [
      "red\n",
      "green\n",
      "blue\n"
     ]
    }
   ],
   "source": [
    "# 반복문 - 문제6\n",
    "\n",
    "colors = [\"red\", \"green\", \"blue\"]\n",
    "\n",
    "for color in colors:\n",
    "    print(color, end='\\n')"
   ]
  },
  {
   "cell_type": "code",
   "execution_count": 60,
   "metadata": {},
   "outputs": [
    {
     "name": "stdout",
     "output_type": "stream",
     "text": [
      "4 6 8 10 12 "
     ]
    }
   ],
   "source": [
    "# 반복문 - 문제7\n",
    "\n",
    "a = [1, 3, 4, 5, 6, 7, 8, 9, 10, 11, 12, 13]\n",
    "\n",
    "for elem in a:\n",
    "    if elem%2 == 0:\n",
    "        print(elem, end=' ')"
   ]
  },
  {
   "cell_type": "code",
   "execution_count": 67,
   "metadata": {},
   "outputs": [
    {
     "name": "stdout",
     "output_type": "stream",
     "text": [
      "출력하고 싶은 단을 입력하세요: 7\n",
      "7 * 1 =  7\n",
      "7 * 2 = 14\n",
      "7 * 3 = 21\n",
      "7 * 4 = 28\n",
      "7 * 5 = 35\n",
      "7 * 6 = 42\n",
      "7 * 7 = 49\n",
      "7 * 8 = 56\n",
      "7 * 9 = 63\n"
     ]
    }
   ],
   "source": [
    "# 반복문 - 문제8\n",
    "\n",
    "input_num = int(input('출력하고 싶은 단을 입력하세요: '))\n",
    "for i in range(1, 10):\n",
    "    print('%d * %d = %2d'%(input_num, i, input_num*i))"
   ]
  },
  {
   "cell_type": "code",
   "execution_count": 71,
   "metadata": {},
   "outputs": [
    {
     "name": "stdout",
     "output_type": "stream",
     "text": [
      "===2단===\n",
      "2 * 1 =  2\n",
      "2 * 2 =  4\n",
      "2 * 3 =  6\n",
      "2 * 4 =  8\n",
      "2 * 5 = 10\n",
      "2 * 6 = 12\n",
      "2 * 7 = 14\n",
      "2 * 8 = 16\n",
      "2 * 9 = 18\n",
      "===3단===\n",
      "3 * 1 =  3\n",
      "3 * 2 =  6\n",
      "3 * 3 =  9\n",
      "3 * 4 = 12\n",
      "3 * 5 = 15\n",
      "3 * 6 = 18\n",
      "3 * 7 = 21\n",
      "3 * 8 = 24\n",
      "3 * 9 = 27\n",
      "===4단===\n",
      "4 * 1 =  4\n",
      "4 * 2 =  8\n",
      "4 * 3 = 12\n",
      "4 * 4 = 16\n",
      "4 * 5 = 20\n",
      "4 * 6 = 24\n",
      "4 * 7 = 28\n",
      "4 * 8 = 32\n",
      "4 * 9 = 36\n",
      "===5단===\n",
      "5 * 1 =  5\n",
      "5 * 2 = 10\n",
      "5 * 3 = 15\n",
      "5 * 4 = 20\n",
      "5 * 5 = 25\n",
      "5 * 6 = 30\n",
      "5 * 7 = 35\n",
      "5 * 8 = 40\n",
      "5 * 9 = 45\n",
      "===6단===\n",
      "6 * 1 =  6\n",
      "6 * 2 = 12\n",
      "6 * 3 = 18\n",
      "6 * 4 = 24\n",
      "6 * 5 = 30\n",
      "6 * 6 = 36\n",
      "6 * 7 = 42\n",
      "6 * 8 = 48\n",
      "6 * 9 = 54\n",
      "===7단===\n",
      "7 * 1 =  7\n",
      "7 * 2 = 14\n",
      "7 * 3 = 21\n",
      "7 * 4 = 28\n",
      "7 * 5 = 35\n",
      "7 * 6 = 42\n",
      "7 * 7 = 49\n",
      "7 * 8 = 56\n",
      "7 * 9 = 63\n",
      "===8단===\n",
      "8 * 1 =  8\n",
      "8 * 2 = 16\n",
      "8 * 3 = 24\n",
      "8 * 4 = 32\n",
      "8 * 5 = 40\n",
      "8 * 6 = 48\n",
      "8 * 7 = 56\n",
      "8 * 8 = 64\n",
      "8 * 9 = 72\n",
      "===9단===\n",
      "9 * 1 =  9\n",
      "9 * 2 = 18\n",
      "9 * 3 = 27\n",
      "9 * 4 = 36\n",
      "9 * 5 = 45\n",
      "9 * 6 = 54\n",
      "9 * 7 = 63\n",
      "9 * 8 = 72\n",
      "9 * 9 = 81\n"
     ]
    }
   ],
   "source": [
    "# 반복문 - 문제9\n",
    "\n",
    "for i in range(2, 10):\n",
    "    print(\"===%d단===\"%i)\n",
    "    for j in range(1,10):\n",
    "        print('%d * %d = %2d'%(i, j, i*j))"
   ]
  },
  {
   "cell_type": "code",
   "execution_count": 88,
   "metadata": {},
   "outputs": [
    {
     "name": "stdout",
     "output_type": "stream",
     "text": [
      "2 * 1 =  2 3 * 1 =  3 4 * 1 =  4 5 * 1 =  5 6 * 1 =  6 7 * 1 =  7 8 * 1 =  8 9 * 1 =  9 \n",
      "2 * 2 =  4 3 * 2 =  6 4 * 2 =  8 5 * 2 = 10 6 * 2 = 12 7 * 2 = 14 8 * 2 = 16 9 * 2 = 18 \n",
      "2 * 3 =  6 3 * 3 =  9 4 * 3 = 12 5 * 3 = 15 6 * 3 = 18 7 * 3 = 21 8 * 3 = 24 9 * 3 = 27 \n",
      "2 * 4 =  8 3 * 4 = 12 4 * 4 = 16 5 * 4 = 20 6 * 4 = 24 7 * 4 = 28 8 * 4 = 32 9 * 4 = 36 \n",
      "2 * 5 = 10 3 * 5 = 15 4 * 5 = 20 5 * 5 = 25 6 * 5 = 30 7 * 5 = 35 8 * 5 = 40 9 * 5 = 45 \n",
      "2 * 6 = 12 3 * 6 = 18 4 * 6 = 24 5 * 6 = 30 6 * 6 = 36 7 * 6 = 42 8 * 6 = 48 9 * 6 = 54 \n",
      "2 * 7 = 14 3 * 7 = 21 4 * 7 = 28 5 * 7 = 35 6 * 7 = 42 7 * 7 = 49 8 * 7 = 56 9 * 7 = 63 \n",
      "2 * 8 = 16 3 * 8 = 24 4 * 8 = 32 5 * 8 = 40 6 * 8 = 48 7 * 8 = 56 8 * 8 = 64 9 * 8 = 72 \n",
      "2 * 9 = 18 3 * 9 = 27 4 * 9 = 36 5 * 9 = 45 6 * 9 = 54 7 * 9 = 63 8 * 9 = 72 9 * 9 = 81 \n"
     ]
    }
   ],
   "source": [
    "# 반복문 - 문제10\n",
    "\n",
    "for i in range(1, 10):\n",
    "    for j in range(2,10):\n",
    "        print('%d * %d = %2d'%(j, i, j*i), end=' ')\n",
    "    print('')"
   ]
  },
  {
   "cell_type": "code",
   "execution_count": 89,
   "metadata": {},
   "outputs": [
    {
     "name": "stdout",
     "output_type": "stream",
     "text": [
      "input an integer: 3159\n",
      "★★★\n",
      "★\n",
      "★★★★★\n",
      "★★★★★★★★★\n"
     ]
    }
   ],
   "source": [
    "# 반복문 - 문제11\n",
    "\n",
    "input_int = input(\"input an integer: \")\n",
    "for i in input_int:\n",
    "    for _ in range(int(i)):\n",
    "        print(\"★\", end='')\n",
    "    print('')"
   ]
  },
  {
   "cell_type": "code",
   "execution_count": null,
   "metadata": {},
   "outputs": [],
   "source": []
  }
 ],
 "metadata": {
  "kernelspec": {
   "display_name": "Python 3",
   "language": "python",
   "name": "python3"
  },
  "language_info": {
   "codemirror_mode": {
    "name": "ipython",
    "version": 3
   },
   "file_extension": ".py",
   "mimetype": "text/x-python",
   "name": "python",
   "nbconvert_exporter": "python",
   "pygments_lexer": "ipython3",
   "version": "3.8.3"
  }
 },
 "nbformat": 4,
 "nbformat_minor": 4
}
