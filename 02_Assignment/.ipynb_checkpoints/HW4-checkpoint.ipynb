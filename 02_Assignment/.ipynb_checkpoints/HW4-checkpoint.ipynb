{
 "cells": [
  {
   "cell_type": "code",
   "execution_count": 1,
   "metadata": {},
   "outputs": [
    {
     "name": "stdout",
     "output_type": "stream",
     "text": [
      "13는 소수입니다.\n",
      "15는 소수입니다.\n"
     ]
    }
   ],
   "source": [
    "# 과제실습4 : 함수 - 과제1\n",
    "\n",
    "def check_prime(num):\n",
    "    \n",
    "    if num == 1:\n",
    "        return False\n",
    "    else:\n",
    "        for i in range(2,num+1):\n",
    "            if num % i == 0:\n",
    "                return False\n",
    "            else:\n",
    "                return True\n",
    "                \n",
    "    \n",
    "def main():\n",
    "    a = 13\n",
    "    b = 15\n",
    "    \n",
    "    if check_prime(a):\n",
    "        print(str(a)+'는 소수입니다.')\n",
    "    else:\n",
    "        print(str(a)+'는 소수가 아닙니다.')\n",
    "        \n",
    "    if check_prime(b):\n",
    "        print(str(b)+'는 소수입니다.')\n",
    "    else:\n",
    "        print(str(b)+'는 소수가 아닙니다.')\n",
    "        \n",
    "main()"
   ]
  },
  {
   "cell_type": "code",
   "execution_count": 2,
   "metadata": {},
   "outputs": [
    {
     "name": "stdout",
     "output_type": "stream",
     "text": [
      "1,234\n",
      "12,345,678\n",
      "12\n"
     ]
    }
   ],
   "source": [
    "# 과제실습4 : 함수 - 과제2\n",
    "\n",
    "def add_comma(val):\n",
    "    \n",
    "    str_val = str(val)\n",
    "    comma_added_str = \"\"\n",
    "    index = 0\n",
    "    # string을 한글자씩 꺼내서 비교한다.\n",
    "    \n",
    "    for char in str_val:\n",
    "        comma_added_str += char\n",
    "        # 뒤에서부터 셌을 때, 세자리수면, \",\"를 붙인다.\n",
    "        if ((len(str_val)-index+2)%3 == 0):\n",
    "            comma_added_str +=\",\"\n",
    "        index += 1\n",
    "    # 마지막에 붙은 \",\"를 제외한 나머지를 return 한다.\n",
    "    return comma_added_str[:-1]\n",
    "\n",
    "\n",
    "def main():\n",
    "    comma_added_1234 = add_comma(1234)\n",
    "    comma_added_12345678 = add_comma(12345678)\n",
    "    comma_added_12 = add_comma(12)\n",
    "    print(comma_added_1234) # '1,234'\n",
    "    print(comma_added_12345678) # '12,345,678'\n",
    "    print(comma_added_12) # '12'\n",
    "    \n",
    "main()"
   ]
  },
  {
   "cell_type": "code",
   "execution_count": 51,
   "metadata": {},
   "outputs": [
    {
     "name": "stdout",
     "output_type": "stream",
     "text": [
      "['There', 'was', 'a', 'farmer', 'who', 'had', 'a', 'dog', '.']\n",
      "['There was', 'was a', 'a farmer', 'farmer who', 'who had', 'had a', 'a dog', 'dog .']\n"
     ]
    }
   ],
   "source": [
    "# 과제실습4 : 함수 - 과제3\n",
    "\n",
    "def tokenize(trg, N=1):\n",
    "    \n",
    "    splitted_string = trg.split(\" \")\n",
    "    temp_word_list = []\n",
    "    \n",
    "    # N이 늘어나면, 결과값의 len(단어열)가 len(splitted_string)-N+1 개임\n",
    "    for i in range(0, len(splitted_string)-N+1):\n",
    "        new_word= \"\"\n",
    "        # N=1이면, 단어 한 개만, N=2면, 단어 두개가 추가된다.\n",
    "        for j in range(N):\n",
    "            new_word += splitted_string[i+j] + \" \"\n",
    "        # 마지막에 생성되는 띄어쓰기를 제외한다.\n",
    "        temp_word_list.append(new_word[:-1])\n",
    "        \n",
    "    return temp_word_list\n",
    "    \n",
    "def main():\n",
    "    a = \"There was a farmer who had a dog .\"\n",
    "    print(tokenize(a))\n",
    "    print(tokenize(a,2))\n",
    "    \n",
    "main()"
   ]
  },
  {
   "cell_type": "code",
   "execution_count": 77,
   "metadata": {},
   "outputs": [
    {
     "name": "stdout",
     "output_type": "stream",
     "text": [
      "평균:  [0.5, 0.5]\n",
      "분산:  [0.16666666666666666, 0.16666666666666666]\n"
     ]
    }
   ],
   "source": [
    "# 과제실습4 : 함수 - 과제4\n",
    "\n",
    "import math\n",
    "\n",
    "def mean_and_var(*val):\n",
    "    \n",
    "    # mean 구하기\n",
    "    u_total = 0\n",
    "    v_total = 0\n",
    "    for i in range(len(val)):\n",
    "        u_total += val[i][0]\n",
    "        v_total += val[i][1]\n",
    "        \n",
    "    u_mean = u_total/len(val)\n",
    "    v_mean = v_total/len(val)\n",
    "    m = [u_mean, v_mean]\n",
    "    \n",
    "    # variance 구하기\n",
    "    u_sub_m_sqr_total = 0\n",
    "    v_sub_m_sqr_total = 0\n",
    "    for j in range(len(val)):\n",
    "        u_sub_m_sqr_total += (val[j][0]-m[0])**2\n",
    "        v_sub_m_sqr_total += (val[j][1]-m[1])**2\n",
    "    \n",
    "    u_variance = u_sub_m_sqr_total / (len(val))\n",
    "    v_variance = v_sub_m_sqr_total / (len(val))\n",
    "    var = [u_variance, v_variance]\n",
    "    \n",
    "    return m, var\n",
    "    \n",
    "def main():\n",
    "    v1=(0, 1)\n",
    "    v2=(0.5, 0.5)\n",
    "    v3=(1, 0)\n",
    "    m, var = mean_and_var(v1, v2, v3)\n",
    "    print('평균: ', m)\n",
    "    print('분산: ', var)\n",
    "    \n",
    "main()"
   ]
  },
  {
   "cell_type": "code",
   "execution_count": null,
   "metadata": {},
   "outputs": [],
   "source": []
  }
 ],
 "metadata": {
  "kernelspec": {
   "display_name": "Python 3",
   "language": "python",
   "name": "python3"
  },
  "language_info": {
   "codemirror_mode": {
    "name": "ipython",
    "version": 3
   },
   "file_extension": ".py",
   "mimetype": "text/x-python",
   "name": "python",
   "nbconvert_exporter": "python",
   "pygments_lexer": "ipython3",
   "version": "3.8.3"
  }
 },
 "nbformat": 4,
 "nbformat_minor": 4
}
